{
 "cells": [
  {
   "cell_type": "code",
   "execution_count": 65,
   "metadata": {
    "collapsed": true
   },
   "outputs": [],
   "source": [
    "import os\n",
    "import requests\n",
    "from dotenv import load_dotenv\n",
    "import pandas as pd\n",
    "import pycountry\n",
    "from geojson import FeatureCollection, dump"
   ]
  },
  {
   "cell_type": "code",
   "execution_count": 35,
   "outputs": [],
   "source": [
    "load_dotenv()\n",
    "TOKEN=os.getenv(\"MAPBOX_TOKEN\")\n",
    "countries = list(pd.read_csv(\"../output/processed/clean.csv\").country.unique())"
   ],
   "metadata": {
    "collapsed": false
   }
  },
  {
   "cell_type": "code",
   "execution_count": 36,
   "outputs": [
    {
     "data": {
      "text/plain": "['AD',\n 'AU',\n 'BY',\n 'BA',\n 'BR',\n 'BG',\n 'CV',\n 'CN',\n 'CR',\n 'HR',\n 'DO',\n 'EE',\n 'FI',\n 'FR',\n 'DE',\n 'GH',\n 'GT',\n 'HN',\n 'HU',\n 'IT',\n 'LV',\n 'LU',\n 'ML',\n 'MX',\n 'MZ',\n 'NL',\n 'NZ',\n 'NE',\n 'NO',\n 'PK',\n 'PL',\n 'PT',\n 'LC',\n 'SG',\n 'ES',\n 'SE',\n 'CH',\n 'TN',\n 'TR',\n 'AE',\n 'GB',\n 'VE',\n 'AR',\n 'AM',\n 'AT',\n 'BB',\n 'BE',\n 'CO',\n 'CU',\n 'CY',\n 'CZ',\n 'CD',\n 'DK',\n 'EG',\n 'GE',\n 'GR',\n 'GY',\n 'IS',\n 'ID',\n 'IE',\n 'IL',\n 'JO',\n 'KE',\n 'LB',\n 'LT',\n 'MY',\n 'MV',\n 'MT',\n 'MC',\n 'MM',\n 'NI',\n 'NG',\n 'OM',\n 'PE',\n 'PH',\n 'RO',\n 'RS',\n 'SK',\n 'SI',\n 'ZA',\n 'TH',\n 'TT',\n 'UA',\n 'DZ',\n 'AZ',\n 'BH',\n 'BD',\n 'CA',\n 'CI',\n 'SZ',\n 'JP',\n 'LS',\n 'ME',\n 'QA',\n 'MD',\n 'SR',\n 'UZ',\n 'VN',\n 'AL',\n 'BS',\n 'BJ',\n 'BN',\n 'JM',\n 'MR',\n 'RU',\n 'LK',\n 'PS',\n 'AF',\n 'ER',\n 'MW',\n 'MA',\n 'UY',\n 'SV',\n 'IQ',\n 'WS',\n 'TG',\n 'YE',\n 'DJ',\n 'GW',\n 'KZ',\n nan,\n 'PY',\n 'BO',\n 'IR',\n 'KG',\n 'PA',\n 'CL',\n 'LI',\n 'MU',\n 'EC',\n 'KR',\n 'SN',\n 'ZM',\n 'MN',\n 'PG',\n 'BW',\n 'KW']"
     },
     "execution_count": 36,
     "metadata": {},
     "output_type": "execute_result"
    }
   ],
   "source": [
    "countries"
   ],
   "metadata": {
    "collapsed": false
   }
  },
  {
   "cell_type": "code",
   "execution_count": 92,
   "outputs": [],
   "source": [
    "headers = {'Accept': 'application/json'}\n",
    "lst = []\n",
    "for i in countries:\n",
    "    if pd.notna(i):\n",
    "        obj = {}\n",
    "        obj[\"type\"]=\"Feature\"\n",
    "        obj[\"properties\"]={\"name\": pycountry.countries.get(alpha_2=i).name}\n",
    "        url = f\"https://api.mapbox.com/geocoding/v5/mapbox.places/{i}.json?&types=country&access_token={TOKEN}\"\n",
    "        r = requests.get(url)\n",
    "        jason = r.json()\n",
    "        obj[\"properties\"][\"code\"] = i.lower()\n",
    "        coords = jason[\"features\"][0][\"center\"]\n",
    "        coords.reverse()\n",
    "        obj[\"geometry\"] = {\"type\":\"Point\", \"coordinates\": coords}\n",
    "        lst.append(obj)\n"
   ],
   "metadata": {
    "collapsed": false
   }
  },
  {
   "cell_type": "code",
   "execution_count": 93,
   "outputs": [],
   "source": [
    "with open('../output/processed/countries.geojson', 'w') as f:\n",
    "    dump(FeatureCollection(lst), f)"
   ],
   "metadata": {
    "collapsed": false
   }
  }
 ],
 "metadata": {
  "kernelspec": {
   "display_name": "Python 3",
   "language": "python",
   "name": "python3"
  },
  "language_info": {
   "codemirror_mode": {
    "name": "ipython",
    "version": 2
   },
   "file_extension": ".py",
   "mimetype": "text/x-python",
   "name": "python",
   "nbconvert_exporter": "python",
   "pygments_lexer": "ipython2",
   "version": "2.7.6"
  }
 },
 "nbformat": 4,
 "nbformat_minor": 0
}
