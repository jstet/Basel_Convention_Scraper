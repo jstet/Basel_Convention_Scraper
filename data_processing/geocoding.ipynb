{
 "cells": [
  {
   "cell_type": "code",
   "execution_count": 36,
   "metadata": {
    "tags": []
   },
   "outputs": [],
   "source": [
    "import os\n",
    "import requests\n",
    "from dotenv import load_dotenv\n",
    "import pandas as pd\n",
    "import pycountry\n",
    "import pypopulation\n",
    "from geojson import FeatureCollection, dump\n",
    "import numpy as np\n",
    "import matplotlib.pyplot as plt\n",
    "from scipy.cluster.hierarchy import dendrogram, linkage\n",
    "from sklearn.cluster import AgglomerativeClustering\n",
    "from sklearn.neighbors import NearestCentroid\n",
    "from matplotlib.pyplot import figure"
   ]
  },
  {
   "cell_type": "code",
   "execution_count": 25,
   "metadata": {
    "collapsed": false,
    "jupyter": {
     "outputs_hidden": false
    }
   },
   "outputs": [],
   "source": [
    "load_dotenv()\n",
    "TOKEN=os.getenv(\"MAPBOX_TOKEN\")\n",
    "df = pd.read_csv(\"C:\\MASTER\\GIS\\Github\\Basel_Convention_Scraper/output/processed/clean.csv\") # ../output/processed/\n",
    "origins = list(df.origin.unique())\n",
    "destinations = list(df.destination.unique())"
   ]
  },
  {
   "cell_type": "code",
   "execution_count": 26,
   "metadata": {},
   "outputs": [
    {
     "name": "stdout",
     "output_type": "stream",
     "text": [
      "pk.eyJ1IjoianN0ZXQiLCJhIjoiY2xkN21oejZyMHdjZjNvcW13ZmI1M3E1cSJ9.AHpaXFoc0YOzTXco0RRKBQ\n"
     ]
    }
   ],
   "source": [
    "print(TOKEN)"
   ]
  },
  {
   "cell_type": "code",
   "execution_count": 27,
   "metadata": {
    "collapsed": false,
    "jupyter": {
     "outputs_hidden": false
    }
   },
   "outputs": [],
   "source": [
    "in_first = set(origins)\n",
    "in_second = set(destinations)\n",
    "in_second_but_not_in_first = in_second - in_first\n",
    "countries = origins + list(in_second_but_not_in_first)"
   ]
  },
  {
   "cell_type": "code",
   "execution_count": 28,
   "metadata": {
    "collapsed": false,
    "jupyter": {
     "outputs_hidden": false
    }
   },
   "outputs": [],
   "source": [
    "df = pd.DataFrame({\"country\":countries})"
   ]
  },
  {
   "cell_type": "code",
   "execution_count": 29,
   "metadata": {
    "collapsed": false,
    "jupyter": {
     "outputs_hidden": false
    }
   },
   "outputs": [],
   "source": [
    "headers = {'Accept': 'application/json'}\n",
    "lst = []\n",
    "for i in countries:\n",
    "    obj = {}\n",
    "    obj[\"type\"]=\"Feature\"\n",
    "    obj[\"properties\"]={\"name\": pycountry.countries.get(alpha_2=i).name}\n",
    "    pop = pypopulation.get_population_a2(i)\n",
    "    url = f\"https://api.mapbox.com/geocoding/v5/mapbox.places/{i}.json?&types=country&access_token={TOKEN}\"\n",
    "    r = requests.get(url)\n",
    "    jason = r.json()\n",
    "    obj[\"properties\"][\"code\"] = i.lower()\n",
    "    coords = jason[\"features\"][0][\"center\"]\n",
    "    obj[\"geometry\"] = {\"type\":\"Point\", \"coordinates\": coords}\n",
    "    lst.append(obj)\n",
    "    df.loc[df[\"country\"] == i, \"lat\"] = coords[0]\n",
    "    df.loc[df[\"country\"] == i, \"lon\"] = coords[1]\n",
    "    df.loc[df[\"country\"] == i, \"name\"] = obj[\"properties\"][\"name\"]\n",
    "    df.loc[df[\"country\"] == i, \"population\"] = pop"
   ]
  },
  {
   "cell_type": "code",
   "execution_count": 30,
   "metadata": {
    "collapsed": false,
    "jupyter": {
     "outputs_hidden": false
    }
   },
   "outputs": [],
   "source": [
    "with open('C:\\MASTER\\GIS\\Github\\Basel_Convention_Scraper/output/processed/countries.geojson', 'w') as f:\n",
    "    dump(FeatureCollection(lst), f)"
   ]
  },
  {
   "cell_type": "code",
   "execution_count": 31,
   "metadata": {
    "collapsed": false,
    "jupyter": {
     "outputs_hidden": false
    }
   },
   "outputs": [
    {
     "data": {
      "text/html": [
       "<div>\n",
       "<style scoped>\n",
       "    .dataframe tbody tr th:only-of-type {\n",
       "        vertical-align: middle;\n",
       "    }\n",
       "\n",
       "    .dataframe tbody tr th {\n",
       "        vertical-align: top;\n",
       "    }\n",
       "\n",
       "    .dataframe thead th {\n",
       "        text-align: right;\n",
       "    }\n",
       "</style>\n",
       "<table border=\"1\" class=\"dataframe\">\n",
       "  <thead>\n",
       "    <tr style=\"text-align: right;\">\n",
       "      <th></th>\n",
       "      <th>country</th>\n",
       "      <th>lat</th>\n",
       "      <th>lon</th>\n",
       "      <th>name</th>\n",
       "      <th>population</th>\n",
       "    </tr>\n",
       "  </thead>\n",
       "  <tbody>\n",
       "    <tr>\n",
       "      <th>0</th>\n",
       "      <td>ad</td>\n",
       "      <td>1.576766</td>\n",
       "      <td>42.548654</td>\n",
       "      <td>Andorra</td>\n",
       "      <td>77142</td>\n",
       "    </tr>\n",
       "    <tr>\n",
       "      <th>1</th>\n",
       "      <td>ae</td>\n",
       "      <td>10.525771</td>\n",
       "      <td>1.612130</td>\n",
       "      <td>United Arab Emirates</td>\n",
       "      <td>9770529</td>\n",
       "    </tr>\n",
       "    <tr>\n",
       "      <th>2</th>\n",
       "      <td>af</td>\n",
       "      <td>66.026471</td>\n",
       "      <td>33.838806</td>\n",
       "      <td>Afghanistan</td>\n",
       "      <td>38041754</td>\n",
       "    </tr>\n",
       "    <tr>\n",
       "      <th>3</th>\n",
       "      <td>al</td>\n",
       "      <td>2.632388</td>\n",
       "      <td>28.163240</td>\n",
       "      <td>Albania</td>\n",
       "      <td>2854191</td>\n",
       "    </tr>\n",
       "    <tr>\n",
       "      <th>4</th>\n",
       "      <td>am</td>\n",
       "      <td>-97.922211</td>\n",
       "      <td>39.381266</td>\n",
       "      <td>Armenia</td>\n",
       "      <td>2957731</td>\n",
       "    </tr>\n",
       "    <tr>\n",
       "      <th>...</th>\n",
       "      <td>...</td>\n",
       "      <td>...</td>\n",
       "      <td>...</td>\n",
       "      <td>...</td>\n",
       "      <td>...</td>\n",
       "    </tr>\n",
       "    <tr>\n",
       "      <th>150</th>\n",
       "      <td>as</td>\n",
       "      <td>-170.707833</td>\n",
       "      <td>-14.304405</td>\n",
       "      <td>American Samoa</td>\n",
       "      <td>55312</td>\n",
       "    </tr>\n",
       "    <tr>\n",
       "      <th>151</th>\n",
       "      <td>gi</td>\n",
       "      <td>-11.029862</td>\n",
       "      <td>10.785546</td>\n",
       "      <td>Gibraltar</td>\n",
       "      <td>33701</td>\n",
       "    </tr>\n",
       "    <tr>\n",
       "      <th>152</th>\n",
       "      <td>sa</td>\n",
       "      <td>44.652426</td>\n",
       "      <td>23.384784</td>\n",
       "      <td>Saudi Arabia</td>\n",
       "      <td>34268528</td>\n",
       "    </tr>\n",
       "    <tr>\n",
       "      <th>153</th>\n",
       "      <td>bf</td>\n",
       "      <td>-1.573062</td>\n",
       "      <td>12.277930</td>\n",
       "      <td>Burkina Faso</td>\n",
       "      <td>20321378</td>\n",
       "    </tr>\n",
       "    <tr>\n",
       "      <th>154</th>\n",
       "      <td>sd</td>\n",
       "      <td>30.049948</td>\n",
       "      <td>13.831539</td>\n",
       "      <td>Sudan</td>\n",
       "      <td>42813238</td>\n",
       "    </tr>\n",
       "  </tbody>\n",
       "</table>\n",
       "<p>155 rows × 5 columns</p>\n",
       "</div>"
      ],
      "text/plain": [
       "    country         lat        lon                  name  population\n",
       "0        ad    1.576766  42.548654               Andorra       77142\n",
       "1        ae   10.525771   1.612130  United Arab Emirates     9770529\n",
       "2        af   66.026471  33.838806           Afghanistan    38041754\n",
       "3        al    2.632388  28.163240               Albania     2854191\n",
       "4        am  -97.922211  39.381266               Armenia     2957731\n",
       "..      ...         ...        ...                   ...         ...\n",
       "150      as -170.707833 -14.304405        American Samoa       55312\n",
       "151      gi  -11.029862  10.785546             Gibraltar       33701\n",
       "152      sa   44.652426  23.384784          Saudi Arabia    34268528\n",
       "153      bf   -1.573062  12.277930          Burkina Faso    20321378\n",
       "154      sd   30.049948  13.831539                 Sudan    42813238\n",
       "\n",
       "[155 rows x 5 columns]"
      ]
     },
     "execution_count": 31,
     "metadata": {},
     "output_type": "execute_result"
    }
   ],
   "source": [
    "df['population'] = df['population'].fillna(0).astype(int)\n",
    "df"
   ]
  },
  {
   "cell_type": "code",
   "execution_count": 32,
   "metadata": {},
   "outputs": [
    {
     "data": {
      "text/html": [
       "<div>\n",
       "<style scoped>\n",
       "    .dataframe tbody tr th:only-of-type {\n",
       "        vertical-align: middle;\n",
       "    }\n",
       "\n",
       "    .dataframe tbody tr th {\n",
       "        vertical-align: top;\n",
       "    }\n",
       "\n",
       "    .dataframe thead th {\n",
       "        text-align: right;\n",
       "    }\n",
       "</style>\n",
       "<table border=\"1\" class=\"dataframe\">\n",
       "  <thead>\n",
       "    <tr style=\"text-align: right;\">\n",
       "      <th></th>\n",
       "      <th>country</th>\n",
       "      <th>lat</th>\n",
       "      <th>lon</th>\n",
       "      <th>name</th>\n",
       "      <th>population</th>\n",
       "    </tr>\n",
       "  </thead>\n",
       "  <tbody>\n",
       "    <tr>\n",
       "      <th>137</th>\n",
       "      <td>bl</td>\n",
       "      <td>28.046788</td>\n",
       "      <td>53.539998</td>\n",
       "      <td>Saint Barthélemy</td>\n",
       "      <td>10457</td>\n",
       "    </tr>\n",
       "  </tbody>\n",
       "</table>\n",
       "</div>"
      ],
      "text/plain": [
       "    country        lat        lon              name  population\n",
       "137      bl  28.046788  53.539998  Saint Barthélemy       10457"
      ]
     },
     "execution_count": 32,
     "metadata": {},
     "output_type": "execute_result"
    }
   ],
   "source": [
    "df.loc[137, 'population'] = 10457\n",
    "df.loc[df.index==137] "
   ]
  },
  {
   "cell_type": "code",
   "execution_count": 33,
   "metadata": {},
   "outputs": [],
   "source": [
    "X = df[[\"lat\",\"lon\"]]"
   ]
  },
  {
   "cell_type": "code",
   "execution_count": 34,
   "metadata": {},
   "outputs": [
    {
     "data": {
      "text/html": [
       "<div>\n",
       "<style scoped>\n",
       "    .dataframe tbody tr th:only-of-type {\n",
       "        vertical-align: middle;\n",
       "    }\n",
       "\n",
       "    .dataframe tbody tr th {\n",
       "        vertical-align: top;\n",
       "    }\n",
       "\n",
       "    .dataframe thead th {\n",
       "        text-align: right;\n",
       "    }\n",
       "</style>\n",
       "<table border=\"1\" class=\"dataframe\">\n",
       "  <thead>\n",
       "    <tr style=\"text-align: right;\">\n",
       "      <th></th>\n",
       "      <th>lat</th>\n",
       "      <th>lon</th>\n",
       "    </tr>\n",
       "  </thead>\n",
       "  <tbody>\n",
       "    <tr>\n",
       "      <th>0</th>\n",
       "      <td>1.576766</td>\n",
       "      <td>42.548654</td>\n",
       "    </tr>\n",
       "    <tr>\n",
       "      <th>1</th>\n",
       "      <td>10.525771</td>\n",
       "      <td>1.612130</td>\n",
       "    </tr>\n",
       "    <tr>\n",
       "      <th>2</th>\n",
       "      <td>66.026471</td>\n",
       "      <td>33.838806</td>\n",
       "    </tr>\n",
       "    <tr>\n",
       "      <th>3</th>\n",
       "      <td>2.632388</td>\n",
       "      <td>28.163240</td>\n",
       "    </tr>\n",
       "    <tr>\n",
       "      <th>4</th>\n",
       "      <td>-97.922211</td>\n",
       "      <td>39.381266</td>\n",
       "    </tr>\n",
       "    <tr>\n",
       "      <th>...</th>\n",
       "      <td>...</td>\n",
       "      <td>...</td>\n",
       "    </tr>\n",
       "    <tr>\n",
       "      <th>150</th>\n",
       "      <td>-170.707833</td>\n",
       "      <td>-14.304405</td>\n",
       "    </tr>\n",
       "    <tr>\n",
       "      <th>151</th>\n",
       "      <td>-11.029862</td>\n",
       "      <td>10.785546</td>\n",
       "    </tr>\n",
       "    <tr>\n",
       "      <th>152</th>\n",
       "      <td>44.652426</td>\n",
       "      <td>23.384784</td>\n",
       "    </tr>\n",
       "    <tr>\n",
       "      <th>153</th>\n",
       "      <td>-1.573062</td>\n",
       "      <td>12.277930</td>\n",
       "    </tr>\n",
       "    <tr>\n",
       "      <th>154</th>\n",
       "      <td>30.049948</td>\n",
       "      <td>13.831539</td>\n",
       "    </tr>\n",
       "  </tbody>\n",
       "</table>\n",
       "<p>155 rows × 2 columns</p>\n",
       "</div>"
      ],
      "text/plain": [
       "            lat        lon\n",
       "0      1.576766  42.548654\n",
       "1     10.525771   1.612130\n",
       "2     66.026471  33.838806\n",
       "3      2.632388  28.163240\n",
       "4    -97.922211  39.381266\n",
       "..          ...        ...\n",
       "150 -170.707833 -14.304405\n",
       "151  -11.029862  10.785546\n",
       "152   44.652426  23.384784\n",
       "153   -1.573062  12.277930\n",
       "154   30.049948  13.831539\n",
       "\n",
       "[155 rows x 2 columns]"
      ]
     },
     "execution_count": 34,
     "metadata": {},
     "output_type": "execute_result"
    }
   ],
   "source": [
    "X"
   ]
  },
  {
   "cell_type": "code",
   "execution_count": 35,
   "metadata": {},
   "outputs": [
    {
     "ename": "TypeError",
     "evalue": "__init__() got an unexpected keyword argument 'metric'",
     "output_type": "error",
     "traceback": [
      "\u001b[1;31m---------------------------------------------------------------------------\u001b[0m",
      "\u001b[1;31mTypeError\u001b[0m                                 Traceback (most recent call last)",
      "Input \u001b[1;32mIn [35]\u001b[0m, in \u001b[0;36m<cell line: 1>\u001b[1;34m()\u001b[0m\n\u001b[1;32m----> 1\u001b[0m hierarchical_cluster \u001b[38;5;241m=\u001b[39m \u001b[43mAgglomerativeClustering\u001b[49m\u001b[43m(\u001b[49m\u001b[43mn_clusters\u001b[49m\u001b[38;5;241;43m=\u001b[39;49m\u001b[38;5;241;43m15\u001b[39;49m\u001b[43m,\u001b[49m\u001b[43m \u001b[49m\u001b[43mmetric\u001b[49m\u001b[38;5;241;43m=\u001b[39;49m\u001b[38;5;124;43m'\u001b[39;49m\u001b[38;5;124;43meuclidean\u001b[39;49m\u001b[38;5;124;43m'\u001b[39;49m\u001b[43m,\u001b[49m\u001b[43m \u001b[49m\u001b[43mlinkage\u001b[49m\u001b[38;5;241;43m=\u001b[39;49m\u001b[38;5;124;43m'\u001b[39;49m\u001b[38;5;124;43mward\u001b[39;49m\u001b[38;5;124;43m'\u001b[39;49m\u001b[43m)\u001b[49m\n\u001b[0;32m      2\u001b[0m labels \u001b[38;5;241m=\u001b[39m hierarchical_cluster\u001b[38;5;241m.\u001b[39mfit_predict(X)\n\u001b[0;32m      3\u001b[0m clf \u001b[38;5;241m=\u001b[39m NearestCentroid()\n",
      "\u001b[1;31mTypeError\u001b[0m: __init__() got an unexpected keyword argument 'metric'"
     ]
    }
   ],
   "source": [
    "hierarchical_cluster = AgglomerativeClustering(n_clusters=15, metric='euclidean', linkage='ward')\n",
    "labels = hierarchical_cluster.fit_predict(X)\n",
    "clf = NearestCentroid()\n",
    "clf.fit(X, labels)\n",
    "plt.scatter(X[\"lat\"], X.lon, c=labels)\n",
    "plt.show()"
   ]
  },
  {
   "cell_type": "code",
   "execution_count": null,
   "metadata": {},
   "outputs": [],
   "source": [
    "print(len(clf.centroids_))\n",
    "print(max(labels))\n",
    "print(len(X))"
   ]
  },
  {
   "cell_type": "code",
   "execution_count": null,
   "metadata": {},
   "outputs": [],
   "source": [
    "lst = []\n",
    "s = len(X)\n",
    "# 6 zoom levels\n",
    "for i in range(6):\n",
    "    s -= 23\n",
    "    lst.append(s)\n",
    "lst"
   ]
  },
  {
   "cell_type": "code",
   "execution_count": null,
   "metadata": {},
   "outputs": [],
   "source": [
    "def func(x,y):\n",
    "    return y[x-1]"
   ]
  },
  {
   "cell_type": "code",
   "execution_count": null,
   "metadata": {},
   "outputs": [],
   "source": [
    "for count,i in enumerate(lst):\n",
    "    hierarchical_cluster = AgglomerativeClustering(n_clusters=i, metric='euclidean', linkage='ward')\n",
    "    labels = hierarchical_cluster.fit_predict(X)\n",
    "    clf = NearestCentroid()\n",
    "    clf.fit(X, labels)\n",
    "    df[\"temp\"] = labels\n",
    "    df[f\"lvl_{count+1}\"] = df.apply(lambda x: func(x[\"temp\"], clf.centroids_), axis=1)\n"
   ]
  },
  {
   "cell_type": "code",
   "execution_count": null,
   "metadata": {},
   "outputs": [],
   "source": [
    "def func(x,y):\n",
    "    return [x,y]\n",
    "df[0] = df.apply(lambda x: func(x[\"lat\"], x[\"lon\"]), axis=1)\n",
    "df.drop([\"temp\"], inplace=True, axis=1)\n",
    "df"
   ]
  },
  {
   "cell_type": "code",
   "execution_count": null,
   "metadata": {},
   "outputs": [],
   "source": []
  },
  {
   "cell_type": "code",
   "execution_count": null,
   "metadata": {},
   "outputs": [],
   "source": []
  },
  {
   "cell_type": "code",
   "execution_count": 23,
   "metadata": {
    "collapsed": false,
    "jupyter": {
     "outputs_hidden": false
    }
   },
   "outputs": [],
   "source": [
    "df.to_csv(\"C:\\MASTER\\GIS\\Github\\Basel_Convention_Scraper/output/processed/coords.csv\", index=False)"
   ]
  }
 ],
 "metadata": {
  "kernelspec": {
   "display_name": "Python 3 (ipykernel)",
   "language": "python",
   "name": "python3"
  },
  "language_info": {
   "codemirror_mode": {
    "name": "ipython",
    "version": 3
   },
   "file_extension": ".py",
   "mimetype": "text/x-python",
   "name": "python",
   "nbconvert_exporter": "python",
   "pygments_lexer": "ipython3",
   "version": "3.8.8"
  }
 },
 "nbformat": 4,
 "nbformat_minor": 4
}
