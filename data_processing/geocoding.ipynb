{
 "cells": [
  {
   "cell_type": "code",
   "execution_count": 1,
   "metadata": {
    "collapsed": true
   },
   "outputs": [],
   "source": [
    "import os\n",
    "import requests\n",
    "from dotenv import load_dotenv\n",
    "import pandas as pd\n",
    "import pycountry\n",
    "from geojson import FeatureCollection, dump"
   ]
  },
  {
   "cell_type": "code",
   "execution_count": 18,
   "outputs": [],
   "source": [
    "load_dotenv()\n",
    "TOKEN=os.getenv(\"MAPBOX_TOKEN\")\n",
    "df = pd.read_csv(\"../output/processed/clean.csv\")\n",
    "origins = list(df.origin.unique())\n",
    "destinations = list(df.destination.unique())"
   ],
   "metadata": {
    "collapsed": false
   }
  },
  {
   "cell_type": "code",
   "execution_count": 19,
   "outputs": [],
   "source": [
    "in_first = set(origins)\n",
    "in_second = set(destinations)\n",
    "in_second_but_not_in_first = in_second - in_first\n",
    "countries = origins + list(in_second_but_not_in_first)"
   ],
   "metadata": {
    "collapsed": false
   }
  },
  {
   "cell_type": "code",
   "execution_count": 20,
   "outputs": [],
   "source": [
    "df = pd.DataFrame({\"country\":countries})"
   ],
   "metadata": {
    "collapsed": false
   }
  },
  {
   "cell_type": "code",
   "execution_count": 21,
   "outputs": [],
   "source": [
    "headers = {'Accept': 'application/json'}\n",
    "lst = []\n",
    "for i in countries:\n",
    "    obj = {}\n",
    "    obj[\"type\"]=\"Feature\"\n",
    "    obj[\"properties\"]={\"name\": pycountry.countries.get(alpha_2=i).name}\n",
    "    url = f\"https://api.mapbox.com/geocoding/v5/mapbox.places/{i}.json?&types=country&access_token={TOKEN}\"\n",
    "    r = requests.get(url)\n",
    "    jason = r.json()\n",
    "    obj[\"properties\"][\"code\"] = i.lower()\n",
    "    coords = jason[\"features\"][0][\"center\"]\n",
    "    obj[\"geometry\"] = {\"type\":\"Point\", \"coordinates\": coords}\n",
    "    lst.append(obj)\n",
    "    df.loc[df[\"country\"] == i, \"lat\"]=coords[0]\n",
    "    df.loc[df[\"country\"] == i, \"lon\"]=coords[1]"
   ],
   "metadata": {
    "collapsed": false
   }
  },
  {
   "cell_type": "code",
   "execution_count": 22,
   "outputs": [],
   "source": [
    "with open('../output/processed/countries.geojson', 'w') as f:\n",
    "    dump(FeatureCollection(lst), f)"
   ],
   "metadata": {
    "collapsed": false
   }
  },
  {
   "cell_type": "code",
   "execution_count": 23,
   "outputs": [
    {
     "data": {
      "text/plain": "    country         lat        lon\n0        ad    1.576766  42.548654\n1        au  134.489563 -25.734968\n2        by   28.046788  53.539998\n3        ba   50.559644  26.022407\n4        br  -51.619789  -9.588903\n..      ...         ...        ...\n150      gi  -11.029862  10.785546\n151      us  -97.922211  39.381266\n152      et   39.616032   8.626220\n153      tj   71.042004  38.838508\n154      ss   30.054890   7.265386\n\n[155 rows x 3 columns]",
      "text/html": "<div>\n<style scoped>\n    .dataframe tbody tr th:only-of-type {\n        vertical-align: middle;\n    }\n\n    .dataframe tbody tr th {\n        vertical-align: top;\n    }\n\n    .dataframe thead th {\n        text-align: right;\n    }\n</style>\n<table border=\"1\" class=\"dataframe\">\n  <thead>\n    <tr style=\"text-align: right;\">\n      <th></th>\n      <th>country</th>\n      <th>lat</th>\n      <th>lon</th>\n    </tr>\n  </thead>\n  <tbody>\n    <tr>\n      <th>0</th>\n      <td>ad</td>\n      <td>1.576766</td>\n      <td>42.548654</td>\n    </tr>\n    <tr>\n      <th>1</th>\n      <td>au</td>\n      <td>134.489563</td>\n      <td>-25.734968</td>\n    </tr>\n    <tr>\n      <th>2</th>\n      <td>by</td>\n      <td>28.046788</td>\n      <td>53.539998</td>\n    </tr>\n    <tr>\n      <th>3</th>\n      <td>ba</td>\n      <td>50.559644</td>\n      <td>26.022407</td>\n    </tr>\n    <tr>\n      <th>4</th>\n      <td>br</td>\n      <td>-51.619789</td>\n      <td>-9.588903</td>\n    </tr>\n    <tr>\n      <th>...</th>\n      <td>...</td>\n      <td>...</td>\n      <td>...</td>\n    </tr>\n    <tr>\n      <th>150</th>\n      <td>gi</td>\n      <td>-11.029862</td>\n      <td>10.785546</td>\n    </tr>\n    <tr>\n      <th>151</th>\n      <td>us</td>\n      <td>-97.922211</td>\n      <td>39.381266</td>\n    </tr>\n    <tr>\n      <th>152</th>\n      <td>et</td>\n      <td>39.616032</td>\n      <td>8.626220</td>\n    </tr>\n    <tr>\n      <th>153</th>\n      <td>tj</td>\n      <td>71.042004</td>\n      <td>38.838508</td>\n    </tr>\n    <tr>\n      <th>154</th>\n      <td>ss</td>\n      <td>30.054890</td>\n      <td>7.265386</td>\n    </tr>\n  </tbody>\n</table>\n<p>155 rows × 3 columns</p>\n</div>"
     },
     "execution_count": 23,
     "metadata": {},
     "output_type": "execute_result"
    }
   ],
   "source": [
    "df"
   ],
   "metadata": {
    "collapsed": false
   }
  },
  {
   "cell_type": "code",
   "execution_count": 24,
   "outputs": [],
   "source": [
    "df.to_csv(\"../output/processed/coords.csv\", index=False)"
   ],
   "metadata": {
    "collapsed": false
   }
  }
 ],
 "metadata": {
  "kernelspec": {
   "display_name": "Python 3",
   "language": "python",
   "name": "python3"
  },
  "language_info": {
   "codemirror_mode": {
    "name": "ipython",
    "version": 2
   },
   "file_extension": ".py",
   "mimetype": "text/x-python",
   "name": "python",
   "nbconvert_exporter": "python",
   "pygments_lexer": "ipython2",
   "version": "2.7.6"
  }
 },
 "nbformat": 4,
 "nbformat_minor": 0
}
