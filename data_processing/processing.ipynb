{
 "cells": [
  {
   "cell_type": "code",
   "execution_count": 16,
   "metadata": {
    "collapsed": true
   },
   "outputs": [],
   "source": [
    "import pandas as pd\n",
    "import pycountry"
   ]
  },
  {
   "cell_type": "code",
   "execution_count": 22,
   "outputs": [
    {
     "name": "stderr",
     "output_type": "stream",
     "text": [
      "/tmp/ipykernel_46610/3032554876.py:1: DtypeWarning: Columns (5,12,13,14,15,16,17) have mixed types. Specify dtype option on import or set low_memory=False.\n",
      "  df = pd.read_csv(\"../output/exports.csv\")[[\"country\", \"country_of_destination\", \"year\",\"annex_3\", \"annex_4_a\", \"annex_4_b\", \"amount\"]]\n"
     ]
    }
   ],
   "source": [
    "df = pd.read_csv(\"../output/exports.csv\")[[\"country\", \"country_of_destination\", \"year\",\"annex_3\", \"annex_4_a\", \"annex_4_b\", \"amount\"]]"
   ],
   "metadata": {
    "collapsed": false
   }
  },
  {
   "cell_type": "code",
   "execution_count": 23,
   "outputs": [],
   "source": [
    "def func(x):\n",
    "    try:\n",
    "        # removing whitespace so country names get recognized properly\n",
    "        temp = x.strip()\n",
    "        temp = pycountry.countries.get(alpha_2=temp).name\n",
    "        return temp\n",
    "    except:\n",
    "        return x\n",
    "\n",
    "df[\"country_of_destination\"] = df[\"country_of_destination\"].apply(func)"
   ],
   "metadata": {
    "collapsed": false
   }
  },
  {
   "cell_type": "code",
   "execution_count": 27,
   "outputs": [
    {
     "data": {
      "text/plain": "      country country_of_destination  year      annex_3 annex_4_a  \\\n35532     NaN                    D10  2014     H6.1,H12       NaN   \n35533     NaN                    D10  2014     H6.1,H12       NaN   \n35534     NaN                    D10  2014     H6.1,H12       NaN   \n35536     NaN                    D10  2014     H6.1,H12       NaN   \n35537     NaN                    D10  2014     H6.1,H12       NaN   \n...       ...                    ...   ...          ...       ...   \n40711     NaN                    D10  2008          NaN       NaN   \n40719     NaN                    D10  2008  H6.1,H12,H3       NaN   \n40720     NaN                    D10  2008  H3,H6.1,H12       NaN   \n40764     NaN                    D10  2008  H3,H6.1,H12       NaN   \n40766     NaN                    D10  2008      H11,H12       NaN   \n\n                                annex_4_b                      amount  \n35532                           Australia                          FI  \n35533                           Australia                          SE  \n35534                           Australia                         NaN  \n35536                           Australia                          FI  \n35537                           Australia                          FI  \n...                                   ...                         ...  \n40711                            Portugal                       ES,FR  \n40719                United Arab Emirates  OM,SA,EG,MA,ES,GB,BE,NL,DE  \n40720                United Arab Emirates  OM,SA,MA,EG,ES,GB,BE,DE,NL  \n40764                United Arab Emirates  OM,SA,EG,MA,ES,GB,BE,NL,DE  \n40766  Venezuela (Bolivarian Republic of)                         NaN  \n\n[1530 rows x 7 columns]",
      "text/html": "<div>\n<style scoped>\n    .dataframe tbody tr th:only-of-type {\n        vertical-align: middle;\n    }\n\n    .dataframe tbody tr th {\n        vertical-align: top;\n    }\n\n    .dataframe thead th {\n        text-align: right;\n    }\n</style>\n<table border=\"1\" class=\"dataframe\">\n  <thead>\n    <tr style=\"text-align: right;\">\n      <th></th>\n      <th>country</th>\n      <th>country_of_destination</th>\n      <th>year</th>\n      <th>annex_3</th>\n      <th>annex_4_a</th>\n      <th>annex_4_b</th>\n      <th>amount</th>\n    </tr>\n  </thead>\n  <tbody>\n    <tr>\n      <th>35532</th>\n      <td>NaN</td>\n      <td>D10</td>\n      <td>2014</td>\n      <td>H6.1,H12</td>\n      <td>NaN</td>\n      <td>Australia</td>\n      <td>FI</td>\n    </tr>\n    <tr>\n      <th>35533</th>\n      <td>NaN</td>\n      <td>D10</td>\n      <td>2014</td>\n      <td>H6.1,H12</td>\n      <td>NaN</td>\n      <td>Australia</td>\n      <td>SE</td>\n    </tr>\n    <tr>\n      <th>35534</th>\n      <td>NaN</td>\n      <td>D10</td>\n      <td>2014</td>\n      <td>H6.1,H12</td>\n      <td>NaN</td>\n      <td>Australia</td>\n      <td>NaN</td>\n    </tr>\n    <tr>\n      <th>35536</th>\n      <td>NaN</td>\n      <td>D10</td>\n      <td>2014</td>\n      <td>H6.1,H12</td>\n      <td>NaN</td>\n      <td>Australia</td>\n      <td>FI</td>\n    </tr>\n    <tr>\n      <th>35537</th>\n      <td>NaN</td>\n      <td>D10</td>\n      <td>2014</td>\n      <td>H6.1,H12</td>\n      <td>NaN</td>\n      <td>Australia</td>\n      <td>FI</td>\n    </tr>\n    <tr>\n      <th>...</th>\n      <td>...</td>\n      <td>...</td>\n      <td>...</td>\n      <td>...</td>\n      <td>...</td>\n      <td>...</td>\n      <td>...</td>\n    </tr>\n    <tr>\n      <th>40711</th>\n      <td>NaN</td>\n      <td>D10</td>\n      <td>2008</td>\n      <td>NaN</td>\n      <td>NaN</td>\n      <td>Portugal</td>\n      <td>ES,FR</td>\n    </tr>\n    <tr>\n      <th>40719</th>\n      <td>NaN</td>\n      <td>D10</td>\n      <td>2008</td>\n      <td>H6.1,H12,H3</td>\n      <td>NaN</td>\n      <td>United Arab Emirates</td>\n      <td>OM,SA,EG,MA,ES,GB,BE,NL,DE</td>\n    </tr>\n    <tr>\n      <th>40720</th>\n      <td>NaN</td>\n      <td>D10</td>\n      <td>2008</td>\n      <td>H3,H6.1,H12</td>\n      <td>NaN</td>\n      <td>United Arab Emirates</td>\n      <td>OM,SA,MA,EG,ES,GB,BE,DE,NL</td>\n    </tr>\n    <tr>\n      <th>40764</th>\n      <td>NaN</td>\n      <td>D10</td>\n      <td>2008</td>\n      <td>H3,H6.1,H12</td>\n      <td>NaN</td>\n      <td>United Arab Emirates</td>\n      <td>OM,SA,EG,MA,ES,GB,BE,NL,DE</td>\n    </tr>\n    <tr>\n      <th>40766</th>\n      <td>NaN</td>\n      <td>D10</td>\n      <td>2008</td>\n      <td>H11,H12</td>\n      <td>NaN</td>\n      <td>Venezuela (Bolivarian Republic of)</td>\n      <td>NaN</td>\n    </tr>\n  </tbody>\n</table>\n<p>1530 rows × 7 columns</p>\n</div>"
     },
     "execution_count": 27,
     "metadata": {},
     "output_type": "execute_result"
    }
   ],
   "source": [
    "df.loc[(df.country_of_destination == \"D10\")]"
   ],
   "metadata": {
    "collapsed": false
   }
  }
 ],
 "metadata": {
  "kernelspec": {
   "display_name": "Python 3",
   "language": "python",
   "name": "python3"
  },
  "language_info": {
   "codemirror_mode": {
    "name": "ipython",
    "version": 2
   },
   "file_extension": ".py",
   "mimetype": "text/x-python",
   "name": "python",
   "nbconvert_exporter": "python",
   "pygments_lexer": "ipython2",
   "version": "2.7.6"
  }
 },
 "nbformat": 4,
 "nbformat_minor": 0
}
