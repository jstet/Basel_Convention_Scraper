{
 "cells": [
  {
   "cell_type": "code",
   "execution_count": 179,
   "metadata": {
    "collapsed": true
   },
   "outputs": [],
   "source": [
    "import pandas as pd\n",
    "import pycountry\n",
    "import numpy as np\n",
    "import re"
   ]
  },
  {
   "cell_type": "code",
   "execution_count": 180,
   "outputs": [
    {
     "name": "stderr",
     "output_type": "stream",
     "text": [
      "/tmp/ipykernel_61946/3925779474.py:1: DtypeWarning: Columns (0,1,2,3,5,12,13,14,15,16) have mixed types. Specify dtype option on import or set low_memory=False.\n",
      "  df = pd.read_csv(\"../output/exports.csv\")[[\"country\", \"country_of_destination\", \"year\",\"annex_3\", \"annex_4_a\", \"annex_4_b\", \"amount\"]]\n"
     ]
    },
    {
     "name": "stdout",
     "output_type": "stream",
     "text": [
      "<class 'pandas.core.frame.DataFrame'>\n",
      "RangeIndex: 94025 entries, 0 to 94024\n",
      "Data columns (total 7 columns):\n",
      " #   Column                  Non-Null Count  Dtype \n",
      "---  ------                  --------------  ----- \n",
      " 0   country                 94025 non-null  object\n",
      " 1   country_of_destination  93982 non-null  object\n",
      " 2   year                    94025 non-null  int64 \n",
      " 3   annex_3                 61801 non-null  object\n",
      " 4   annex_4_a               29088 non-null  object\n",
      " 5   annex_4_b               65992 non-null  object\n",
      " 6   amount                  93990 non-null  object\n",
      "dtypes: int64(1), object(6)\n",
      "memory usage: 5.0+ MB\n"
     ]
    }
   ],
   "source": [
    "df = pd.read_csv(\"../output/exports.csv\")[[\"country\", \"country_of_destination\", \"year\",\"annex_3\", \"annex_4_a\", \"annex_4_b\", \"amount\"]]\n",
    "df.info()\n",
    "initial_len = len(df)"
   ],
   "metadata": {
    "collapsed": false
   }
  },
  {
   "cell_type": "code",
   "execution_count": 181,
   "outputs": [],
   "source": [
    "missing = df.isna().sum()\n",
    "missing_value_df = pd.DataFrame({'column_name': df.columns,\n",
    "                                 'missing': missing})\n",
    "\n",
    "initial_annex_3 = int(missing_value_df.iloc[[3]].missing)"
   ],
   "metadata": {
    "collapsed": false
   }
  },
  {
   "cell_type": "markdown",
   "source": [
    "## Normalizing country names\n",
    "### Converting country name to its alpha 2 code (https://en.wikipedia.org/wiki/ISO_3166-1)"
   ],
   "metadata": {
    "collapsed": false
   }
  },
  {
   "cell_type": "code",
   "execution_count": 182,
   "outputs": [],
   "source": [
    "def func(x):\n",
    "    # -- Cleaning and formatting country name strings to get recognized by pycountry --\n",
    "    # removing whitespace from beginning and end so country names get recognized properly\n",
    "    temp = x.strip()\n",
    "    # e.g. \"Venezuela (Bolivarian Republic of) -> \"Venezuela, Bolivarian Republic of\"\n",
    "    temp = temp.replace(\" (\",\", \").replace(\")\",\"\")\n",
    "    # Côte d´Ivoire --> Côte d'Ivoire\n",
    "    temp = temp.replace(\"´\", \"'\")\n",
    "    # Handling\n",
    "    if temp == \"United Kingdom of Great Britain and Northern Ireland\":\n",
    "        temp = \"United Kingdom\"\n",
    "    if temp == \"Türkiye\":\n",
    "        temp = \"Turkey\"\n",
    "    if temp == \"Swaziland\":\n",
    "        temp = \"Eswatini\"\n",
    "    if temp == \"Republic of Moldova\":\n",
    "        temp = \"Moldova, Republic of\"\n",
    "    if temp == \"Democratic Republic of the Congo\" or temp == \"Congo, Democratic Republic of the\" or temp == \"Congo, Republic of the\":\n",
    "        temp = \"Congo, The Democratic Republic of the\"\n",
    "    if temp == \"State of Palestine\":\n",
    "        temp = \"Palestine, State of\"\n",
    "    if temp == \"Bolivia\":\n",
    "        temp = \"Bolivia, Plurinational State of\"\n",
    "     # -- Converting country name to alpha_2 code, which is what the other columns use --\n",
    "    return pycountry.countries.get(name=temp).alpha_2\n",
    "\n",
    "df[\"country\"] = df[\"country\"].apply(func)"
   ],
   "metadata": {
    "collapsed": false
   }
  },
  {
   "cell_type": "markdown",
   "source": [
    "### Checking if alpha 2 codes of other columns are correct"
   ],
   "metadata": {
    "collapsed": false
   }
  },
  {
   "cell_type": "code",
   "execution_count": 183,
   "outputs": [
    {
     "name": "stdout",
     "output_type": "stream",
     "text": [
      "A\n",
      "A\n",
      "A\n",
      "A\n",
      "A\n",
      "A\n",
      "HL\n",
      "HL\n",
      "HL\n",
      "HL\n",
      "HL\n",
      "CS\n",
      "HL\n",
      "HL\n",
      "HL\n",
      "HL\n",
      "SP\n",
      "SP\n",
      "ЕЕ\n",
      "ВЕ\n",
      "ΒΕ\n",
      "ВЕ\n",
      "F\n",
      "F\n",
      "GB,B\n",
      "GB,B\n",
      "GB,B\n",
      "GB,B\n",
      "GB,B\n",
      "TR,D\n",
      "BY,D\n",
      "Eire\n",
      "YU\n"
     ]
    }
   ],
   "source": [
    "def check(x):\n",
    "    if not pd.isna(x):\n",
    "        temp = x.strip()\n",
    "        if temp == \"\":\n",
    "            return np.nan\n",
    "        temp = \"\".join([ c if c.isalnum() else \"\" for c in temp ])\n",
    "        if temp == \"UK\":\n",
    "            temp = \"GB\"\n",
    "        country = pycountry.countries.get(alpha_2=temp)\n",
    "        if country is None:\n",
    "            country = pycountry.countries.get(alpha_3=temp)\n",
    "            if country is None:\n",
    "                # There are still some invalid values left. We treat them as typos and therefore as nan, because we cannot infer the code that the official wanted to enter\n",
    "                print(x)\n",
    "                return np.nan\n",
    "            else:\n",
    "                return country.alpha_2\n",
    "        else:\n",
    "            return x\n",
    "    else:\n",
    "        return np.nan\n",
    "\n",
    "df[\"country_of_destination\"] = df[\"country_of_destination\"].apply(check)"
   ],
   "metadata": {
    "collapsed": false
   }
  },
  {
   "cell_type": "code",
   "execution_count": 184,
   "outputs": [
    {
     "data": {
      "text/plain": "      country country_of_destination  year                   annex_3  \\\n92         BG                     FR  2021                        H8   \n108        BG                     FR  2021  H4.2,H11,H12,H13,H8,H6.1   \n210        HR                     FR  2021                        H8   \n211        HR                     FR  2021                        H8   \n313        FI                     FR  2021                   H11,H12   \n...       ...                    ...   ...                       ...   \n93995      GB                     FR  2001                       H12   \n93996      GB                     FR  2001                       H12   \n94012      GB                     FR  2001                       H12   \n94015      GB                     FR  2001                        H3   \n94016      GB                     FR  2001                        H3   \n\n      annex_4_a annex_4_b     amount  \n92          NaN        R4        3.5  \n108         NaN     R4,R8    791.776  \n210         NaN        R4      46.63  \n211         NaN        R4     22.768  \n313         NaN        R4  20722.198  \n...         ...       ...        ...  \n93995       NaN        R4      53.49  \n93996       NaN     R3,R4     171.42  \n94012       NaN        R4      20.83  \n94015       NaN        R2     558.64  \n94016       NaN        R2     192.78  \n\n[7176 rows x 7 columns]",
      "text/html": "<div>\n<style scoped>\n    .dataframe tbody tr th:only-of-type {\n        vertical-align: middle;\n    }\n\n    .dataframe tbody tr th {\n        vertical-align: top;\n    }\n\n    .dataframe thead th {\n        text-align: right;\n    }\n</style>\n<table border=\"1\" class=\"dataframe\">\n  <thead>\n    <tr style=\"text-align: right;\">\n      <th></th>\n      <th>country</th>\n      <th>country_of_destination</th>\n      <th>year</th>\n      <th>annex_3</th>\n      <th>annex_4_a</th>\n      <th>annex_4_b</th>\n      <th>amount</th>\n    </tr>\n  </thead>\n  <tbody>\n    <tr>\n      <th>92</th>\n      <td>BG</td>\n      <td>FR</td>\n      <td>2021</td>\n      <td>H8</td>\n      <td>NaN</td>\n      <td>R4</td>\n      <td>3.5</td>\n    </tr>\n    <tr>\n      <th>108</th>\n      <td>BG</td>\n      <td>FR</td>\n      <td>2021</td>\n      <td>H4.2,H11,H12,H13,H8,H6.1</td>\n      <td>NaN</td>\n      <td>R4,R8</td>\n      <td>791.776</td>\n    </tr>\n    <tr>\n      <th>210</th>\n      <td>HR</td>\n      <td>FR</td>\n      <td>2021</td>\n      <td>H8</td>\n      <td>NaN</td>\n      <td>R4</td>\n      <td>46.63</td>\n    </tr>\n    <tr>\n      <th>211</th>\n      <td>HR</td>\n      <td>FR</td>\n      <td>2021</td>\n      <td>H8</td>\n      <td>NaN</td>\n      <td>R4</td>\n      <td>22.768</td>\n    </tr>\n    <tr>\n      <th>313</th>\n      <td>FI</td>\n      <td>FR</td>\n      <td>2021</td>\n      <td>H11,H12</td>\n      <td>NaN</td>\n      <td>R4</td>\n      <td>20722.198</td>\n    </tr>\n    <tr>\n      <th>...</th>\n      <td>...</td>\n      <td>...</td>\n      <td>...</td>\n      <td>...</td>\n      <td>...</td>\n      <td>...</td>\n      <td>...</td>\n    </tr>\n    <tr>\n      <th>93995</th>\n      <td>GB</td>\n      <td>FR</td>\n      <td>2001</td>\n      <td>H12</td>\n      <td>NaN</td>\n      <td>R4</td>\n      <td>53.49</td>\n    </tr>\n    <tr>\n      <th>93996</th>\n      <td>GB</td>\n      <td>FR</td>\n      <td>2001</td>\n      <td>H12</td>\n      <td>NaN</td>\n      <td>R3,R4</td>\n      <td>171.42</td>\n    </tr>\n    <tr>\n      <th>94012</th>\n      <td>GB</td>\n      <td>FR</td>\n      <td>2001</td>\n      <td>H12</td>\n      <td>NaN</td>\n      <td>R4</td>\n      <td>20.83</td>\n    </tr>\n    <tr>\n      <th>94015</th>\n      <td>GB</td>\n      <td>FR</td>\n      <td>2001</td>\n      <td>H3</td>\n      <td>NaN</td>\n      <td>R2</td>\n      <td>558.64</td>\n    </tr>\n    <tr>\n      <th>94016</th>\n      <td>GB</td>\n      <td>FR</td>\n      <td>2001</td>\n      <td>H3</td>\n      <td>NaN</td>\n      <td>R2</td>\n      <td>192.78</td>\n    </tr>\n  </tbody>\n</table>\n<p>7176 rows × 7 columns</p>\n</div>"
     },
     "execution_count": 184,
     "metadata": {},
     "output_type": "execute_result"
    }
   ],
   "source": [
    "df[df[\"country_of_destination\"] == \"FR\"]"
   ],
   "metadata": {
    "collapsed": false
   }
  },
  {
   "cell_type": "markdown",
   "source": [
    "## Cleaning code columns (annex_3, annex_4_a, annex_4_b)"
   ],
   "metadata": {
    "collapsed": false
   }
  },
  {
   "cell_type": "code",
   "execution_count": 185,
   "outputs": [],
   "source": [
    "# NEEDS CONFIRMATION\n",
    "# Valid codes\n",
    "unique_items_a_3 = (\"H1\",\"H3\",\"H4.1\",\"H4.2\",\"H4.3\",\"H5.1\",\"H5.2\",\"H6.1\",\"H6.2\",\"H8\",\"H10\",\"H11\",\"H12\",\"H13\")\n",
    "unique_items_a_4_a = [f\"D{x}\" for x in range(1,17)]\n",
    "unique_items_a_4_b = [f\"R{x}\" for x in range(1,14)]"
   ],
   "metadata": {
    "collapsed": false
   }
  },
  {
   "cell_type": "code",
   "execution_count": 186,
   "outputs": [],
   "source": [
    "def init_clean(x):\n",
    "    temp = x.upper()\n",
    "    temp = temp.strip()\n",
    "    # deleting .0 because not part of official codes\n",
    "    temp = temp.replace(\".0\", \"\")\n",
    "    #sometimes someone writes e.g. H03, but 0 never part of official codes\n",
    "    temp = temp.replace(\"0\",\"\")\n",
    "    #sometimes people use whitespace to separate the letter and the number\n",
    "    temp = temp.replace(\" \",\"\")\n",
    "    return temp\n",
    "\n",
    "def cleaning_codes(x, letter, unique):\n",
    "    if not pd.isna(x):\n",
    "        if x == \"\" or x == \"--\" or x == \"-\":\n",
    "            return np.nan\n",
    "        # converting cell to list, because sometimes it contains more than one value, replacing other possible separators with commas\n",
    "        temp = x.replace(\"/\", \",\").replace(\";\",\",\").replace(\"\\n\",\",\").replace(\"，\", \",\")\n",
    "        # basic cleaning\n",
    "        lst = [init_clean(x) for x in temp.split(\",\")]\n",
    "        # NEEDS CONFIRMATION\n",
    "        # sometimes cell contains only a number. we are assuming they just didn't add the letter (H for example) in this case\n",
    "        lst = [letter + x if letter not in x else x for x in lst]\n",
    "\n",
    "        # NEEDS CONFIRMATION\n",
    "        # sometimes a cell contains something like this: \"R_\". We are treating this as nan\n",
    "        lst = [x for x in lst if not f\"{letter}_\" in x and not f\"{letter}*\" in x]\n",
    "        if lst != []:\n",
    "            return lst\n",
    "        else:\n",
    "            return np.nan\n",
    "    else:\n",
    "        return x"
   ],
   "metadata": {
    "collapsed": false
   }
  },
  {
   "cell_type": "code",
   "execution_count": 187,
   "outputs": [],
   "source": [
    "df[\"annex_3\"] = df.apply(lambda x: cleaning_codes(x[\"annex_3\"], \"H\", unique_items_a_3), axis=1)\n",
    "df[\"annex_4_a\"] = df.apply(lambda x: cleaning_codes(x[\"annex_4_a\"], \"D\", unique_items_a_4_a), axis=1)\n",
    "df[\"annex_4_b\"] = df.apply(lambda x: cleaning_codes(x[\"annex_4_b\"], \"R\", unique_items_a_4_b), axis=1)"
   ],
   "metadata": {
    "collapsed": false
   }
  },
  {
   "cell_type": "markdown",
   "source": [
    "There are still some invalid values left. Some are just typos.We convert them to nan because we cannot infer the code that the official wanted to enter"
   ],
   "metadata": {
    "collapsed": false
   }
  },
  {
   "cell_type": "code",
   "execution_count": 188,
   "outputs": [
    {
     "data": {
      "text/plain": "['H4\\xa0.2',\n 'HN',\n \"H'7\",\n 'HA',\n 'H3H4.1H12H13',\n 'H61',\n 'H4',\n 'HNR',\n 'H3H12',\n 'HН12',\n 'H112',\n 'H3B',\n 'H6.1(H3)',\n 'HP15',\n 'HΗ9',\n 'H4.1H12H13',\n 'HO(CAN)',\n 'HΗ12',\n 'HEJFARL',\n 'H6.H8',\n 'HP6',\n 'H6',\n 'H3H4.1H12',\n 'HP14EU',\n 'H3H6.1H11H12H13',\n 'HNA',\n 'H6.1(3)',\n 'H8.',\n 'H8.H12',\n 'H3H4.1H6.1H12H13',\n 'H4999999999999996',\n 'H3.4',\n 'H5.5',\n 'H17',\n 'H12H13',\n 'H',\n 'H6.1.',\n 'H3.',\n 'H4.1.H6.1',\n 'H3H6.1H11H12',\n 'H6.2.',\n 'HΗ3',\n '1-H11',\n 'H4.1.',\n 'HNEJ',\n 'HNOTLISTED',\n 'HNOTSPECIFIED',\n 'HΗ6.1',\n 'H41',\n 'H6\\xa0.1',\n 'H8H12',\n 'H4.2H4.3',\n 'HETC',\n 'H9',\n 'H4.1H6.1',\n 'H12.1',\n 'H2',\n 'H1.1',\n 'H6.1.H11',\n 'H3H4.1H5.1H6.1H8H11H12',\n 'H3.1',\n 'H4.1H4.2',\n 'H6.1H8',\n 'H34',\n 'HY18',\n 'H3A',\n 'H14',\n 'HΗ13',\n 'H6.1H11H12',\n 'H11H12',\n 'H5',\n 'H3H6.1',\n 'H6.1-8',\n 'H31',\n 'H11.12',\n 'HΗ11',\n \"H'6.1\",\n 'H3H6.1H8',\n 'HP3',\n 'H5H13',\n 'HΗ4.3',\n 'HP14',\n 'H8.1',\n 'H12.',\n 'H6.1H',\n 'H7',\n 'HН13',\n 'H12HAZ',\n 'H3H4.1',\n 'H4.1H5.1H6.1H8H11H12H13',\n 'H33-35',\n 'HAZ',\n 'H1.8',\n 'H811',\n 'H4.1H6.1H12',\n 'H1ÁH13',\n 'H18',\n 'HΗ4.1',\n 'H6.',\n 'H6.1\\u200e',\n 'H4.4',\n 'H11YH12',\n 'H15',\n 'HН4.1',\n 'HН11',\n 'H12\\u200e',\n 'H3H6.1H11',\n 'HXX',\n 'HN.A.',\n 'H8H13',\n 'H4.1H12']"
     },
     "execution_count": 188,
     "metadata": {},
     "output_type": "execute_result"
    }
   ],
   "source": [
    "# I think we can improve cleaning\n",
    "list(set(list(df[df[\"annex_3\"].notna()][\"annex_3\"].explode().unique())) - set(unique_items_a_3))"
   ],
   "metadata": {
    "collapsed": false
   }
  },
  {
   "cell_type": "code",
   "execution_count": 189,
   "outputs": [
    {
     "data": {
      "text/plain": "['DXX',\n 'DUA',\n 'HD14',\n 'D18',\n 'DZA',\n 'DAT',\n 'DR4',\n 'DIL',\n 'DR3',\n 'DKR',\n 'D1\\u200e',\n 'DPR',\n 'DLV',\n 'DR5',\n 'DGB',\n 'D13+D1',\n 'DJP',\n 'D',\n 'D17',\n 'D19',\n 'DE',\n 'DBE',\n 'DCN']"
     },
     "execution_count": 189,
     "metadata": {},
     "output_type": "execute_result"
    }
   ],
   "source": [
    "list(set(list(df[df[\"annex_4_a\"].notna()][\"annex_4_a\"].explode().unique())) - set(unique_items_a_4_a))"
   ],
   "metadata": {
    "collapsed": false
   }
  },
  {
   "cell_type": "code",
   "execution_count": 190,
   "outputs": [
    {
     "data": {
      "text/plain": "['R', 'R12\\u200e', 'RD12', 'RD1', 'R14', 'RXX', 'R15', 'MIXEDR', 'R16']"
     },
     "execution_count": 190,
     "metadata": {},
     "output_type": "execute_result"
    }
   ],
   "source": [
    "list(set(list(df[df[\"annex_4_b\"].notna()][\"annex_4_b\"].explode().unique())) - set(unique_items_a_4_b))"
   ],
   "metadata": {
    "collapsed": false
   }
  },
  {
   "cell_type": "code",
   "execution_count": 191,
   "outputs": [],
   "source": [
    "def func(lst,valid):\n",
    "    if isinstance(lst, list):\n",
    "        temp = [x for x in lst if x in valid]\n",
    "        if temp != []:\n",
    "            return temp\n",
    "        else:\n",
    "            return np.nan\n",
    "    else:\n",
    "        return np.nan"
   ],
   "metadata": {
    "collapsed": false
   }
  },
  {
   "cell_type": "code",
   "execution_count": 192,
   "outputs": [],
   "source": [
    "df[\"annex_3\"] = df.apply(lambda x: func(x[\"annex_3\"], unique_items_a_3), axis=1)\n",
    "df[\"annex_4_a\"] = df.apply(lambda x: func(x[\"annex_4_a\"], unique_items_a_4_a), axis=1)\n",
    "df[\"annex_4_b\"] = df.apply(lambda x: func(x[\"annex_4_b\"], unique_items_a_4_b), axis=1)"
   ],
   "metadata": {
    "collapsed": false
   }
  },
  {
   "cell_type": "markdown",
   "source": [
    "## Cleaning amount"
   ],
   "metadata": {
    "collapsed": false
   }
  },
  {
   "cell_type": "code",
   "execution_count": 193,
   "outputs": [],
   "source": [
    "def func(x):\n",
    "    if not pd.isna(x):\n",
    "        if isinstance(x, float):\n",
    "            return x\n",
    "        else:\n",
    "            temp = str(x)\n",
    "            # reomving whitespace\n",
    "            temp = temp.replace(\" \", \"\")\n",
    "            # converting , to .\n",
    "            temp = temp.replace(\",\",\".\")\n",
    "            # replacing all non numeric characters but .\n",
    "            temp = re.sub(\"[^0-9.]\", \"\", temp)\n",
    "            temp = float(temp)\n",
    "            return temp\n",
    "    else:\n",
    "        return np.nan\n",
    "\n",
    "df[\"amount\"] = df.apply(lambda x: func(x[\"amount\"]), axis=1)"
   ],
   "metadata": {
    "collapsed": false
   }
  },
  {
   "cell_type": "markdown",
   "source": [
    "## Dealing with missing values"
   ],
   "metadata": {
    "collapsed": false
   }
  },
  {
   "cell_type": "markdown",
   "source": [
    "We are going to drop all rows that have missing values for amount and country_of_destination."
   ],
   "metadata": {
    "collapsed": false
   }
  },
  {
   "cell_type": "code",
   "execution_count": 194,
   "outputs": [],
   "source": [
    "df = df[df['amount'].notna()]\n",
    "df = df[df['country_of_destination'].notna()]"
   ],
   "metadata": {
    "collapsed": false
   }
  },
  {
   "cell_type": "code",
   "execution_count": 195,
   "outputs": [
    {
     "name": "stdout",
     "output_type": "stream",
     "text": [
      "Lost 88 rows\n"
     ]
    }
   ],
   "source": [
    "print(f\"Lost {initial_len - len(df)} rows\")"
   ],
   "metadata": {
    "collapsed": false
   }
  },
  {
   "cell_type": "code",
   "execution_count": 196,
   "outputs": [
    {
     "name": "stdout",
     "output_type": "stream",
     "text": [
      " after processing 6629 less rows of annex_3\n"
     ]
    }
   ],
   "source": [
    "missing = df.isna().sum()\n",
    "missing_value_df = pd.DataFrame({'column_name': df.columns,\n",
    "                                 'missing': missing})\n",
    "\n",
    "print(f\" after processing {int(missing_value_df.iloc[[3]].missing) - initial_annex_3} less rows of annex_3\")"
   ],
   "metadata": {
    "collapsed": false
   }
  },
  {
   "cell_type": "markdown",
   "source": [
    "## Creating separate tables for codes"
   ],
   "metadata": {
    "collapsed": false
   }
  },
  {
   "cell_type": "code",
   "execution_count": 197,
   "outputs": [],
   "source": [
    "# Source: https://towardsdatascience.com/dealing-with-list-values-in-pandas-dataframes-a177e534f173\n",
    "def boolean_df(item_lists, unique_items):# Create empty dict\n",
    "    bool_dict = {}\n",
    "\n",
    "    # Loop through all the tags\n",
    "    for i, item in enumerate(unique_items):\n",
    "        # Apply boolean mask\n",
    "        bool_dict[item] = item_lists.apply(lambda x: item in x)\n",
    "\n",
    "    # Return the results as a dataframe\n",
    "    return pd.DataFrame(bool_dict)"
   ],
   "metadata": {
    "collapsed": false
   }
  },
  {
   "cell_type": "markdown",
   "source": [],
   "metadata": {
    "collapsed": false
   }
  },
  {
   "cell_type": "code",
   "execution_count": 198,
   "outputs": [],
   "source": [
    "df_bool_h = boolean_df(df[df[\"annex_3\"].notna()][\"annex_3\"], unique_items_a_3)\n",
    "df_bool_d = boolean_df(df[df['annex_4_a'].notna()][\"annex_4_a\"], unique_items_a_4_a)\n",
    "df_bool_r = boolean_df(df[df[\"annex_4_b\"].notna()][\"annex_4_b\"], unique_items_a_4_b)"
   ],
   "metadata": {
    "collapsed": false
   }
  },
  {
   "cell_type": "markdown",
   "source": [],
   "metadata": {
    "collapsed": false
   }
  },
  {
   "cell_type": "code",
   "execution_count": 199,
   "outputs": [],
   "source": [
    "df = pd.concat([df[[\"country\", \"country_of_destination\", \"year\", \"amount\"]], df_bool_h, df_bool_d, df_bool_r], axis=1)\n",
    "df.reset_index(drop=True, inplace=True)\n",
    "df[df.columns.intersection([*unique_items_a_3, *unique_items_a_4_a, *unique_items_a_4_b])] = df[df.columns.intersection([*unique_items_a_3, *unique_items_a_4_a, *unique_items_a_4_b])].fillna(False)"
   ],
   "metadata": {
    "collapsed": false
   }
  },
  {
   "cell_type": "code",
   "execution_count": 200,
   "outputs": [],
   "source": [
    "df.to_csv(\"../output/processed/clean.csv\")"
   ],
   "metadata": {
    "collapsed": false
   }
  },
  {
   "cell_type": "code",
   "execution_count": 201,
   "outputs": [
    {
     "data": {
      "text/plain": "      country country_of_destination  year  amount     H1     H3   H4.1  \\\n35437      AU                     FI  2016   135.0  False  False  False   \n\n        H4.2   H4.3   H5.1  ...     R4     R5     R6     R7     R8     R9  \\\n35437  False  False  False  ...  False  False  False  False  False  False   \n\n         R10    R11    R12    R13  \n35437  False  False  False  False  \n\n[1 rows x 47 columns]",
      "text/html": "<div>\n<style scoped>\n    .dataframe tbody tr th:only-of-type {\n        vertical-align: middle;\n    }\n\n    .dataframe tbody tr th {\n        vertical-align: top;\n    }\n\n    .dataframe thead th {\n        text-align: right;\n    }\n</style>\n<table border=\"1\" class=\"dataframe\">\n  <thead>\n    <tr style=\"text-align: right;\">\n      <th></th>\n      <th>country</th>\n      <th>country_of_destination</th>\n      <th>year</th>\n      <th>amount</th>\n      <th>H1</th>\n      <th>H3</th>\n      <th>H4.1</th>\n      <th>H4.2</th>\n      <th>H4.3</th>\n      <th>H5.1</th>\n      <th>...</th>\n      <th>R4</th>\n      <th>R5</th>\n      <th>R6</th>\n      <th>R7</th>\n      <th>R8</th>\n      <th>R9</th>\n      <th>R10</th>\n      <th>R11</th>\n      <th>R12</th>\n      <th>R13</th>\n    </tr>\n  </thead>\n  <tbody>\n    <tr>\n      <th>35437</th>\n      <td>AU</td>\n      <td>FI</td>\n      <td>2016</td>\n      <td>135.0</td>\n      <td>False</td>\n      <td>False</td>\n      <td>False</td>\n      <td>False</td>\n      <td>False</td>\n      <td>False</td>\n      <td>...</td>\n      <td>False</td>\n      <td>False</td>\n      <td>False</td>\n      <td>False</td>\n      <td>False</td>\n      <td>False</td>\n      <td>False</td>\n      <td>False</td>\n      <td>False</td>\n      <td>False</td>\n    </tr>\n  </tbody>\n</table>\n<p>1 rows × 47 columns</p>\n</div>"
     },
     "execution_count": 201,
     "metadata": {},
     "output_type": "execute_result"
    }
   ],
   "source": [
    "df.iloc[[35437]]"
   ],
   "metadata": {
    "collapsed": false
   }
  }
 ],
 "metadata": {
  "kernelspec": {
   "display_name": "Python 3",
   "language": "python",
   "name": "python3"
  },
  "language_info": {
   "codemirror_mode": {
    "name": "ipython",
    "version": 2
   },
   "file_extension": ".py",
   "mimetype": "text/x-python",
   "name": "python",
   "nbconvert_exporter": "python",
   "pygments_lexer": "ipython2",
   "version": "2.7.6"
  }
 },
 "nbformat": 4,
 "nbformat_minor": 0
}
