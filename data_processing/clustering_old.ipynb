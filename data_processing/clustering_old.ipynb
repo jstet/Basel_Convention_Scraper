{
 "cells": [
  {
   "cell_type": "code",
   "execution_count": null,
   "metadata": {
    "collapsed": true
   },
   "outputs": [],
   "source": [
    "import os\n",
    "import requests\n",
    "from dotenv import load_dotenv\n",
    "import pandas as pd\n",
    "import pycountry\n",
    "import pypopulation\n",
    "from geojson import FeatureCollection, dump\n",
    "import numpy as np\n",
    "import matplotlib.pyplot as plt\n",
    "from scipy.cluster.hierarchy import dendrogram, linkage\n",
    "from sklearn.cluster import AgglomerativeClustering\n",
    "from sklearn.neighbors import NearestCentroid\n",
    "from matplotlib.pyplot import figure"
   ]
  },
  {
   "cell_type": "code",
   "execution_count": null,
   "outputs": [],
   "source": [
    "X = df[[\"lat\", \"lon\"]]\n",
    "lst = []\n",
    "s = len(X)\n",
    "# 6 zoom levels\n",
    "for i in range(7):\n",
    "    lst.append(s)\n",
    "    s -= 25\n",
    "lst"
   ],
   "metadata": {
    "collapsed": false
   }
  },
  {
   "cell_type": "code",
   "execution_count": null,
   "outputs": [],
   "source": [
    "lst = [155, 110, 105, 80, 55, 35, 9]\n",
    "lst.reverse()\n",
    "cluster_lst = []\n",
    "for count, i in enumerate(lst):\n",
    "    hierarchical_cluster = AgglomerativeClustering(n_clusters=i, metric='euclidean', linkage='ward')\n",
    "    labels = hierarchical_cluster.fit_predict(X)\n",
    "    clf = NearestCentroid()\n",
    "    clf.fit(X, labels)\n",
    "    cluster_lst.append({\"cluster\": hierarchical_cluster, \"label\": labels, \"clf\": clf.centroids_})\n",
    "    df[f\"label_{count}\"] = labels\n",
    "    df[f\"lat_{count}\"] = df.apply(lambda x: clf.centroids_[x[f\"label_{count}\"]][0], axis=1)\n",
    "    df[f\"lon_{count}\"] = df.apply(lambda x: clf.centroids_[x[f\"label_{count}\"]][1], axis=1)"
   ],
   "metadata": {
    "collapsed": false
   }
  },
  {
   "cell_type": "code",
   "execution_count": null,
   "outputs": [],
   "source": [
    "\n",
    "no = 1\n",
    "plt.scatter(X[\"lon\"], X[\"lat\"], c=cluster_lst[no][\"label\"])\n",
    "plt.scatter(cluster_lst[no][\"clf\"][:, 1], cluster_lst[no][\"clf\"][:, 0], c=\"red\")\n",
    "plt.show()"
   ],
   "metadata": {
    "collapsed": false
   }
  }
 ],
 "metadata": {
  "kernelspec": {
   "display_name": "Python 3",
   "language": "python",
   "name": "python3"
  },
  "language_info": {
   "codemirror_mode": {
    "name": "ipython",
    "version": 2
   },
   "file_extension": ".py",
   "mimetype": "text/x-python",
   "name": "python",
   "nbconvert_exporter": "python",
   "pygments_lexer": "ipython2",
   "version": "2.7.6"
  }
 },
 "nbformat": 4,
 "nbformat_minor": 0
}
