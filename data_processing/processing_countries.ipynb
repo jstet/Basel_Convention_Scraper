{
 "cells": [
  {
   "cell_type": "code",
   "execution_count": 42,
   "metadata": {
    "tags": []
   },
   "outputs": [],
   "source": [
    "import os\n",
    "import requests\n",
    "from dotenv import load_dotenv\n",
    "import pandas as pd\n",
    "import pycountry\n",
    "import pypopulation\n",
    "from geojson import FeatureCollection, dump\n",
    "import numpy as np\n",
    "import xlrd\n",
    "import matplotlib.pyplot as plt\n",
    "from matplotlib import pyplot as plt\n",
    "import geopandas as gpd\n",
    "from shapely.geometry import Polygon, box\n",
    "from shapely.ops import unary_union\n",
    "from shapely import union_all"
   ]
  },
  {
   "cell_type": "markdown",
   "source": [
    "## Geocoding\n",
    "Assigning countries coordinates"
   ],
   "metadata": {
    "collapsed": false
   }
  },
  {
   "cell_type": "code",
   "execution_count": 43,
   "metadata": {
    "collapsed": false,
    "jupyter": {
     "outputs_hidden": false
    }
   },
   "outputs": [],
   "source": [
    "load_dotenv()\n",
    "TOKEN=os.getenv(\"MAPBOX_TOKEN\")\n",
    "df = pd.read_csv(\"../output/processed/flows.csv\") # ../output/processed/\n",
    "origins = list(df.origin.unique())\n",
    "destinations = list(df.destination.unique())\n"
   ]
  },
  {
   "cell_type": "code",
   "execution_count": 44,
   "outputs": [
    {
     "data": {
      "text/plain": "      Unnamed: 0 origin destination  year  UN1  UN3  UN4.1  UN4.2  UN4.3  \\\n0              0     ad          es  2002  0.0  0.0    0.0    0.0    0.0   \n1              1     ad          es  2003  0.0  0.0    0.0    0.0    0.0   \n2              2     ad          es  2004  0.0  0.0    0.0    0.0    0.0   \n3              3     ad          es  2005  0.0  0.0    0.0    0.0    0.0   \n4              4     ad          es  2006  0.0  0.0    0.0    0.0    0.0   \n...          ...    ...         ...   ...  ...  ...    ...    ...    ...   \n8114        8114     za          se  2015  0.0  0.0    0.0    0.0    0.0   \n8115        8115     za          sg  2010  0.0  0.0    0.0    0.0    0.0   \n8116        8116     za          tr  2018  0.0  0.0    0.0    0.0    0.0   \n8117        8117     zm          fi  2002  0.0  0.0    0.0    0.0    0.0   \n8118        8118     zm          za  2006  0.0  0.0    0.0    0.0    0.0   \n\n      UN5.1  UN5.2  UN6.1  UN6.2  UN8     UN9  unspecified  multiple  \n0       0.0    0.0    0.0    0.0  0.0     0.0     7777.400      0.00  \n1       0.0    0.0    0.0    0.0  0.0     0.0      486.800      0.00  \n2       0.0    0.0    0.0    0.0  0.0     0.0      425.980      0.00  \n3       0.0    0.0    0.0    0.0  0.0     0.0      621.950      0.00  \n4       0.0    0.0    0.0    0.0  0.0     0.0     1044.092      0.00  \n...     ...    ...    ...    ...  ...     ...          ...       ...  \n8114    0.0    0.0    0.0    0.0  0.0  1000.0        0.000      0.00  \n8115    0.0    0.0    0.0    0.0  0.0   720.0        0.000      0.00  \n8116    0.0    0.0    0.0    0.0  0.0     0.0        0.000     21.24  \n8117    0.0    0.0    0.0    0.0  0.0     0.0      235.000      0.00  \n8118    0.0    0.0    0.0    0.0  0.0     0.0        1.700      0.00  \n\n[8119 rows x 17 columns]",
      "text/html": "<div>\n<style scoped>\n    .dataframe tbody tr th:only-of-type {\n        vertical-align: middle;\n    }\n\n    .dataframe tbody tr th {\n        vertical-align: top;\n    }\n\n    .dataframe thead th {\n        text-align: right;\n    }\n</style>\n<table border=\"1\" class=\"dataframe\">\n  <thead>\n    <tr style=\"text-align: right;\">\n      <th></th>\n      <th>Unnamed: 0</th>\n      <th>origin</th>\n      <th>destination</th>\n      <th>year</th>\n      <th>UN1</th>\n      <th>UN3</th>\n      <th>UN4.1</th>\n      <th>UN4.2</th>\n      <th>UN4.3</th>\n      <th>UN5.1</th>\n      <th>UN5.2</th>\n      <th>UN6.1</th>\n      <th>UN6.2</th>\n      <th>UN8</th>\n      <th>UN9</th>\n      <th>unspecified</th>\n      <th>multiple</th>\n    </tr>\n  </thead>\n  <tbody>\n    <tr>\n      <th>0</th>\n      <td>0</td>\n      <td>ad</td>\n      <td>es</td>\n      <td>2002</td>\n      <td>0.0</td>\n      <td>0.0</td>\n      <td>0.0</td>\n      <td>0.0</td>\n      <td>0.0</td>\n      <td>0.0</td>\n      <td>0.0</td>\n      <td>0.0</td>\n      <td>0.0</td>\n      <td>0.0</td>\n      <td>0.0</td>\n      <td>7777.400</td>\n      <td>0.00</td>\n    </tr>\n    <tr>\n      <th>1</th>\n      <td>1</td>\n      <td>ad</td>\n      <td>es</td>\n      <td>2003</td>\n      <td>0.0</td>\n      <td>0.0</td>\n      <td>0.0</td>\n      <td>0.0</td>\n      <td>0.0</td>\n      <td>0.0</td>\n      <td>0.0</td>\n      <td>0.0</td>\n      <td>0.0</td>\n      <td>0.0</td>\n      <td>0.0</td>\n      <td>486.800</td>\n      <td>0.00</td>\n    </tr>\n    <tr>\n      <th>2</th>\n      <td>2</td>\n      <td>ad</td>\n      <td>es</td>\n      <td>2004</td>\n      <td>0.0</td>\n      <td>0.0</td>\n      <td>0.0</td>\n      <td>0.0</td>\n      <td>0.0</td>\n      <td>0.0</td>\n      <td>0.0</td>\n      <td>0.0</td>\n      <td>0.0</td>\n      <td>0.0</td>\n      <td>0.0</td>\n      <td>425.980</td>\n      <td>0.00</td>\n    </tr>\n    <tr>\n      <th>3</th>\n      <td>3</td>\n      <td>ad</td>\n      <td>es</td>\n      <td>2005</td>\n      <td>0.0</td>\n      <td>0.0</td>\n      <td>0.0</td>\n      <td>0.0</td>\n      <td>0.0</td>\n      <td>0.0</td>\n      <td>0.0</td>\n      <td>0.0</td>\n      <td>0.0</td>\n      <td>0.0</td>\n      <td>0.0</td>\n      <td>621.950</td>\n      <td>0.00</td>\n    </tr>\n    <tr>\n      <th>4</th>\n      <td>4</td>\n      <td>ad</td>\n      <td>es</td>\n      <td>2006</td>\n      <td>0.0</td>\n      <td>0.0</td>\n      <td>0.0</td>\n      <td>0.0</td>\n      <td>0.0</td>\n      <td>0.0</td>\n      <td>0.0</td>\n      <td>0.0</td>\n      <td>0.0</td>\n      <td>0.0</td>\n      <td>0.0</td>\n      <td>1044.092</td>\n      <td>0.00</td>\n    </tr>\n    <tr>\n      <th>...</th>\n      <td>...</td>\n      <td>...</td>\n      <td>...</td>\n      <td>...</td>\n      <td>...</td>\n      <td>...</td>\n      <td>...</td>\n      <td>...</td>\n      <td>...</td>\n      <td>...</td>\n      <td>...</td>\n      <td>...</td>\n      <td>...</td>\n      <td>...</td>\n      <td>...</td>\n      <td>...</td>\n      <td>...</td>\n    </tr>\n    <tr>\n      <th>8114</th>\n      <td>8114</td>\n      <td>za</td>\n      <td>se</td>\n      <td>2015</td>\n      <td>0.0</td>\n      <td>0.0</td>\n      <td>0.0</td>\n      <td>0.0</td>\n      <td>0.0</td>\n      <td>0.0</td>\n      <td>0.0</td>\n      <td>0.0</td>\n      <td>0.0</td>\n      <td>0.0</td>\n      <td>1000.0</td>\n      <td>0.000</td>\n      <td>0.00</td>\n    </tr>\n    <tr>\n      <th>8115</th>\n      <td>8115</td>\n      <td>za</td>\n      <td>sg</td>\n      <td>2010</td>\n      <td>0.0</td>\n      <td>0.0</td>\n      <td>0.0</td>\n      <td>0.0</td>\n      <td>0.0</td>\n      <td>0.0</td>\n      <td>0.0</td>\n      <td>0.0</td>\n      <td>0.0</td>\n      <td>0.0</td>\n      <td>720.0</td>\n      <td>0.000</td>\n      <td>0.00</td>\n    </tr>\n    <tr>\n      <th>8116</th>\n      <td>8116</td>\n      <td>za</td>\n      <td>tr</td>\n      <td>2018</td>\n      <td>0.0</td>\n      <td>0.0</td>\n      <td>0.0</td>\n      <td>0.0</td>\n      <td>0.0</td>\n      <td>0.0</td>\n      <td>0.0</td>\n      <td>0.0</td>\n      <td>0.0</td>\n      <td>0.0</td>\n      <td>0.0</td>\n      <td>0.000</td>\n      <td>21.24</td>\n    </tr>\n    <tr>\n      <th>8117</th>\n      <td>8117</td>\n      <td>zm</td>\n      <td>fi</td>\n      <td>2002</td>\n      <td>0.0</td>\n      <td>0.0</td>\n      <td>0.0</td>\n      <td>0.0</td>\n      <td>0.0</td>\n      <td>0.0</td>\n      <td>0.0</td>\n      <td>0.0</td>\n      <td>0.0</td>\n      <td>0.0</td>\n      <td>0.0</td>\n      <td>235.000</td>\n      <td>0.00</td>\n    </tr>\n    <tr>\n      <th>8118</th>\n      <td>8118</td>\n      <td>zm</td>\n      <td>za</td>\n      <td>2006</td>\n      <td>0.0</td>\n      <td>0.0</td>\n      <td>0.0</td>\n      <td>0.0</td>\n      <td>0.0</td>\n      <td>0.0</td>\n      <td>0.0</td>\n      <td>0.0</td>\n      <td>0.0</td>\n      <td>0.0</td>\n      <td>0.0</td>\n      <td>1.700</td>\n      <td>0.00</td>\n    </tr>\n  </tbody>\n</table>\n<p>8119 rows × 17 columns</p>\n</div>"
     },
     "execution_count": 44,
     "metadata": {},
     "output_type": "execute_result"
    }
   ],
   "source": [
    "df"
   ],
   "metadata": {
    "collapsed": false
   }
  },
  {
   "cell_type": "code",
   "execution_count": 45,
   "metadata": {
    "collapsed": false,
    "jupyter": {
     "outputs_hidden": false
    }
   },
   "outputs": [],
   "source": [
    "in_first = set(origins)\n",
    "in_second = set(destinations)\n",
    "in_second_but_not_in_first = in_second - in_first\n",
    "countries = origins + list(in_second_but_not_in_first)"
   ]
  },
  {
   "cell_type": "code",
   "execution_count": 46,
   "metadata": {
    "collapsed": false,
    "jupyter": {
     "outputs_hidden": false
    }
   },
   "outputs": [
    {
     "data": {
      "text/plain": "    country\n0        ad\n1        ae\n2        af\n3        al\n4        am\n..      ...\n150      as\n151      kp\n152      et\n153      hk\n154      tj\n\n[155 rows x 1 columns]",
      "text/html": "<div>\n<style scoped>\n    .dataframe tbody tr th:only-of-type {\n        vertical-align: middle;\n    }\n\n    .dataframe tbody tr th {\n        vertical-align: top;\n    }\n\n    .dataframe thead th {\n        text-align: right;\n    }\n</style>\n<table border=\"1\" class=\"dataframe\">\n  <thead>\n    <tr style=\"text-align: right;\">\n      <th></th>\n      <th>country</th>\n    </tr>\n  </thead>\n  <tbody>\n    <tr>\n      <th>0</th>\n      <td>ad</td>\n    </tr>\n    <tr>\n      <th>1</th>\n      <td>ae</td>\n    </tr>\n    <tr>\n      <th>2</th>\n      <td>af</td>\n    </tr>\n    <tr>\n      <th>3</th>\n      <td>al</td>\n    </tr>\n    <tr>\n      <th>4</th>\n      <td>am</td>\n    </tr>\n    <tr>\n      <th>...</th>\n      <td>...</td>\n    </tr>\n    <tr>\n      <th>150</th>\n      <td>as</td>\n    </tr>\n    <tr>\n      <th>151</th>\n      <td>kp</td>\n    </tr>\n    <tr>\n      <th>152</th>\n      <td>et</td>\n    </tr>\n    <tr>\n      <th>153</th>\n      <td>hk</td>\n    </tr>\n    <tr>\n      <th>154</th>\n      <td>tj</td>\n    </tr>\n  </tbody>\n</table>\n<p>155 rows × 1 columns</p>\n</div>"
     },
     "execution_count": 46,
     "metadata": {},
     "output_type": "execute_result"
    }
   ],
   "source": [
    "df = pd.DataFrame({\"country\":countries})\n",
    "df"
   ]
  },
  {
   "cell_type": "code",
   "execution_count": 47,
   "metadata": {
    "collapsed": false,
    "jupyter": {
     "outputs_hidden": false
    }
   },
   "outputs": [],
   "source": [
    "headers = {'Accept': 'application/json'}\n",
    "lst = []\n",
    "for i in countries:\n",
    "    obj = {}\n",
    "    obj[\"type\"]=\"Feature\"\n",
    "    obj[\"properties\"]={\"name\": pycountry.countries.get(alpha_2=i).name}\n",
    "    pop = pypopulation.get_population_a2(i)\n",
    "    url = f\"https://api.mapbox.com/geocoding/v5/mapbox.places/{pycountry.countries.get(alpha_2=i).name}.json?&types=country&access_token={TOKEN}\"\n",
    "    r = requests.get(url)\n",
    "    jason = r.json()\n",
    "    obj[\"properties\"][\"code\"] = i.lower()\n",
    "    coords = jason[\"features\"][0][\"center\"]\n",
    "    bbox = jason[\"features\"][0][\"bbox\"]\n",
    "    obj[\"geometry\"] = {\"type\":\"Point\", \"coordinates\": coords}\n",
    "    lst.append(obj)\n",
    "    df.loc[df[\"country\"] == i, \"lat\"] = coords[1]\n",
    "    df.loc[df[\"country\"] == i, \"lon\"] = coords[0]\n",
    "    df.loc[df[\"country\"] == i, \"name\"] = obj[\"properties\"][\"name\"]\n",
    "    df.loc[df[\"country\"] == i, \"population\"] = pop\n",
    "    df.loc[df[\"country\"] == i, \"bbox\"] = str(bbox)\n",
    "    if i in destinations and not i in origins:\n",
    "        df.loc[df[\"country\"] == i, \"destination_only\"] = True\n",
    "    else:\n",
    "        df.loc[df[\"country\"] == i, \"destination_only\"] = False"
   ]
  },
  {
   "cell_type": "code",
   "execution_count": 48,
   "outputs": [
    {
     "name": "stdout",
     "output_type": "stream",
     "text": [
      "   country        lat        lon     name  population  \\\n",
      "34      de  51.133481  10.018343  Germany  83132799.0   \n",
      "\n",
      "                                            bbox destination_only  \n",
      "34  [5.866315, 47.270238, 15.041832, 55.1286491]            False  \n"
     ]
    }
   ],
   "source": [
    "print(df[df[\"country\"]==\"de\"])"
   ],
   "metadata": {
    "collapsed": false
   }
  },
  {
   "cell_type": "code",
   "execution_count": 49,
   "outputs": [
    {
     "name": "stdout",
     "output_type": "stream",
     "text": [
      "   country        lat        lon     name  population  \\\n",
      "47      ge  42.176311  43.517448  Georgia   3720382.0   \n",
      "\n",
      "                                            bbox destination_only  \n",
      "47  [39.9902344, 41.055263, 46.73647, 43.586309]            False  \n"
     ]
    }
   ],
   "source": [
    "print(df[df[\"country\"]==\"ge\"])"
   ],
   "metadata": {
    "collapsed": false
   }
  },
  {
   "cell_type": "code",
   "execution_count": 50,
   "metadata": {
    "collapsed": false,
    "jupyter": {
     "outputs_hidden": false
    }
   },
   "outputs": [],
   "source": [
    "with open('../output/processed/countries.geojson', 'w') as f:\n",
    "    dump(FeatureCollection(lst), f)"
   ]
  },
  {
   "cell_type": "code",
   "execution_count": 51,
   "metadata": {
    "collapsed": false,
    "jupyter": {
     "outputs_hidden": false
    }
   },
   "outputs": [],
   "source": [
    "df['population'] = df['population'].fillna(0).astype(int)"
   ]
  },
  {
   "cell_type": "code",
   "execution_count": 52,
   "metadata": {},
   "outputs": [],
   "source": [
    "# filling one country manually\n",
    "df.loc[df[df[\"name\"]==\"Saint Barthélemy\"].index, 'population'] = 10457\n",
    "df = df.astype({'population':'str'})"
   ]
  },
  {
   "cell_type": "markdown",
   "source": [
    "## Clustering\n"
   ],
   "metadata": {
    "collapsed": false
   }
  },
  {
   "cell_type": "code",
   "execution_count": 53,
   "metadata": {},
   "outputs": [],
   "source": [
    "# https://unstats.un.org/unsd/methodology/m49/overview/\n",
    "regions = pd.read_excel(\"regions.xls\")"
   ]
  },
  {
   "cell_type": "code",
   "execution_count": 54,
   "metadata": {},
   "outputs": [],
   "source": [
    "def func(x):\n",
    "    iso3 = pycountry.countries.get(alpha_2=x).alpha_3\n",
    "    result = int(regions[regions[\"ISO-alpha3 Code\"] == iso3][\"Sub-region Code\"].values[0])\n",
    "    return result\n",
    "\n",
    "df[\"sub_region_code\"] = df.apply(lambda x: func(x[\"country\"]), axis=1)\n",
    "\n",
    "def func(x):\n",
    "    iso3 = pycountry.countries.get(alpha_2=x).alpha_3\n",
    "    result = regions[regions[\"ISO-alpha3 Code\"] == iso3][\"Sub-region Name\"].values[0]\n",
    "    return result\n",
    "\n",
    "df[\"sub_region_name\"] = df.apply(lambda x: func(x[\"country\"]), axis=1)\n",
    "\n",
    "def func(x):\n",
    "    iso3 = pycountry.countries.get(alpha_2=x).alpha_3\n",
    "    result = int(regions[regions[\"ISO-alpha3 Code\"] == iso3][\"Region Code\"].values[0])\n",
    "    return result\n",
    "\n",
    "df[\"region_code\"] = df.apply(lambda x: func(x[\"country\"]), axis=1)\n",
    "\n",
    "def func(x):\n",
    "    iso3 = pycountry.countries.get(alpha_2=x).alpha_3\n",
    "    result = regions[regions[\"ISO-alpha3 Code\"] == iso3][\"Region Name\"].values[0]\n",
    "    return result\n",
    "\n",
    "df[\"region_name\"] = df.apply(lambda x: func(x[\"country\"]), axis=1)\n",
    "\n"
   ]
  },
  {
   "cell_type": "code",
   "execution_count": 74,
   "outputs": [],
   "source": [
    "regions_ = {\"Europe\": [50.954692, 14.710857],\"Asia\": [35.459903, 79.899961],\"Americas\": [9.816245, -83.985292 ], \"Oceania\": [-24.155138, 144.572012 ],\"Africa\": [3.018519, 23.495710 ]}\n",
    "\n",
    "sub_regions = {\"Southern Europe\": [43.078547129148966, 11.322942551609177],\"Western Asia\": [29.55756090313516, 42.44329454726712],\"Southern Asia\": [29.706997, 70.905342], \"Latin America and the Caribbean\": [-3.217065, -64.771275 ],\"Western Europe\": [ 49.269893, 5.539730 ], \"Australia and New Zealand\": [-35.069432, 154.953651],\"Eastern Europe\": [61.225572, 58.129048 ],\"Sub-Saharan Africa\": [ -6.846378, 23.645431 ],\"South-eastern Asia\": [3.7475381775653744, 116.05633077644896],\"Northern America\": [46.273467, -102.378211 ],\"Eastern Asia\": [40.612380, 108.240696 ],\"Northern Europe\": [60.439321, 8.110377 ],\"Northern Africa\": [23.728513, 13.013446 ],\"Central Asia\": [45.52807689959419, 66.85787353846288],\"Melanesia\": [-10.293643, 150.675081],\"Polynesia\": [-12.974755091871536, -166.8581651283315]}"
   ],
   "metadata": {
    "collapsed": false
   }
  },
  {
   "cell_type": "code",
   "execution_count": 57,
   "outputs": [],
   "source": [
    "# def func(x):\n",
    "#     bbox = (eval(x)[1],eval(x)[0],eval(x)[3],eval(x)[2])\n",
    "#     return box(*bbox, ccw=True)\n",
    "# df[\"polygon\"] = df.apply(lambda x: func(x[\"bbox\"]), axis=1)"
   ],
   "metadata": {
    "collapsed": false
   }
  },
  {
   "cell_type": "code",
   "execution_count": 58,
   "outputs": [],
   "source": [
    "# def centroids(typ):\n",
    "#     obj = {}\n",
    "#     for i in list(df[f\"{typ}_name\"].unique()):\n",
    "#         polygons = list(df[df[f\"{typ}_name\"] == i][\"polygon\"])\n",
    "#         u = union_all(polygons)\n",
    "#         obj[i] = u.centroid\n",
    "#     df[f\"{typ}_lat\"] = df.apply(lambda x: obj[x[f\"{typ}_name\"]].xy[0][0], axis=1)\n",
    "#     df[f\"{typ}_lon\"] = df.apply(lambda x: obj[x[f\"{typ}_name\"]].xy[1][0], axis=1)"
   ],
   "metadata": {
    "collapsed": false
   }
  },
  {
   "cell_type": "code",
   "execution_count": 59,
   "outputs": [],
   "source": [
    "# gpd.GeoSeries(list(df[f\"polygon\"].unique())).plot()"
   ],
   "metadata": {
    "collapsed": false
   }
  },
  {
   "cell_type": "code",
   "execution_count": 60,
   "outputs": [],
   "source": [
    "# def centroids(typ):\n",
    "#     obj = {}\n",
    "#     for i in list(df[f\"{typ}_name\"].unique()):\n",
    "#         lats = df[df[f\"{typ}_name\"] == i][\"lat\"]\n",
    "#         lons = df[df[f\"{typ}_name\"] == i][\"lon\"]\n",
    "#         lat = sum(lats)/len(lats)\n",
    "#         lon = sum(lons)/len(lons)\n",
    "#         obj[i] = [lat,lon]\n",
    "#\n",
    "#     df[f\"{typ}_lat\"] = df.apply(lambda x: obj[x[f\"{typ}_name\"]][0], axis=1)\n",
    "#     df[f\"{typ}_lon\"] = df.apply(lambda x: obj[x[f\"{typ}_name\"]][1], axis=1)"
   ],
   "metadata": {
    "collapsed": false
   }
  },
  {
   "cell_type": "code",
   "execution_count": 61,
   "outputs": [],
   "source": [
    "# def centroids(typ):\n",
    "#     obj = {}\n",
    "#     for i in list(df[f\"{typ}_name\"].unique()):\n",
    "#         polygons = list(df[df[f\"{typ}_name\"] == i][\"polygon\"])\n",
    "#         u = union_all(polygons)\n",
    "#         obj[i] = u.centroid\n",
    "#     df[f\"{typ}_lat\"] = df.apply(lambda x: obj[x[f\"{typ}_name\"]].xy[0][0], axis=1)\n",
    "#     df[f\"{typ}_lon\"] = df.apply(lambda x: obj[x[f\"{typ}_name\"]].xy[1][0], axis=1)\n",
    "#\n",
    "# df[\"region2_name\"] = df[\"region_name\"]\n",
    "# df.loc[df[\"name\"].isin([\"Samoa\",\"American Samoa\"]), \"region2_name\"] = 0"
   ],
   "metadata": {
    "collapsed": false
   }
  },
  {
   "cell_type": "code",
   "execution_count": 75,
   "outputs": [],
   "source": [
    "\n",
    "df[\"region_lat\"] = df.apply(lambda x: regions_[x[\"region_name\"]][0], axis=1)\n",
    "df[\"region_lon\"] = df.apply(lambda x: regions_[x[\"region_name\"]][1], axis=1)\n",
    "df[\"sub_region_lat\"] = df.apply(lambda x: sub_regions[x[\"sub_region_name\"]][0], axis=1)\n",
    "df[\"sub_region_lon\"] = df.apply(lambda x: sub_regions[x[\"sub_region_name\"]][1], axis=1)\n"
   ],
   "metadata": {
    "collapsed": false
   }
  },
  {
   "cell_type": "code",
   "execution_count": 69,
   "outputs": [
    {
     "data": {
      "text/plain": "    country        lat         lon                                    name  \\\n0        ad  42.548654    1.576766                                 Andorra   \n1        ae  23.852060   54.256172                    United Arab Emirates   \n2        af  33.838806   66.026471                             Afghanistan   \n3        al  40.641090   20.156691                                 Albania   \n4        am  40.605656   44.660395                                 Armenia   \n..      ...        ...         ...                                     ...   \n150      as -14.304405 -170.707833                          American Samoa   \n151      kp  40.347099  126.847799  Korea, Democratic People's Republic of   \n152      et   8.626220   39.616032                                Ethiopia   \n153      hk  22.279356  114.162550                               Hong Kong   \n154      tj  38.838508   71.042004                              Tajikistan   \n\n    population                                               bbox  \\\n0        77142         [1.413638, 42.428731, 1.786451, 42.654863]   \n1      9770529    [51.4160156, 22.630837, 56.4788162, 26.1159859]   \n2     38041754        [60.473356, 29.377806, 74.885699, 38.49112]   \n3      2854191     [19.1679867, 39.6395376, 21.056921, 42.660312]   \n4      2957731        [43.44828, 38.840232, 46.632954, 41.299872]   \n..         ...                                                ...   \n150      55312  [-171.1895385, -14.6659997, -168.030771, -10.9...   \n151   25666161  [124.1680387, 37.5998322, 130.7826744, 43.008978]   \n152  112078730        [32.999665, 3.396106, 47.987795, 14.894214]   \n153    7507400  [113.7304687, 22.1059988, 114.5092444, 22.581928]   \n154    9321018       [67.342163, 36.671803, 75.155766, 41.044244]   \n\n    destination_only  sub_region_code     sub_region_name  region_code  \\\n0              False               39     Southern Europe          150   \n1              False              145        Western Asia          142   \n2              False               34       Southern Asia          142   \n3              False               39     Southern Europe          150   \n4              False              145        Western Asia          142   \n..               ...              ...                 ...          ...   \n150             True               61           Polynesia            9   \n151             True               30        Eastern Asia          142   \n152             True              202  Sub-Saharan Africa            2   \n153             True               30        Eastern Asia          142   \n154             True              143        Central Asia          142   \n\n    region_name  region_lat  region_lon  sub_region_lat  sub_region_lon  \n0        Europe   50.954692   14.710857       43.078547       11.322943  \n1          Asia   35.459903   79.899961       29.557561       42.443295  \n2          Asia   35.459903   79.899961       29.706997       70.905342  \n3        Europe   50.954692   14.710857       43.078547       11.322943  \n4          Asia   35.459903   79.899961       29.557561       42.443295  \n..          ...         ...         ...             ...             ...  \n150     Oceania  -24.155138  144.572012      -11.724583      158.598780  \n151        Asia   35.459903   79.899961       40.612380      108.240696  \n152      Africa    3.018519   23.495710       -6.846378       23.645431  \n153        Asia   35.459903   79.899961       40.612380      108.240696  \n154        Asia   35.459903   79.899961       45.528077       66.857874  \n\n[155 rows x 15 columns]",
      "text/html": "<div>\n<style scoped>\n    .dataframe tbody tr th:only-of-type {\n        vertical-align: middle;\n    }\n\n    .dataframe tbody tr th {\n        vertical-align: top;\n    }\n\n    .dataframe thead th {\n        text-align: right;\n    }\n</style>\n<table border=\"1\" class=\"dataframe\">\n  <thead>\n    <tr style=\"text-align: right;\">\n      <th></th>\n      <th>country</th>\n      <th>lat</th>\n      <th>lon</th>\n      <th>name</th>\n      <th>population</th>\n      <th>bbox</th>\n      <th>destination_only</th>\n      <th>sub_region_code</th>\n      <th>sub_region_name</th>\n      <th>region_code</th>\n      <th>region_name</th>\n      <th>region_lat</th>\n      <th>region_lon</th>\n      <th>sub_region_lat</th>\n      <th>sub_region_lon</th>\n    </tr>\n  </thead>\n  <tbody>\n    <tr>\n      <th>0</th>\n      <td>ad</td>\n      <td>42.548654</td>\n      <td>1.576766</td>\n      <td>Andorra</td>\n      <td>77142</td>\n      <td>[1.413638, 42.428731, 1.786451, 42.654863]</td>\n      <td>False</td>\n      <td>39</td>\n      <td>Southern Europe</td>\n      <td>150</td>\n      <td>Europe</td>\n      <td>50.954692</td>\n      <td>14.710857</td>\n      <td>43.078547</td>\n      <td>11.322943</td>\n    </tr>\n    <tr>\n      <th>1</th>\n      <td>ae</td>\n      <td>23.852060</td>\n      <td>54.256172</td>\n      <td>United Arab Emirates</td>\n      <td>9770529</td>\n      <td>[51.4160156, 22.630837, 56.4788162, 26.1159859]</td>\n      <td>False</td>\n      <td>145</td>\n      <td>Western Asia</td>\n      <td>142</td>\n      <td>Asia</td>\n      <td>35.459903</td>\n      <td>79.899961</td>\n      <td>29.557561</td>\n      <td>42.443295</td>\n    </tr>\n    <tr>\n      <th>2</th>\n      <td>af</td>\n      <td>33.838806</td>\n      <td>66.026471</td>\n      <td>Afghanistan</td>\n      <td>38041754</td>\n      <td>[60.473356, 29.377806, 74.885699, 38.49112]</td>\n      <td>False</td>\n      <td>34</td>\n      <td>Southern Asia</td>\n      <td>142</td>\n      <td>Asia</td>\n      <td>35.459903</td>\n      <td>79.899961</td>\n      <td>29.706997</td>\n      <td>70.905342</td>\n    </tr>\n    <tr>\n      <th>3</th>\n      <td>al</td>\n      <td>40.641090</td>\n      <td>20.156691</td>\n      <td>Albania</td>\n      <td>2854191</td>\n      <td>[19.1679867, 39.6395376, 21.056921, 42.660312]</td>\n      <td>False</td>\n      <td>39</td>\n      <td>Southern Europe</td>\n      <td>150</td>\n      <td>Europe</td>\n      <td>50.954692</td>\n      <td>14.710857</td>\n      <td>43.078547</td>\n      <td>11.322943</td>\n    </tr>\n    <tr>\n      <th>4</th>\n      <td>am</td>\n      <td>40.605656</td>\n      <td>44.660395</td>\n      <td>Armenia</td>\n      <td>2957731</td>\n      <td>[43.44828, 38.840232, 46.632954, 41.299872]</td>\n      <td>False</td>\n      <td>145</td>\n      <td>Western Asia</td>\n      <td>142</td>\n      <td>Asia</td>\n      <td>35.459903</td>\n      <td>79.899961</td>\n      <td>29.557561</td>\n      <td>42.443295</td>\n    </tr>\n    <tr>\n      <th>...</th>\n      <td>...</td>\n      <td>...</td>\n      <td>...</td>\n      <td>...</td>\n      <td>...</td>\n      <td>...</td>\n      <td>...</td>\n      <td>...</td>\n      <td>...</td>\n      <td>...</td>\n      <td>...</td>\n      <td>...</td>\n      <td>...</td>\n      <td>...</td>\n      <td>...</td>\n    </tr>\n    <tr>\n      <th>150</th>\n      <td>as</td>\n      <td>-14.304405</td>\n      <td>-170.707833</td>\n      <td>American Samoa</td>\n      <td>55312</td>\n      <td>[-171.1895385, -14.6659997, -168.030771, -10.9...</td>\n      <td>True</td>\n      <td>61</td>\n      <td>Polynesia</td>\n      <td>9</td>\n      <td>Oceania</td>\n      <td>-24.155138</td>\n      <td>144.572012</td>\n      <td>-11.724583</td>\n      <td>158.598780</td>\n    </tr>\n    <tr>\n      <th>151</th>\n      <td>kp</td>\n      <td>40.347099</td>\n      <td>126.847799</td>\n      <td>Korea, Democratic People's Republic of</td>\n      <td>25666161</td>\n      <td>[124.1680387, 37.5998322, 130.7826744, 43.008978]</td>\n      <td>True</td>\n      <td>30</td>\n      <td>Eastern Asia</td>\n      <td>142</td>\n      <td>Asia</td>\n      <td>35.459903</td>\n      <td>79.899961</td>\n      <td>40.612380</td>\n      <td>108.240696</td>\n    </tr>\n    <tr>\n      <th>152</th>\n      <td>et</td>\n      <td>8.626220</td>\n      <td>39.616032</td>\n      <td>Ethiopia</td>\n      <td>112078730</td>\n      <td>[32.999665, 3.396106, 47.987795, 14.894214]</td>\n      <td>True</td>\n      <td>202</td>\n      <td>Sub-Saharan Africa</td>\n      <td>2</td>\n      <td>Africa</td>\n      <td>3.018519</td>\n      <td>23.495710</td>\n      <td>-6.846378</td>\n      <td>23.645431</td>\n    </tr>\n    <tr>\n      <th>153</th>\n      <td>hk</td>\n      <td>22.279356</td>\n      <td>114.162550</td>\n      <td>Hong Kong</td>\n      <td>7507400</td>\n      <td>[113.7304687, 22.1059988, 114.5092444, 22.581928]</td>\n      <td>True</td>\n      <td>30</td>\n      <td>Eastern Asia</td>\n      <td>142</td>\n      <td>Asia</td>\n      <td>35.459903</td>\n      <td>79.899961</td>\n      <td>40.612380</td>\n      <td>108.240696</td>\n    </tr>\n    <tr>\n      <th>154</th>\n      <td>tj</td>\n      <td>38.838508</td>\n      <td>71.042004</td>\n      <td>Tajikistan</td>\n      <td>9321018</td>\n      <td>[67.342163, 36.671803, 75.155766, 41.044244]</td>\n      <td>True</td>\n      <td>143</td>\n      <td>Central Asia</td>\n      <td>142</td>\n      <td>Asia</td>\n      <td>35.459903</td>\n      <td>79.899961</td>\n      <td>45.528077</td>\n      <td>66.857874</td>\n    </tr>\n  </tbody>\n</table>\n<p>155 rows × 15 columns</p>\n</div>"
     },
     "execution_count": 69,
     "metadata": {},
     "output_type": "execute_result"
    }
   ],
   "source": [
    "# df.drop('region2_name', axis = 1, inplace=True)\n",
    "# df.drop('polygon', axis = 1, inplace=True)\n",
    "# df.drop('bbox', axis = 1, inplace=True)\n",
    "# df.rename(columns={'region2_lat': \"region_lat\", \"region2_lon\": \"region_lon\" }, inplace=True)\n",
    "df"
   ],
   "metadata": {
    "collapsed": false
   }
  },
  {
   "cell_type": "code",
   "execution_count": null,
   "outputs": [],
   "source": [
    "# df.loc[df[\"name\"].isin([\"Samoa\",\"American Samoa\"]), \"region_lat\"] = df.loc[df[\"name\"] == \"Australia\"][\"region_lat\"].values[0]\n",
    "# df.loc[df[\"name\"].isin([\"Samoa\",\"American Samoa\"]), \"region_lon\"] = df.loc[df[\"name\"] == \"Australia\"][\"region_lon\"].values[0]"
   ],
   "metadata": {
    "collapsed": false
   }
  },
  {
   "cell_type": "code",
   "execution_count": 76,
   "outputs": [
    {
     "data": {
      "text/plain": "<Figure size 640x480 with 1 Axes>",
      "image/png": "[encoded data removed]"
     },
     "metadata": {},
     "output_type": "display_data"
    }
   ],
   "source": [
    "plt.scatter(df[\"lon\"], df[\"lat\"])\n",
    "# plt.scatter(df[\"region_lon\"], df[\"region_lat\"], c=\"red\")\n",
    "plt.scatter(df[\"sub_region_lon\"], df[\"sub_region_lat\"], c=\"green\")\n",
    "plt.show()"
   ],
   "metadata": {
    "collapsed": false
   }
  },
  {
   "cell_type": "code",
   "execution_count": 77,
   "outputs": [],
   "source": [
    "df.rename(columns={\"country\": \"code\"}, inplace=True)"
   ],
   "metadata": {
    "collapsed": false
   }
  },
  {
   "cell_type": "markdown",
   "source": [],
   "metadata": {
    "collapsed": false
   }
  },
  {
   "cell_type": "code",
   "execution_count": 78,
   "outputs": [
    {
     "data": {
      "text/plain": "    code                                    name        lat         lon  \\\n0     ad                                 Andorra  42.548654    1.576766   \n1     ae                    United Arab Emirates  23.852060   54.256172   \n2     af                             Afghanistan  33.838806   66.026471   \n3     al                                 Albania  40.641090   20.156691   \n4     am                                 Armenia  40.605656   44.660395   \n..   ...                                     ...        ...         ...   \n150   as                          American Samoa -14.304405 -170.707833   \n151   kp  Korea, Democratic People's Republic of  40.347099  126.847799   \n152   et                                Ethiopia   8.626220   39.616032   \n153   hk                               Hong Kong  22.279356  114.162550   \n154   tj                              Tajikistan  38.838508   71.042004   \n\n     region_code region_name  region_lat  region_lon  sub_region_code  \\\n0            150      Europe   50.954692   14.710857               39   \n1            142        Asia   35.459903   79.899961              145   \n2            142        Asia   35.459903   79.899961               34   \n3            150      Europe   50.954692   14.710857               39   \n4            142        Asia   35.459903   79.899961              145   \n..           ...         ...         ...         ...              ...   \n150            9     Oceania  -24.155138  144.572012               61   \n151          142        Asia   35.459903   79.899961               30   \n152            2      Africa    3.018519   23.495710              202   \n153          142        Asia   35.459903   79.899961               30   \n154          142        Asia   35.459903   79.899961              143   \n\n        sub_region_name  sub_region_lat  sub_region_lon population  \\\n0       Southern Europe       43.078547       11.322943      77142   \n1          Western Asia       29.557561       42.443295    9770529   \n2         Southern Asia       29.706997       70.905342   38041754   \n3       Southern Europe       43.078547       11.322943    2854191   \n4          Western Asia       29.557561       42.443295    2957731   \n..                  ...             ...             ...        ...   \n150           Polynesia      -12.974755     -166.858165      55312   \n151        Eastern Asia       40.612380      108.240696   25666161   \n152  Sub-Saharan Africa       -6.846378       23.645431  112078730   \n153        Eastern Asia       40.612380      108.240696    7507400   \n154        Central Asia       45.528077       66.857874    9321018   \n\n    destination_only  \n0              False  \n1              False  \n2              False  \n3              False  \n4              False  \n..               ...  \n150             True  \n151             True  \n152             True  \n153             True  \n154             True  \n\n[155 rows x 14 columns]",
      "text/html": "<div>\n<style scoped>\n    .dataframe tbody tr th:only-of-type {\n        vertical-align: middle;\n    }\n\n    .dataframe tbody tr th {\n        vertical-align: top;\n    }\n\n    .dataframe thead th {\n        text-align: right;\n    }\n</style>\n<table border=\"1\" class=\"dataframe\">\n  <thead>\n    <tr style=\"text-align: right;\">\n      <th></th>\n      <th>code</th>\n      <th>name</th>\n      <th>lat</th>\n      <th>lon</th>\n      <th>region_code</th>\n      <th>region_name</th>\n      <th>region_lat</th>\n      <th>region_lon</th>\n      <th>sub_region_code</th>\n      <th>sub_region_name</th>\n      <th>sub_region_lat</th>\n      <th>sub_region_lon</th>\n      <th>population</th>\n      <th>destination_only</th>\n    </tr>\n  </thead>\n  <tbody>\n    <tr>\n      <th>0</th>\n      <td>ad</td>\n      <td>Andorra</td>\n      <td>42.548654</td>\n      <td>1.576766</td>\n      <td>150</td>\n      <td>Europe</td>\n      <td>50.954692</td>\n      <td>14.710857</td>\n      <td>39</td>\n      <td>Southern Europe</td>\n      <td>43.078547</td>\n      <td>11.322943</td>\n      <td>77142</td>\n      <td>False</td>\n    </tr>\n    <tr>\n      <th>1</th>\n      <td>ae</td>\n      <td>United Arab Emirates</td>\n      <td>23.852060</td>\n      <td>54.256172</td>\n      <td>142</td>\n      <td>Asia</td>\n      <td>35.459903</td>\n      <td>79.899961</td>\n      <td>145</td>\n      <td>Western Asia</td>\n      <td>29.557561</td>\n      <td>42.443295</td>\n      <td>9770529</td>\n      <td>False</td>\n    </tr>\n    <tr>\n      <th>2</th>\n      <td>af</td>\n      <td>Afghanistan</td>\n      <td>33.838806</td>\n      <td>66.026471</td>\n      <td>142</td>\n      <td>Asia</td>\n      <td>35.459903</td>\n      <td>79.899961</td>\n      <td>34</td>\n      <td>Southern Asia</td>\n      <td>29.706997</td>\n      <td>70.905342</td>\n      <td>38041754</td>\n      <td>False</td>\n    </tr>\n    <tr>\n      <th>3</th>\n      <td>al</td>\n      <td>Albania</td>\n      <td>40.641090</td>\n      <td>20.156691</td>\n      <td>150</td>\n      <td>Europe</td>\n      <td>50.954692</td>\n      <td>14.710857</td>\n      <td>39</td>\n      <td>Southern Europe</td>\n      <td>43.078547</td>\n      <td>11.322943</td>\n      <td>2854191</td>\n      <td>False</td>\n    </tr>\n    <tr>\n      <th>4</th>\n      <td>am</td>\n      <td>Armenia</td>\n      <td>40.605656</td>\n      <td>44.660395</td>\n      <td>142</td>\n      <td>Asia</td>\n      <td>35.459903</td>\n      <td>79.899961</td>\n      <td>145</td>\n      <td>Western Asia</td>\n      <td>29.557561</td>\n      <td>42.443295</td>\n      <td>2957731</td>\n      <td>False</td>\n    </tr>\n    <tr>\n      <th>...</th>\n      <td>...</td>\n      <td>...</td>\n      <td>...</td>\n      <td>...</td>\n      <td>...</td>\n      <td>...</td>\n      <td>...</td>\n      <td>...</td>\n      <td>...</td>\n      <td>...</td>\n      <td>...</td>\n      <td>...</td>\n      <td>...</td>\n      <td>...</td>\n    </tr>\n    <tr>\n      <th>150</th>\n      <td>as</td>\n      <td>American Samoa</td>\n      <td>-14.304405</td>\n      <td>-170.707833</td>\n      <td>9</td>\n      <td>Oceania</td>\n      <td>-24.155138</td>\n      <td>144.572012</td>\n      <td>61</td>\n      <td>Polynesia</td>\n      <td>-12.974755</td>\n      <td>-166.858165</td>\n      <td>55312</td>\n      <td>True</td>\n    </tr>\n    <tr>\n      <th>151</th>\n      <td>kp</td>\n      <td>Korea, Democratic People's Republic of</td>\n      <td>40.347099</td>\n      <td>126.847799</td>\n      <td>142</td>\n      <td>Asia</td>\n      <td>35.459903</td>\n      <td>79.899961</td>\n      <td>30</td>\n      <td>Eastern Asia</td>\n      <td>40.612380</td>\n      <td>108.240696</td>\n      <td>25666161</td>\n      <td>True</td>\n    </tr>\n    <tr>\n      <th>152</th>\n      <td>et</td>\n      <td>Ethiopia</td>\n      <td>8.626220</td>\n      <td>39.616032</td>\n      <td>2</td>\n      <td>Africa</td>\n      <td>3.018519</td>\n      <td>23.495710</td>\n      <td>202</td>\n      <td>Sub-Saharan Africa</td>\n      <td>-6.846378</td>\n      <td>23.645431</td>\n      <td>112078730</td>\n      <td>True</td>\n    </tr>\n    <tr>\n      <th>153</th>\n      <td>hk</td>\n      <td>Hong Kong</td>\n      <td>22.279356</td>\n      <td>114.162550</td>\n      <td>142</td>\n      <td>Asia</td>\n      <td>35.459903</td>\n      <td>79.899961</td>\n      <td>30</td>\n      <td>Eastern Asia</td>\n      <td>40.612380</td>\n      <td>108.240696</td>\n      <td>7507400</td>\n      <td>True</td>\n    </tr>\n    <tr>\n      <th>154</th>\n      <td>tj</td>\n      <td>Tajikistan</td>\n      <td>38.838508</td>\n      <td>71.042004</td>\n      <td>142</td>\n      <td>Asia</td>\n      <td>35.459903</td>\n      <td>79.899961</td>\n      <td>143</td>\n      <td>Central Asia</td>\n      <td>45.528077</td>\n      <td>66.857874</td>\n      <td>9321018</td>\n      <td>True</td>\n    </tr>\n  </tbody>\n</table>\n<p>155 rows × 14 columns</p>\n</div>"
     },
     "execution_count": 78,
     "metadata": {},
     "output_type": "execute_result"
    }
   ],
   "source": [
    "df = df[[\"code\",\"name\",\"lat\",\"lon\",\"region_code\",\"region_name\",\"region_lat\",\"region_lon\",\"sub_region_code\",\"sub_region_name\", \"sub_region_lat\", \"sub_region_lon\",\"population\",\"destination_only\"]]\n",
    "df"
   ],
   "metadata": {
    "collapsed": false
   }
  },
  {
   "cell_type": "code",
   "execution_count": 79,
   "metadata": {
    "collapsed": false,
    "jupyter": {
     "outputs_hidden": false
    }
   },
   "outputs": [],
   "source": [
    "df.to_csv(\"../output/processed/countries.csv\", index=False)"
   ]
  }
 ],
 "metadata": {
  "kernelspec": {
   "display_name": "Python 3 (ipykernel)",
   "language": "python",
   "name": "python3"
  },
  "language_info": {
   "codemirror_mode": {
    "name": "ipython",
    "version": 3
   },
   "file_extension": ".py",
   "mimetype": "text/x-python",
   "name": "python",
   "nbconvert_exporter": "python",
   "pygments_lexer": "ipython3",
   "version": "3.8.8"
  }
 },
 "nbformat": 4,
 "nbformat_minor": 4
}
