{
 "cells": [
  {
   "cell_type": "code",
   "execution_count": 2,
   "metadata": {
    "tags": []
   },
   "outputs": [],
   "source": [
    "import os\n",
    "import requests\n",
    "from dotenv import load_dotenv\n",
    "import pandas as pd\n",
    "import pycountry\n",
    "import pypopulation\n",
    "from geojson import FeatureCollection, dump\n",
    "import numpy as np\n",
    "import xlrd\n",
    "import matplotlib.pyplot as plt"
   ]
  },
  {
   "cell_type": "markdown",
   "source": [
    "## Geocoding\n",
    "Assigning countries coordinates"
   ],
   "metadata": {
    "collapsed": false
   }
  },
  {
   "cell_type": "code",
   "execution_count": 3,
   "metadata": {
    "collapsed": false,
    "jupyter": {
     "outputs_hidden": false
    }
   },
   "outputs": [],
   "source": [
    "load_dotenv()\n",
    "TOKEN=os.getenv(\"MAPBOX_TOKEN\")\n",
    "df = pd.read_csv(\"../output/processed/flows.csv\") # ../output/processed/\n",
    "origins = list(df.origin.unique())\n",
    "destinations = list(df.destination.unique())"
   ]
  },
  {
   "cell_type": "code",
   "execution_count": 4,
   "metadata": {
    "collapsed": false,
    "jupyter": {
     "outputs_hidden": false
    }
   },
   "outputs": [],
   "source": [
    "in_first = set(origins)\n",
    "in_second = set(destinations)\n",
    "in_second_but_not_in_first = in_second - in_first\n",
    "countries = origins + list(in_second_but_not_in_first)"
   ]
  },
  {
   "cell_type": "code",
   "execution_count": 5,
   "metadata": {
    "collapsed": false,
    "jupyter": {
     "outputs_hidden": false
    }
   },
   "outputs": [],
   "source": [
    "df = pd.DataFrame({\"country\":countries})"
   ]
  },
  {
   "cell_type": "code",
   "execution_count": 6,
   "metadata": {
    "collapsed": false,
    "jupyter": {
     "outputs_hidden": false
    }
   },
   "outputs": [],
   "source": [
    "headers = {'Accept': 'application/json'}\n",
    "lst = []\n",
    "for i in countries:\n",
    "    obj = {}\n",
    "    obj[\"type\"]=\"Feature\"\n",
    "    obj[\"properties\"]={\"name\": pycountry.countries.get(alpha_2=i).name}\n",
    "    pop = pypopulation.get_population_a2(i)\n",
    "    url = f\"https://api.mapbox.com/geocoding/v5/mapbox.places/{i}.json?&types=country&access_token={TOKEN}\"\n",
    "    r = requests.get(url)\n",
    "    jason = r.json()\n",
    "    obj[\"properties\"][\"code\"] = i.lower()\n",
    "    coords = jason[\"features\"][0][\"center\"]\n",
    "    obj[\"geometry\"] = {\"type\":\"Point\", \"coordinates\": coords}\n",
    "    lst.append(obj)\n",
    "    df.loc[df[\"country\"] == i, \"lat\"] = coords[1]\n",
    "    df.loc[df[\"country\"] == i, \"lon\"] = coords[0]\n",
    "    df.loc[df[\"country\"] == i, \"name\"] = obj[\"properties\"][\"name\"]\n",
    "    df.loc[df[\"country\"] == i, \"population\"] = pop"
   ]
  },
  {
   "cell_type": "code",
   "execution_count": 7,
   "metadata": {
    "collapsed": false,
    "jupyter": {
     "outputs_hidden": false
    }
   },
   "outputs": [],
   "source": [
    "with open('../output/processed/countries.geojson', 'w') as f:\n",
    "    dump(FeatureCollection(lst), f)"
   ]
  },
  {
   "cell_type": "code",
   "execution_count": 8,
   "metadata": {
    "collapsed": false,
    "jupyter": {
     "outputs_hidden": false
    }
   },
   "outputs": [],
   "source": [
    "df['population'] = df['population'].fillna(0).astype(int)"
   ]
  },
  {
   "cell_type": "code",
   "execution_count": 9,
   "metadata": {},
   "outputs": [],
   "source": [
    "# filling one country manually\n",
    "df.loc[df[df[\"name\"]==\"Saint Barthélemy\"].index, 'population'] = 10457\n",
    "df = df.astype({'population':'str'})"
   ]
  },
  {
   "cell_type": "markdown",
   "source": [
    "## Clustering\n"
   ],
   "metadata": {
    "collapsed": false
   }
  },
  {
   "cell_type": "code",
   "execution_count": 10,
   "metadata": {},
   "outputs": [],
   "source": [
    "# https://unstats.un.org/unsd/methodology/m49/overview/\n",
    "regions = pd.read_excel(\"regions.xls\")"
   ]
  },
  {
   "cell_type": "code",
   "execution_count": 11,
   "metadata": {},
   "outputs": [],
   "source": [
    "def func(x):\n",
    "    iso3 = pycountry.countries.get(alpha_2=x).alpha_3\n",
    "    result = int(regions[regions[\"ISO-alpha3 Code\"] == iso3][\"Sub-region Code\"].values[0])\n",
    "    return result\n",
    "\n",
    "df[\"sub_region_code\"] = df.apply(lambda x: func(x[\"country\"]), axis=1)\n",
    "\n",
    "def func(x):\n",
    "    iso3 = pycountry.countries.get(alpha_2=x).alpha_3\n",
    "    result = regions[regions[\"ISO-alpha3 Code\"] == iso3][\"Sub-region Name\"].values[0]\n",
    "    return result\n",
    "\n",
    "df[\"sub_region_name\"] = df.apply(lambda x: func(x[\"country\"]), axis=1)\n",
    "\n",
    "def func(x):\n",
    "    iso3 = pycountry.countries.get(alpha_2=x).alpha_3\n",
    "    result = int(regions[regions[\"ISO-alpha3 Code\"] == iso3][\"Region Code\"].values[0])\n",
    "    return result\n",
    "\n",
    "df[\"region_code\"] = df.apply(lambda x: func(x[\"country\"]), axis=1)\n",
    "\n",
    "def func(x):\n",
    "    iso3 = pycountry.countries.get(alpha_2=x).alpha_3\n",
    "    result = regions[regions[\"ISO-alpha3 Code\"] == iso3][\"Region Name\"].values[0]\n",
    "    return result\n",
    "\n",
    "df[\"region_name\"] = df.apply(lambda x: func(x[\"country\"]), axis=1)\n",
    "\n"
   ]
  },
  {
   "cell_type": "code",
   "execution_count": 12,
   "outputs": [
    {
     "data": {
      "text/plain": "    country        lat        lon                  name population  \\\n0        ad  42.548654   1.576766               Andorra      77142   \n1        ae   1.612130  10.525771  United Arab Emirates    9770529   \n2        af  33.838806  66.026471           Afghanistan   38041754   \n3        al  28.163240   2.632388               Albania    2854191   \n4        am  39.381266 -97.922211               Armenia    2957731   \n..      ...        ...        ...                   ...        ...   \n150      tj  38.838508  71.042004            Tajikistan    9321018   \n151      sd  13.831539  30.049948                 Sudan   42813238   \n152      ug   1.279964  32.386218                Uganda   44269594   \n153      et   8.626220  39.616032              Ethiopia  112078730   \n154      mk  41.599683  21.697476       North Macedonia    2083459   \n\n     sub_region_code     sub_region_name  region_code region_name  \n0                 39     Southern Europe          150      Europe  \n1                145        Western Asia          142        Asia  \n2                 34       Southern Asia          142        Asia  \n3                 39     Southern Europe          150      Europe  \n4                145        Western Asia          142        Asia  \n..               ...                 ...          ...         ...  \n150              143        Central Asia          142        Asia  \n151               15     Northern Africa            2      Africa  \n152              202  Sub-Saharan Africa            2      Africa  \n153              202  Sub-Saharan Africa            2      Africa  \n154               39     Southern Europe          150      Europe  \n\n[155 rows x 9 columns]",
      "text/html": "<div>\n<style scoped>\n    .dataframe tbody tr th:only-of-type {\n        vertical-align: middle;\n    }\n\n    .dataframe tbody tr th {\n        vertical-align: top;\n    }\n\n    .dataframe thead th {\n        text-align: right;\n    }\n</style>\n<table border=\"1\" class=\"dataframe\">\n  <thead>\n    <tr style=\"text-align: right;\">\n      <th></th>\n      <th>country</th>\n      <th>lat</th>\n      <th>lon</th>\n      <th>name</th>\n      <th>population</th>\n      <th>sub_region_code</th>\n      <th>sub_region_name</th>\n      <th>region_code</th>\n      <th>region_name</th>\n    </tr>\n  </thead>\n  <tbody>\n    <tr>\n      <th>0</th>\n      <td>ad</td>\n      <td>42.548654</td>\n      <td>1.576766</td>\n      <td>Andorra</td>\n      <td>77142</td>\n      <td>39</td>\n      <td>Southern Europe</td>\n      <td>150</td>\n      <td>Europe</td>\n    </tr>\n    <tr>\n      <th>1</th>\n      <td>ae</td>\n      <td>1.612130</td>\n      <td>10.525771</td>\n      <td>United Arab Emirates</td>\n      <td>9770529</td>\n      <td>145</td>\n      <td>Western Asia</td>\n      <td>142</td>\n      <td>Asia</td>\n    </tr>\n    <tr>\n      <th>2</th>\n      <td>af</td>\n      <td>33.838806</td>\n      <td>66.026471</td>\n      <td>Afghanistan</td>\n      <td>38041754</td>\n      <td>34</td>\n      <td>Southern Asia</td>\n      <td>142</td>\n      <td>Asia</td>\n    </tr>\n    <tr>\n      <th>3</th>\n      <td>al</td>\n      <td>28.163240</td>\n      <td>2.632388</td>\n      <td>Albania</td>\n      <td>2854191</td>\n      <td>39</td>\n      <td>Southern Europe</td>\n      <td>150</td>\n      <td>Europe</td>\n    </tr>\n    <tr>\n      <th>4</th>\n      <td>am</td>\n      <td>39.381266</td>\n      <td>-97.922211</td>\n      <td>Armenia</td>\n      <td>2957731</td>\n      <td>145</td>\n      <td>Western Asia</td>\n      <td>142</td>\n      <td>Asia</td>\n    </tr>\n    <tr>\n      <th>...</th>\n      <td>...</td>\n      <td>...</td>\n      <td>...</td>\n      <td>...</td>\n      <td>...</td>\n      <td>...</td>\n      <td>...</td>\n      <td>...</td>\n      <td>...</td>\n    </tr>\n    <tr>\n      <th>150</th>\n      <td>tj</td>\n      <td>38.838508</td>\n      <td>71.042004</td>\n      <td>Tajikistan</td>\n      <td>9321018</td>\n      <td>143</td>\n      <td>Central Asia</td>\n      <td>142</td>\n      <td>Asia</td>\n    </tr>\n    <tr>\n      <th>151</th>\n      <td>sd</td>\n      <td>13.831539</td>\n      <td>30.049948</td>\n      <td>Sudan</td>\n      <td>42813238</td>\n      <td>15</td>\n      <td>Northern Africa</td>\n      <td>2</td>\n      <td>Africa</td>\n    </tr>\n    <tr>\n      <th>152</th>\n      <td>ug</td>\n      <td>1.279964</td>\n      <td>32.386218</td>\n      <td>Uganda</td>\n      <td>44269594</td>\n      <td>202</td>\n      <td>Sub-Saharan Africa</td>\n      <td>2</td>\n      <td>Africa</td>\n    </tr>\n    <tr>\n      <th>153</th>\n      <td>et</td>\n      <td>8.626220</td>\n      <td>39.616032</td>\n      <td>Ethiopia</td>\n      <td>112078730</td>\n      <td>202</td>\n      <td>Sub-Saharan Africa</td>\n      <td>2</td>\n      <td>Africa</td>\n    </tr>\n    <tr>\n      <th>154</th>\n      <td>mk</td>\n      <td>41.599683</td>\n      <td>21.697476</td>\n      <td>North Macedonia</td>\n      <td>2083459</td>\n      <td>39</td>\n      <td>Southern Europe</td>\n      <td>150</td>\n      <td>Europe</td>\n    </tr>\n  </tbody>\n</table>\n<p>155 rows × 9 columns</p>\n</div>"
     },
     "execution_count": 12,
     "metadata": {},
     "output_type": "execute_result"
    }
   ],
   "source": [
    "df"
   ],
   "metadata": {
    "collapsed": false
   }
  },
  {
   "cell_type": "code",
   "execution_count": 13,
   "outputs": [],
   "source": [
    "def centroids(typ):\n",
    "    obj = {}\n",
    "    for i in list(df[f\"{typ}_name\"].unique()):\n",
    "        lats = df[df[f\"{typ}_name\"] == i][\"lat\"]\n",
    "        lons = df[df[f\"{typ}_name\"] == i][\"lon\"]\n",
    "        lat = sum(lats)/len(lats)\n",
    "        lon = sum(lons)/len(lons)\n",
    "        obj[i] = [lat,lon]\n",
    "\n",
    "    df[f\"{typ}_lat\"] = df.apply(lambda x: obj[x[f\"{typ}_name\"]][0], axis=1)\n",
    "    df[f\"{typ}_lon\"] = df.apply(lambda x: obj[x[f\"{typ}_name\"]][1], axis=1)\n",
    "\n",
    "df[\"region2_name\"] = df[\"region_name\"]\n",
    "df.loc[df[\"name\"].isin([\"Samoa\",\"American Samoa\"]), \"region2_name\"] = 0"
   ],
   "metadata": {
    "collapsed": false
   }
  },
  {
   "cell_type": "code",
   "execution_count": 14,
   "outputs": [],
   "source": [
    "centroids(\"region2\")\n",
    "centroids(\"sub_region\")\n",
    "df.drop('region2_name', axis = 1, inplace=True)\n",
    "df.rename(columns={'region2_lat': \"region_lat\", \"region2_lon\": \"region_lon\" }, inplace=True)"
   ],
   "metadata": {
    "collapsed": false
   }
  },
  {
   "cell_type": "code",
   "execution_count": 15,
   "outputs": [],
   "source": [
    "df.loc[df[\"name\"].isin([\"Samoa\",\"American Samoa\"]), \"region_lat\"] = df.loc[df[\"name\"] == \"Australia\"][\"region_lat\"].values[0]\n",
    "df.loc[df[\"name\"].isin([\"Samoa\",\"American Samoa\"]), \"region_lon\"] = df.loc[df[\"name\"] == \"Australia\"][\"region_lon\"].values[0]"
   ],
   "metadata": {
    "collapsed": false
   }
  },
  {
   "cell_type": "code",
   "execution_count": 16,
   "outputs": [
    {
     "data": {
      "text/plain": "<Figure size 640x480 with 1 Axes>",
      "image/png": "[encoded data removed]"
     },
     "metadata": {},
     "output_type": "display_data"
    }
   ],
   "source": [
    "plt.scatter(df[\"lon\"], df[\"lat\"])\n",
    "plt.scatter(df[\"region_lon\"], df[\"region_lat\"], c=\"red\")\n",
    "plt.scatter(df[\"sub_region_lon\"], df[\"sub_region_lat\"], c=\"green\")\n",
    "plt.show()"
   ],
   "metadata": {
    "collapsed": false
   }
  },
  {
   "cell_type": "code",
   "execution_count": 17,
   "outputs": [
    {
     "ename": "KeyError",
     "evalue": "\"['region2_name'] not found in axis\"",
     "output_type": "error",
     "traceback": [
      "\u001B[0;31m---------------------------------------------------------------------------\u001B[0m",
      "\u001B[0;31mKeyError\u001B[0m                                  Traceback (most recent call last)",
      "Cell \u001B[0;32mIn[17], line 2\u001B[0m\n\u001B[1;32m      1\u001B[0m df\u001B[38;5;241m.\u001B[39mrename(columns\u001B[38;5;241m=\u001B[39m{\u001B[38;5;124m\"\u001B[39m\u001B[38;5;124mcountry\u001B[39m\u001B[38;5;124m\"\u001B[39m: \u001B[38;5;124m\"\u001B[39m\u001B[38;5;124mcode\u001B[39m\u001B[38;5;124m\"\u001B[39m}, inplace\u001B[38;5;241m=\u001B[39m\u001B[38;5;28;01mTrue\u001B[39;00m)\n\u001B[0;32m----> 2\u001B[0m \u001B[43mdf\u001B[49m\u001B[38;5;241;43m.\u001B[39;49m\u001B[43mdrop\u001B[49m\u001B[43m(\u001B[49m\u001B[38;5;124;43m\"\u001B[39;49m\u001B[38;5;124;43mregion2_name\u001B[39;49m\u001B[38;5;124;43m\"\u001B[39;49m\u001B[43m,\u001B[49m\u001B[43m \u001B[49m\u001B[43maxis\u001B[49m\u001B[38;5;241;43m=\u001B[39;49m\u001B[38;5;241;43m1\u001B[39;49m\u001B[43m,\u001B[49m\u001B[43m \u001B[49m\u001B[43minplace\u001B[49m\u001B[38;5;241;43m=\u001B[39;49m\u001B[38;5;28;43;01mTrue\u001B[39;49;00m\u001B[43m)\u001B[49m\n",
      "File \u001B[0;32m~/Code/Uni/Basel_Convention_Scraper/venv/lib/python3.10/site-packages/pandas/util/_decorators.py:331\u001B[0m, in \u001B[0;36mdeprecate_nonkeyword_arguments.<locals>.decorate.<locals>.wrapper\u001B[0;34m(*args, **kwargs)\u001B[0m\n\u001B[1;32m    325\u001B[0m \u001B[38;5;28;01mif\u001B[39;00m \u001B[38;5;28mlen\u001B[39m(args) \u001B[38;5;241m>\u001B[39m num_allow_args:\n\u001B[1;32m    326\u001B[0m     warnings\u001B[38;5;241m.\u001B[39mwarn(\n\u001B[1;32m    327\u001B[0m         msg\u001B[38;5;241m.\u001B[39mformat(arguments\u001B[38;5;241m=\u001B[39m_format_argument_list(allow_args)),\n\u001B[1;32m    328\u001B[0m         \u001B[38;5;167;01mFutureWarning\u001B[39;00m,\n\u001B[1;32m    329\u001B[0m         stacklevel\u001B[38;5;241m=\u001B[39mfind_stack_level(),\n\u001B[1;32m    330\u001B[0m     )\n\u001B[0;32m--> 331\u001B[0m \u001B[38;5;28;01mreturn\u001B[39;00m \u001B[43mfunc\u001B[49m\u001B[43m(\u001B[49m\u001B[38;5;241;43m*\u001B[39;49m\u001B[43margs\u001B[49m\u001B[43m,\u001B[49m\u001B[43m \u001B[49m\u001B[38;5;241;43m*\u001B[39;49m\u001B[38;5;241;43m*\u001B[39;49m\u001B[43mkwargs\u001B[49m\u001B[43m)\u001B[49m\n",
      "File \u001B[0;32m~/Code/Uni/Basel_Convention_Scraper/venv/lib/python3.10/site-packages/pandas/core/frame.py:5396\u001B[0m, in \u001B[0;36mDataFrame.drop\u001B[0;34m(self, labels, axis, index, columns, level, inplace, errors)\u001B[0m\n\u001B[1;32m   5248\u001B[0m \u001B[38;5;129m@deprecate_nonkeyword_arguments\u001B[39m(version\u001B[38;5;241m=\u001B[39m\u001B[38;5;28;01mNone\u001B[39;00m, allowed_args\u001B[38;5;241m=\u001B[39m[\u001B[38;5;124m\"\u001B[39m\u001B[38;5;124mself\u001B[39m\u001B[38;5;124m\"\u001B[39m, \u001B[38;5;124m\"\u001B[39m\u001B[38;5;124mlabels\u001B[39m\u001B[38;5;124m\"\u001B[39m])\n\u001B[1;32m   5249\u001B[0m \u001B[38;5;28;01mdef\u001B[39;00m \u001B[38;5;21mdrop\u001B[39m(  \u001B[38;5;66;03m# type: ignore[override]\u001B[39;00m\n\u001B[1;32m   5250\u001B[0m     \u001B[38;5;28mself\u001B[39m,\n\u001B[0;32m   (...)\u001B[0m\n\u001B[1;32m   5257\u001B[0m     errors: IgnoreRaise \u001B[38;5;241m=\u001B[39m \u001B[38;5;124m\"\u001B[39m\u001B[38;5;124mraise\u001B[39m\u001B[38;5;124m\"\u001B[39m,\n\u001B[1;32m   5258\u001B[0m ) \u001B[38;5;241m-\u001B[39m\u001B[38;5;241m>\u001B[39m DataFrame \u001B[38;5;241m|\u001B[39m \u001B[38;5;28;01mNone\u001B[39;00m:\n\u001B[1;32m   5259\u001B[0m     \u001B[38;5;124;03m\"\"\"\u001B[39;00m\n\u001B[1;32m   5260\u001B[0m \u001B[38;5;124;03m    Drop specified labels from rows or columns.\u001B[39;00m\n\u001B[1;32m   5261\u001B[0m \n\u001B[0;32m   (...)\u001B[0m\n\u001B[1;32m   5394\u001B[0m \u001B[38;5;124;03m            weight  1.0     0.8\u001B[39;00m\n\u001B[1;32m   5395\u001B[0m \u001B[38;5;124;03m    \"\"\"\u001B[39;00m\n\u001B[0;32m-> 5396\u001B[0m     \u001B[38;5;28;01mreturn\u001B[39;00m \u001B[38;5;28;43msuper\u001B[39;49m\u001B[43m(\u001B[49m\u001B[43m)\u001B[49m\u001B[38;5;241;43m.\u001B[39;49m\u001B[43mdrop\u001B[49m\u001B[43m(\u001B[49m\n\u001B[1;32m   5397\u001B[0m \u001B[43m        \u001B[49m\u001B[43mlabels\u001B[49m\u001B[38;5;241;43m=\u001B[39;49m\u001B[43mlabels\u001B[49m\u001B[43m,\u001B[49m\n\u001B[1;32m   5398\u001B[0m \u001B[43m        \u001B[49m\u001B[43maxis\u001B[49m\u001B[38;5;241;43m=\u001B[39;49m\u001B[43maxis\u001B[49m\u001B[43m,\u001B[49m\n\u001B[1;32m   5399\u001B[0m \u001B[43m        \u001B[49m\u001B[43mindex\u001B[49m\u001B[38;5;241;43m=\u001B[39;49m\u001B[43mindex\u001B[49m\u001B[43m,\u001B[49m\n\u001B[1;32m   5400\u001B[0m \u001B[43m        \u001B[49m\u001B[43mcolumns\u001B[49m\u001B[38;5;241;43m=\u001B[39;49m\u001B[43mcolumns\u001B[49m\u001B[43m,\u001B[49m\n\u001B[1;32m   5401\u001B[0m \u001B[43m        \u001B[49m\u001B[43mlevel\u001B[49m\u001B[38;5;241;43m=\u001B[39;49m\u001B[43mlevel\u001B[49m\u001B[43m,\u001B[49m\n\u001B[1;32m   5402\u001B[0m \u001B[43m        \u001B[49m\u001B[43minplace\u001B[49m\u001B[38;5;241;43m=\u001B[39;49m\u001B[43minplace\u001B[49m\u001B[43m,\u001B[49m\n\u001B[1;32m   5403\u001B[0m \u001B[43m        \u001B[49m\u001B[43merrors\u001B[49m\u001B[38;5;241;43m=\u001B[39;49m\u001B[43merrors\u001B[49m\u001B[43m,\u001B[49m\n\u001B[1;32m   5404\u001B[0m \u001B[43m    \u001B[49m\u001B[43m)\u001B[49m\n",
      "File \u001B[0;32m~/Code/Uni/Basel_Convention_Scraper/venv/lib/python3.10/site-packages/pandas/util/_decorators.py:331\u001B[0m, in \u001B[0;36mdeprecate_nonkeyword_arguments.<locals>.decorate.<locals>.wrapper\u001B[0;34m(*args, **kwargs)\u001B[0m\n\u001B[1;32m    325\u001B[0m \u001B[38;5;28;01mif\u001B[39;00m \u001B[38;5;28mlen\u001B[39m(args) \u001B[38;5;241m>\u001B[39m num_allow_args:\n\u001B[1;32m    326\u001B[0m     warnings\u001B[38;5;241m.\u001B[39mwarn(\n\u001B[1;32m    327\u001B[0m         msg\u001B[38;5;241m.\u001B[39mformat(arguments\u001B[38;5;241m=\u001B[39m_format_argument_list(allow_args)),\n\u001B[1;32m    328\u001B[0m         \u001B[38;5;167;01mFutureWarning\u001B[39;00m,\n\u001B[1;32m    329\u001B[0m         stacklevel\u001B[38;5;241m=\u001B[39mfind_stack_level(),\n\u001B[1;32m    330\u001B[0m     )\n\u001B[0;32m--> 331\u001B[0m \u001B[38;5;28;01mreturn\u001B[39;00m \u001B[43mfunc\u001B[49m\u001B[43m(\u001B[49m\u001B[38;5;241;43m*\u001B[39;49m\u001B[43margs\u001B[49m\u001B[43m,\u001B[49m\u001B[43m \u001B[49m\u001B[38;5;241;43m*\u001B[39;49m\u001B[38;5;241;43m*\u001B[39;49m\u001B[43mkwargs\u001B[49m\u001B[43m)\u001B[49m\n",
      "File \u001B[0;32m~/Code/Uni/Basel_Convention_Scraper/venv/lib/python3.10/site-packages/pandas/core/generic.py:4505\u001B[0m, in \u001B[0;36mNDFrame.drop\u001B[0;34m(self, labels, axis, index, columns, level, inplace, errors)\u001B[0m\n\u001B[1;32m   4503\u001B[0m \u001B[38;5;28;01mfor\u001B[39;00m axis, labels \u001B[38;5;129;01min\u001B[39;00m axes\u001B[38;5;241m.\u001B[39mitems():\n\u001B[1;32m   4504\u001B[0m     \u001B[38;5;28;01mif\u001B[39;00m labels \u001B[38;5;129;01mis\u001B[39;00m \u001B[38;5;129;01mnot\u001B[39;00m \u001B[38;5;28;01mNone\u001B[39;00m:\n\u001B[0;32m-> 4505\u001B[0m         obj \u001B[38;5;241m=\u001B[39m \u001B[43mobj\u001B[49m\u001B[38;5;241;43m.\u001B[39;49m\u001B[43m_drop_axis\u001B[49m\u001B[43m(\u001B[49m\u001B[43mlabels\u001B[49m\u001B[43m,\u001B[49m\u001B[43m \u001B[49m\u001B[43maxis\u001B[49m\u001B[43m,\u001B[49m\u001B[43m \u001B[49m\u001B[43mlevel\u001B[49m\u001B[38;5;241;43m=\u001B[39;49m\u001B[43mlevel\u001B[49m\u001B[43m,\u001B[49m\u001B[43m \u001B[49m\u001B[43merrors\u001B[49m\u001B[38;5;241;43m=\u001B[39;49m\u001B[43merrors\u001B[49m\u001B[43m)\u001B[49m\n\u001B[1;32m   4507\u001B[0m \u001B[38;5;28;01mif\u001B[39;00m inplace:\n\u001B[1;32m   4508\u001B[0m     \u001B[38;5;28mself\u001B[39m\u001B[38;5;241m.\u001B[39m_update_inplace(obj)\n",
      "File \u001B[0;32m~/Code/Uni/Basel_Convention_Scraper/venv/lib/python3.10/site-packages/pandas/core/generic.py:4546\u001B[0m, in \u001B[0;36mNDFrame._drop_axis\u001B[0;34m(self, labels, axis, level, errors, only_slice)\u001B[0m\n\u001B[1;32m   4544\u001B[0m         new_axis \u001B[38;5;241m=\u001B[39m axis\u001B[38;5;241m.\u001B[39mdrop(labels, level\u001B[38;5;241m=\u001B[39mlevel, errors\u001B[38;5;241m=\u001B[39merrors)\n\u001B[1;32m   4545\u001B[0m     \u001B[38;5;28;01melse\u001B[39;00m:\n\u001B[0;32m-> 4546\u001B[0m         new_axis \u001B[38;5;241m=\u001B[39m \u001B[43maxis\u001B[49m\u001B[38;5;241;43m.\u001B[39;49m\u001B[43mdrop\u001B[49m\u001B[43m(\u001B[49m\u001B[43mlabels\u001B[49m\u001B[43m,\u001B[49m\u001B[43m \u001B[49m\u001B[43merrors\u001B[49m\u001B[38;5;241;43m=\u001B[39;49m\u001B[43merrors\u001B[49m\u001B[43m)\u001B[49m\n\u001B[1;32m   4547\u001B[0m     indexer \u001B[38;5;241m=\u001B[39m axis\u001B[38;5;241m.\u001B[39mget_indexer(new_axis)\n\u001B[1;32m   4549\u001B[0m \u001B[38;5;66;03m# Case for non-unique axis\u001B[39;00m\n\u001B[1;32m   4550\u001B[0m \u001B[38;5;28;01melse\u001B[39;00m:\n",
      "File \u001B[0;32m~/Code/Uni/Basel_Convention_Scraper/venv/lib/python3.10/site-packages/pandas/core/indexes/base.py:6977\u001B[0m, in \u001B[0;36mIndex.drop\u001B[0;34m(self, labels, errors)\u001B[0m\n\u001B[1;32m   6975\u001B[0m \u001B[38;5;28;01mif\u001B[39;00m mask\u001B[38;5;241m.\u001B[39many():\n\u001B[1;32m   6976\u001B[0m     \u001B[38;5;28;01mif\u001B[39;00m errors \u001B[38;5;241m!=\u001B[39m \u001B[38;5;124m\"\u001B[39m\u001B[38;5;124mignore\u001B[39m\u001B[38;5;124m\"\u001B[39m:\n\u001B[0;32m-> 6977\u001B[0m         \u001B[38;5;28;01mraise\u001B[39;00m \u001B[38;5;167;01mKeyError\u001B[39;00m(\u001B[38;5;124mf\u001B[39m\u001B[38;5;124m\"\u001B[39m\u001B[38;5;132;01m{\u001B[39;00m\u001B[38;5;28mlist\u001B[39m(labels[mask])\u001B[38;5;132;01m}\u001B[39;00m\u001B[38;5;124m not found in axis\u001B[39m\u001B[38;5;124m\"\u001B[39m)\n\u001B[1;32m   6978\u001B[0m     indexer \u001B[38;5;241m=\u001B[39m indexer[\u001B[38;5;241m~\u001B[39mmask]\n\u001B[1;32m   6979\u001B[0m \u001B[38;5;28;01mreturn\u001B[39;00m \u001B[38;5;28mself\u001B[39m\u001B[38;5;241m.\u001B[39mdelete(indexer)\n",
      "\u001B[0;31mKeyError\u001B[0m: \"['region2_name'] not found in axis\""
     ]
    }
   ],
   "source": [
    "df.rename(columns={\"country\": \"code\"}, inplace=True)"
   ],
   "metadata": {
    "collapsed": false
   }
  },
  {
   "cell_type": "markdown",
   "source": [],
   "metadata": {
    "collapsed": false
   }
  },
  {
   "cell_type": "code",
   "execution_count": 18,
   "outputs": [
    {
     "data": {
      "text/plain": "    code                  name        lat        lon  region_code region_name  \\\n0     ad               Andorra  42.548654   1.576766          150      Europe   \n1     ae  United Arab Emirates   1.612130  10.525771          142        Asia   \n2     af           Afghanistan  33.838806  66.026471          142        Asia   \n3     al               Albania  28.163240   2.632388          150      Europe   \n4     am               Armenia  39.381266 -97.922211          142        Asia   \n..   ...                   ...        ...        ...          ...         ...   \n150   tj            Tajikistan  38.838508  71.042004          142        Asia   \n151   sd                 Sudan  13.831539  30.049948            2      Africa   \n152   ug                Uganda   1.279964  32.386218            2      Africa   \n153   et              Ethiopia   8.626220  39.616032            2      Africa   \n154   mk       North Macedonia  41.599683  21.697476          150      Europe   \n\n     region_lat  region_lon  sub_region_code     sub_region_name  \\\n0     42.467194   20.181702               39     Southern Europe   \n1     27.076799   64.186966              145        Western Asia   \n2     27.076799   64.186966               34       Southern Asia   \n3     42.467194   20.181702               39     Southern Europe   \n4     27.076799   64.186966              145        Western Asia   \n..          ...         ...              ...                 ...   \n150   27.076799   64.186966              143        Central Asia   \n151    4.906968   15.329357               15     Northern Africa   \n152    4.906968   15.329357              202  Sub-Saharan Africa   \n153    4.906968   15.329357              202  Sub-Saharan Africa   \n154   42.467194   20.181702               39     Southern Europe   \n\n     sub_region_lat  sub_region_lon population  \n0         32.614556        2.915928      77142  \n1         29.059314       24.044483    9770529  \n2         24.809203       64.107784   38041754  \n3         32.614556        2.915928    2854191  \n4         29.059314       24.044483    2957731  \n..              ...             ...        ...  \n150       41.867274       67.090625    9321018  \n151       21.419262       34.878226   42813238  \n152        2.154918       12.071212   44269594  \n153        2.154918       12.071212  112078730  \n154       32.614556        2.915928    2083459  \n\n[155 rows x 13 columns]",
      "text/html": "<div>\n<style scoped>\n    .dataframe tbody tr th:only-of-type {\n        vertical-align: middle;\n    }\n\n    .dataframe tbody tr th {\n        vertical-align: top;\n    }\n\n    .dataframe thead th {\n        text-align: right;\n    }\n</style>\n<table border=\"1\" class=\"dataframe\">\n  <thead>\n    <tr style=\"text-align: right;\">\n      <th></th>\n      <th>code</th>\n      <th>name</th>\n      <th>lat</th>\n      <th>lon</th>\n      <th>region_code</th>\n      <th>region_name</th>\n      <th>region_lat</th>\n      <th>region_lon</th>\n      <th>sub_region_code</th>\n      <th>sub_region_name</th>\n      <th>sub_region_lat</th>\n      <th>sub_region_lon</th>\n      <th>population</th>\n    </tr>\n  </thead>\n  <tbody>\n    <tr>\n      <th>0</th>\n      <td>ad</td>\n      <td>Andorra</td>\n      <td>42.548654</td>\n      <td>1.576766</td>\n      <td>150</td>\n      <td>Europe</td>\n      <td>42.467194</td>\n      <td>20.181702</td>\n      <td>39</td>\n      <td>Southern Europe</td>\n      <td>32.614556</td>\n      <td>2.915928</td>\n      <td>77142</td>\n    </tr>\n    <tr>\n      <th>1</th>\n      <td>ae</td>\n      <td>United Arab Emirates</td>\n      <td>1.612130</td>\n      <td>10.525771</td>\n      <td>142</td>\n      <td>Asia</td>\n      <td>27.076799</td>\n      <td>64.186966</td>\n      <td>145</td>\n      <td>Western Asia</td>\n      <td>29.059314</td>\n      <td>24.044483</td>\n      <td>9770529</td>\n    </tr>\n    <tr>\n      <th>2</th>\n      <td>af</td>\n      <td>Afghanistan</td>\n      <td>33.838806</td>\n      <td>66.026471</td>\n      <td>142</td>\n      <td>Asia</td>\n      <td>27.076799</td>\n      <td>64.186966</td>\n      <td>34</td>\n      <td>Southern Asia</td>\n      <td>24.809203</td>\n      <td>64.107784</td>\n      <td>38041754</td>\n    </tr>\n    <tr>\n      <th>3</th>\n      <td>al</td>\n      <td>Albania</td>\n      <td>28.163240</td>\n      <td>2.632388</td>\n      <td>150</td>\n      <td>Europe</td>\n      <td>42.467194</td>\n      <td>20.181702</td>\n      <td>39</td>\n      <td>Southern Europe</td>\n      <td>32.614556</td>\n      <td>2.915928</td>\n      <td>2854191</td>\n    </tr>\n    <tr>\n      <th>4</th>\n      <td>am</td>\n      <td>Armenia</td>\n      <td>39.381266</td>\n      <td>-97.922211</td>\n      <td>142</td>\n      <td>Asia</td>\n      <td>27.076799</td>\n      <td>64.186966</td>\n      <td>145</td>\n      <td>Western Asia</td>\n      <td>29.059314</td>\n      <td>24.044483</td>\n      <td>2957731</td>\n    </tr>\n    <tr>\n      <th>...</th>\n      <td>...</td>\n      <td>...</td>\n      <td>...</td>\n      <td>...</td>\n      <td>...</td>\n      <td>...</td>\n      <td>...</td>\n      <td>...</td>\n      <td>...</td>\n      <td>...</td>\n      <td>...</td>\n      <td>...</td>\n      <td>...</td>\n    </tr>\n    <tr>\n      <th>150</th>\n      <td>tj</td>\n      <td>Tajikistan</td>\n      <td>38.838508</td>\n      <td>71.042004</td>\n      <td>142</td>\n      <td>Asia</td>\n      <td>27.076799</td>\n      <td>64.186966</td>\n      <td>143</td>\n      <td>Central Asia</td>\n      <td>41.867274</td>\n      <td>67.090625</td>\n      <td>9321018</td>\n    </tr>\n    <tr>\n      <th>151</th>\n      <td>sd</td>\n      <td>Sudan</td>\n      <td>13.831539</td>\n      <td>30.049948</td>\n      <td>2</td>\n      <td>Africa</td>\n      <td>4.906968</td>\n      <td>15.329357</td>\n      <td>15</td>\n      <td>Northern Africa</td>\n      <td>21.419262</td>\n      <td>34.878226</td>\n      <td>42813238</td>\n    </tr>\n    <tr>\n      <th>152</th>\n      <td>ug</td>\n      <td>Uganda</td>\n      <td>1.279964</td>\n      <td>32.386218</td>\n      <td>2</td>\n      <td>Africa</td>\n      <td>4.906968</td>\n      <td>15.329357</td>\n      <td>202</td>\n      <td>Sub-Saharan Africa</td>\n      <td>2.154918</td>\n      <td>12.071212</td>\n      <td>44269594</td>\n    </tr>\n    <tr>\n      <th>153</th>\n      <td>et</td>\n      <td>Ethiopia</td>\n      <td>8.626220</td>\n      <td>39.616032</td>\n      <td>2</td>\n      <td>Africa</td>\n      <td>4.906968</td>\n      <td>15.329357</td>\n      <td>202</td>\n      <td>Sub-Saharan Africa</td>\n      <td>2.154918</td>\n      <td>12.071212</td>\n      <td>112078730</td>\n    </tr>\n    <tr>\n      <th>154</th>\n      <td>mk</td>\n      <td>North Macedonia</td>\n      <td>41.599683</td>\n      <td>21.697476</td>\n      <td>150</td>\n      <td>Europe</td>\n      <td>42.467194</td>\n      <td>20.181702</td>\n      <td>39</td>\n      <td>Southern Europe</td>\n      <td>32.614556</td>\n      <td>2.915928</td>\n      <td>2083459</td>\n    </tr>\n  </tbody>\n</table>\n<p>155 rows × 13 columns</p>\n</div>"
     },
     "execution_count": 18,
     "metadata": {},
     "output_type": "execute_result"
    }
   ],
   "source": [
    "df = df[[\"code\",\"name\",\"lat\",\"lon\",\"region_code\",\"region_name\",\"region_lat\",\"region_lon\",\"sub_region_code\",\"sub_region_name\", \"sub_region_lat\", \"sub_region_lon\",\"population\"]]\n",
    "df"
   ],
   "metadata": {
    "collapsed": false
   }
  },
  {
   "cell_type": "code",
   "execution_count": 19,
   "outputs": [
    {
     "data": {
      "text/plain": "    code                    name        lat         lon  region_code  \\\n0     ad                 Andorra  42.548654    1.576766          150   \n3     al                 Albania  28.163240    2.632388          150   \n6     at                 Austria  47.607798   14.300144          150   \n9     ba  Bosnia and Herzegovina  26.022407   50.559644          150   \n12    be                 Belgium  50.438696    4.633575          150   \n13    bg                Bulgaria  42.761377   25.231507          150   \n21    by                 Belarus  53.539998   28.046788          150   \n24    ch             Switzerland  35.486703  101.901875          150   \n33    cz                 Czechia  49.742859   15.338412          150   \n34    de                 Germany  51.133481   10.018343          150   \n36    dk                 Denmark  55.963398   10.046297          150   \n40    ee                 Estonia  58.778397   25.761527          150   \n43    es                   Spain  41.294856   -4.055685          150   \n44    fi                 Finland  62.777754   26.199539          150   \n45    fr                  France  47.824905    2.618787          150   \n46    gb          United Kingdom  54.237933   -2.369670          150   \n49    gr                  Greece  54.237933   -2.369670          150   \n54    hr                 Croatia  45.664952   16.679107          150   \n55    hu                 Hungary  47.060267   19.499349          150   \n57    ie                 Ireland  53.305494   -7.737649          150   \n61    is                 Iceland  31.847261   34.841999          150   \n62    it                   Italy  42.504154   12.646361          150   \n73    li           Liechtenstein  27.043961   18.023280          150   \n76    lt               Lithuania  55.487413   23.931538          150   \n77    lu              Luxembourg  49.770628    6.087814          150   \n78    lv                  Latvia  56.959065   24.862593          150   \n80    mc                  Monaco  43.732482    7.418962          150   \n81    md    Moldova, Republic of   4.178874   73.511049          150   \n82    me              Montenegro  23.950464 -102.532867          150   \n87    mt                   Malta  14.652549  -61.021287          150   \n98    nl             Netherlands  51.972466    5.613491          150   \n99    no                  Norway  40.347099  126.847799          150   \n107   pl                  Poland  52.124610   19.300636          150   \n109   pt                Portugal  39.600995   -8.562731          150   \n112   ro                 Romania  45.843615   24.969258          150   \n113   rs                  Serbia  44.226737   20.795300          150   \n114   ru      Russian Federation  61.994573   96.669705          150   \n115   se                  Sweden  64.964875   17.675409          150   \n117   si                Slovenia   1.351616  103.808053          150   \n118   sk                Slovakia  48.707531   19.491651          150   \n128   ua                 Ukraine  23.852060   54.256172          150   \n144   gi               Gibraltar  10.785546  -11.029862          150   \n154   mk         North Macedonia  41.599683   21.697476          150   \n\n    region_name  region_lat  region_lon  sub_region_code  sub_region_name  \\\n0        Europe   42.467194   20.181702               39  Southern Europe   \n3        Europe   42.467194   20.181702               39  Southern Europe   \n6        Europe   42.467194   20.181702              155   Western Europe   \n9        Europe   42.467194   20.181702               39  Southern Europe   \n12       Europe   42.467194   20.181702              155   Western Europe   \n13       Europe   42.467194   20.181702              151   Eastern Europe   \n21       Europe   42.467194   20.181702              151   Eastern Europe   \n24       Europe   42.467194   20.181702              155   Western Europe   \n33       Europe   42.467194   20.181702              151   Eastern Europe   \n34       Europe   42.467194   20.181702              155   Western Europe   \n36       Europe   42.467194   20.181702              154  Northern Europe   \n40       Europe   42.467194   20.181702              154  Northern Europe   \n43       Europe   42.467194   20.181702               39  Southern Europe   \n44       Europe   42.467194   20.181702              154  Northern Europe   \n45       Europe   42.467194   20.181702              155   Western Europe   \n46       Europe   42.467194   20.181702              154  Northern Europe   \n49       Europe   42.467194   20.181702               39  Southern Europe   \n54       Europe   42.467194   20.181702               39  Southern Europe   \n55       Europe   42.467194   20.181702              151   Eastern Europe   \n57       Europe   42.467194   20.181702              154  Northern Europe   \n61       Europe   42.467194   20.181702              154  Northern Europe   \n62       Europe   42.467194   20.181702               39  Southern Europe   \n73       Europe   42.467194   20.181702              155   Western Europe   \n76       Europe   42.467194   20.181702              154  Northern Europe   \n77       Europe   42.467194   20.181702              155   Western Europe   \n78       Europe   42.467194   20.181702              154  Northern Europe   \n80       Europe   42.467194   20.181702              155   Western Europe   \n81       Europe   42.467194   20.181702              151   Eastern Europe   \n82       Europe   42.467194   20.181702               39  Southern Europe   \n87       Europe   42.467194   20.181702               39  Southern Europe   \n98       Europe   42.467194   20.181702              155   Western Europe   \n99       Europe   42.467194   20.181702              154  Northern Europe   \n107      Europe   42.467194   20.181702              151   Eastern Europe   \n109      Europe   42.467194   20.181702               39  Southern Europe   \n112      Europe   42.467194   20.181702              151   Eastern Europe   \n113      Europe   42.467194   20.181702               39  Southern Europe   \n114      Europe   42.467194   20.181702              151   Eastern Europe   \n115      Europe   42.467194   20.181702              154  Northern Europe   \n117      Europe   42.467194   20.181702               39  Southern Europe   \n118      Europe   42.467194   20.181702              151   Eastern Europe   \n128      Europe   42.467194   20.181702              151   Eastern Europe   \n144      Europe   42.467194   20.181702               39  Southern Europe   \n154      Europe   42.467194   20.181702               39  Southern Europe   \n\n     sub_region_lat  sub_region_lon population  \n0         32.614556        2.915928      77142  \n3         32.614556        2.915928    2854191  \n6         45.001236       18.957363    8877067  \n9         32.614556        2.915928    3301000  \n12        45.001236       18.957363   11484055  \n13        42.980576       37.631453    6975761  \n21        42.980576       37.631453    9466856  \n24        45.001236       18.957363    8574832  \n33        42.980576       37.631453   10669709  \n34        45.001236       18.957363   83132799  \n36        53.466869       28.005938    5818553  \n40        53.466869       28.005938    1326590  \n43        32.614556        2.915928   47076781  \n44        53.466869       28.005938    5520314  \n45        45.001236       18.957363   67059887  \n46        53.466869       28.005938   66834405  \n49        32.614556        2.915928   10716322  \n54        32.614556        2.915928    4067500  \n55        42.980576       37.631453    9769949  \n57        53.466869       28.005938    4941444  \n61        53.466869       28.005938     361313  \n62        32.614556        2.915928   60297396  \n73        45.001236       18.957363      38019  \n76        53.466869       28.005938    2786844  \n77        45.001236       18.957363     619896  \n78        53.466869       28.005938    1912789  \n80        45.001236       18.957363      38964  \n81        42.980576       37.631453    2657637  \n82        32.614556        2.915928     622137  \n87        32.614556        2.915928     502653  \n98        45.001236       18.957363   17332850  \n99        53.466869       28.005938    5347896  \n107       42.980576       37.631453   37970874  \n109       32.614556        2.915928   10269417  \n112       42.980576       37.631453   19356544  \n113       32.614556        2.915928    6944975  \n114       42.980576       37.631453  144373535  \n115       53.466869       28.005938   10285453  \n117       32.614556        2.915928    2087946  \n118       42.980576       37.631453    5454073  \n128       42.980576       37.631453   44385155  \n144       32.614556        2.915928      33701  \n154       32.614556        2.915928    2083459  ",
      "text/html": "<div>\n<style scoped>\n    .dataframe tbody tr th:only-of-type {\n        vertical-align: middle;\n    }\n\n    .dataframe tbody tr th {\n        vertical-align: top;\n    }\n\n    .dataframe thead th {\n        text-align: right;\n    }\n</style>\n<table border=\"1\" class=\"dataframe\">\n  <thead>\n    <tr style=\"text-align: right;\">\n      <th></th>\n      <th>code</th>\n      <th>name</th>\n      <th>lat</th>\n      <th>lon</th>\n      <th>region_code</th>\n      <th>region_name</th>\n      <th>region_lat</th>\n      <th>region_lon</th>\n      <th>sub_region_code</th>\n      <th>sub_region_name</th>\n      <th>sub_region_lat</th>\n      <th>sub_region_lon</th>\n      <th>population</th>\n    </tr>\n  </thead>\n  <tbody>\n    <tr>\n      <th>0</th>\n      <td>ad</td>\n      <td>Andorra</td>\n      <td>42.548654</td>\n      <td>1.576766</td>\n      <td>150</td>\n      <td>Europe</td>\n      <td>42.467194</td>\n      <td>20.181702</td>\n      <td>39</td>\n      <td>Southern Europe</td>\n      <td>32.614556</td>\n      <td>2.915928</td>\n      <td>77142</td>\n    </tr>\n    <tr>\n      <th>3</th>\n      <td>al</td>\n      <td>Albania</td>\n      <td>28.163240</td>\n      <td>2.632388</td>\n      <td>150</td>\n      <td>Europe</td>\n      <td>42.467194</td>\n      <td>20.181702</td>\n      <td>39</td>\n      <td>Southern Europe</td>\n      <td>32.614556</td>\n      <td>2.915928</td>\n      <td>2854191</td>\n    </tr>\n    <tr>\n      <th>6</th>\n      <td>at</td>\n      <td>Austria</td>\n      <td>47.607798</td>\n      <td>14.300144</td>\n      <td>150</td>\n      <td>Europe</td>\n      <td>42.467194</td>\n      <td>20.181702</td>\n      <td>155</td>\n      <td>Western Europe</td>\n      <td>45.001236</td>\n      <td>18.957363</td>\n      <td>8877067</td>\n    </tr>\n    <tr>\n      <th>9</th>\n      <td>ba</td>\n      <td>Bosnia and Herzegovina</td>\n      <td>26.022407</td>\n      <td>50.559644</td>\n      <td>150</td>\n      <td>Europe</td>\n      <td>42.467194</td>\n      <td>20.181702</td>\n      <td>39</td>\n      <td>Southern Europe</td>\n      <td>32.614556</td>\n      <td>2.915928</td>\n      <td>3301000</td>\n    </tr>\n    <tr>\n      <th>12</th>\n      <td>be</td>\n      <td>Belgium</td>\n      <td>50.438696</td>\n      <td>4.633575</td>\n      <td>150</td>\n      <td>Europe</td>\n      <td>42.467194</td>\n      <td>20.181702</td>\n      <td>155</td>\n      <td>Western Europe</td>\n      <td>45.001236</td>\n      <td>18.957363</td>\n      <td>11484055</td>\n    </tr>\n    <tr>\n      <th>13</th>\n      <td>bg</td>\n      <td>Bulgaria</td>\n      <td>42.761377</td>\n      <td>25.231507</td>\n      <td>150</td>\n      <td>Europe</td>\n      <td>42.467194</td>\n      <td>20.181702</td>\n      <td>151</td>\n      <td>Eastern Europe</td>\n      <td>42.980576</td>\n      <td>37.631453</td>\n      <td>6975761</td>\n    </tr>\n    <tr>\n      <th>21</th>\n      <td>by</td>\n      <td>Belarus</td>\n      <td>53.539998</td>\n      <td>28.046788</td>\n      <td>150</td>\n      <td>Europe</td>\n      <td>42.467194</td>\n      <td>20.181702</td>\n      <td>151</td>\n      <td>Eastern Europe</td>\n      <td>42.980576</td>\n      <td>37.631453</td>\n      <td>9466856</td>\n    </tr>\n    <tr>\n      <th>24</th>\n      <td>ch</td>\n      <td>Switzerland</td>\n      <td>35.486703</td>\n      <td>101.901875</td>\n      <td>150</td>\n      <td>Europe</td>\n      <td>42.467194</td>\n      <td>20.181702</td>\n      <td>155</td>\n      <td>Western Europe</td>\n      <td>45.001236</td>\n      <td>18.957363</td>\n      <td>8574832</td>\n    </tr>\n    <tr>\n      <th>33</th>\n      <td>cz</td>\n      <td>Czechia</td>\n      <td>49.742859</td>\n      <td>15.338412</td>\n      <td>150</td>\n      <td>Europe</td>\n      <td>42.467194</td>\n      <td>20.181702</td>\n      <td>151</td>\n      <td>Eastern Europe</td>\n      <td>42.980576</td>\n      <td>37.631453</td>\n      <td>10669709</td>\n    </tr>\n    <tr>\n      <th>34</th>\n      <td>de</td>\n      <td>Germany</td>\n      <td>51.133481</td>\n      <td>10.018343</td>\n      <td>150</td>\n      <td>Europe</td>\n      <td>42.467194</td>\n      <td>20.181702</td>\n      <td>155</td>\n      <td>Western Europe</td>\n      <td>45.001236</td>\n      <td>18.957363</td>\n      <td>83132799</td>\n    </tr>\n    <tr>\n      <th>36</th>\n      <td>dk</td>\n      <td>Denmark</td>\n      <td>55.963398</td>\n      <td>10.046297</td>\n      <td>150</td>\n      <td>Europe</td>\n      <td>42.467194</td>\n      <td>20.181702</td>\n      <td>154</td>\n      <td>Northern Europe</td>\n      <td>53.466869</td>\n      <td>28.005938</td>\n      <td>5818553</td>\n    </tr>\n    <tr>\n      <th>40</th>\n      <td>ee</td>\n      <td>Estonia</td>\n      <td>58.778397</td>\n      <td>25.761527</td>\n      <td>150</td>\n      <td>Europe</td>\n      <td>42.467194</td>\n      <td>20.181702</td>\n      <td>154</td>\n      <td>Northern Europe</td>\n      <td>53.466869</td>\n      <td>28.005938</td>\n      <td>1326590</td>\n    </tr>\n    <tr>\n      <th>43</th>\n      <td>es</td>\n      <td>Spain</td>\n      <td>41.294856</td>\n      <td>-4.055685</td>\n      <td>150</td>\n      <td>Europe</td>\n      <td>42.467194</td>\n      <td>20.181702</td>\n      <td>39</td>\n      <td>Southern Europe</td>\n      <td>32.614556</td>\n      <td>2.915928</td>\n      <td>47076781</td>\n    </tr>\n    <tr>\n      <th>44</th>\n      <td>fi</td>\n      <td>Finland</td>\n      <td>62.777754</td>\n      <td>26.199539</td>\n      <td>150</td>\n      <td>Europe</td>\n      <td>42.467194</td>\n      <td>20.181702</td>\n      <td>154</td>\n      <td>Northern Europe</td>\n      <td>53.466869</td>\n      <td>28.005938</td>\n      <td>5520314</td>\n    </tr>\n    <tr>\n      <th>45</th>\n      <td>fr</td>\n      <td>France</td>\n      <td>47.824905</td>\n      <td>2.618787</td>\n      <td>150</td>\n      <td>Europe</td>\n      <td>42.467194</td>\n      <td>20.181702</td>\n      <td>155</td>\n      <td>Western Europe</td>\n      <td>45.001236</td>\n      <td>18.957363</td>\n      <td>67059887</td>\n    </tr>\n    <tr>\n      <th>46</th>\n      <td>gb</td>\n      <td>United Kingdom</td>\n      <td>54.237933</td>\n      <td>-2.369670</td>\n      <td>150</td>\n      <td>Europe</td>\n      <td>42.467194</td>\n      <td>20.181702</td>\n      <td>154</td>\n      <td>Northern Europe</td>\n      <td>53.466869</td>\n      <td>28.005938</td>\n      <td>66834405</td>\n    </tr>\n    <tr>\n      <th>49</th>\n      <td>gr</td>\n      <td>Greece</td>\n      <td>54.237933</td>\n      <td>-2.369670</td>\n      <td>150</td>\n      <td>Europe</td>\n      <td>42.467194</td>\n      <td>20.181702</td>\n      <td>39</td>\n      <td>Southern Europe</td>\n      <td>32.614556</td>\n      <td>2.915928</td>\n      <td>10716322</td>\n    </tr>\n    <tr>\n      <th>54</th>\n      <td>hr</td>\n      <td>Croatia</td>\n      <td>45.664952</td>\n      <td>16.679107</td>\n      <td>150</td>\n      <td>Europe</td>\n      <td>42.467194</td>\n      <td>20.181702</td>\n      <td>39</td>\n      <td>Southern Europe</td>\n      <td>32.614556</td>\n      <td>2.915928</td>\n      <td>4067500</td>\n    </tr>\n    <tr>\n      <th>55</th>\n      <td>hu</td>\n      <td>Hungary</td>\n      <td>47.060267</td>\n      <td>19.499349</td>\n      <td>150</td>\n      <td>Europe</td>\n      <td>42.467194</td>\n      <td>20.181702</td>\n      <td>151</td>\n      <td>Eastern Europe</td>\n      <td>42.980576</td>\n      <td>37.631453</td>\n      <td>9769949</td>\n    </tr>\n    <tr>\n      <th>57</th>\n      <td>ie</td>\n      <td>Ireland</td>\n      <td>53.305494</td>\n      <td>-7.737649</td>\n      <td>150</td>\n      <td>Europe</td>\n      <td>42.467194</td>\n      <td>20.181702</td>\n      <td>154</td>\n      <td>Northern Europe</td>\n      <td>53.466869</td>\n      <td>28.005938</td>\n      <td>4941444</td>\n    </tr>\n    <tr>\n      <th>61</th>\n      <td>is</td>\n      <td>Iceland</td>\n      <td>31.847261</td>\n      <td>34.841999</td>\n      <td>150</td>\n      <td>Europe</td>\n      <td>42.467194</td>\n      <td>20.181702</td>\n      <td>154</td>\n      <td>Northern Europe</td>\n      <td>53.466869</td>\n      <td>28.005938</td>\n      <td>361313</td>\n    </tr>\n    <tr>\n      <th>62</th>\n      <td>it</td>\n      <td>Italy</td>\n      <td>42.504154</td>\n      <td>12.646361</td>\n      <td>150</td>\n      <td>Europe</td>\n      <td>42.467194</td>\n      <td>20.181702</td>\n      <td>39</td>\n      <td>Southern Europe</td>\n      <td>32.614556</td>\n      <td>2.915928</td>\n      <td>60297396</td>\n    </tr>\n    <tr>\n      <th>73</th>\n      <td>li</td>\n      <td>Liechtenstein</td>\n      <td>27.043961</td>\n      <td>18.023280</td>\n      <td>150</td>\n      <td>Europe</td>\n      <td>42.467194</td>\n      <td>20.181702</td>\n      <td>155</td>\n      <td>Western Europe</td>\n      <td>45.001236</td>\n      <td>18.957363</td>\n      <td>38019</td>\n    </tr>\n    <tr>\n      <th>76</th>\n      <td>lt</td>\n      <td>Lithuania</td>\n      <td>55.487413</td>\n      <td>23.931538</td>\n      <td>150</td>\n      <td>Europe</td>\n      <td>42.467194</td>\n      <td>20.181702</td>\n      <td>154</td>\n      <td>Northern Europe</td>\n      <td>53.466869</td>\n      <td>28.005938</td>\n      <td>2786844</td>\n    </tr>\n    <tr>\n      <th>77</th>\n      <td>lu</td>\n      <td>Luxembourg</td>\n      <td>49.770628</td>\n      <td>6.087814</td>\n      <td>150</td>\n      <td>Europe</td>\n      <td>42.467194</td>\n      <td>20.181702</td>\n      <td>155</td>\n      <td>Western Europe</td>\n      <td>45.001236</td>\n      <td>18.957363</td>\n      <td>619896</td>\n    </tr>\n    <tr>\n      <th>78</th>\n      <td>lv</td>\n      <td>Latvia</td>\n      <td>56.959065</td>\n      <td>24.862593</td>\n      <td>150</td>\n      <td>Europe</td>\n      <td>42.467194</td>\n      <td>20.181702</td>\n      <td>154</td>\n      <td>Northern Europe</td>\n      <td>53.466869</td>\n      <td>28.005938</td>\n      <td>1912789</td>\n    </tr>\n    <tr>\n      <th>80</th>\n      <td>mc</td>\n      <td>Monaco</td>\n      <td>43.732482</td>\n      <td>7.418962</td>\n      <td>150</td>\n      <td>Europe</td>\n      <td>42.467194</td>\n      <td>20.181702</td>\n      <td>155</td>\n      <td>Western Europe</td>\n      <td>45.001236</td>\n      <td>18.957363</td>\n      <td>38964</td>\n    </tr>\n    <tr>\n      <th>81</th>\n      <td>md</td>\n      <td>Moldova, Republic of</td>\n      <td>4.178874</td>\n      <td>73.511049</td>\n      <td>150</td>\n      <td>Europe</td>\n      <td>42.467194</td>\n      <td>20.181702</td>\n      <td>151</td>\n      <td>Eastern Europe</td>\n      <td>42.980576</td>\n      <td>37.631453</td>\n      <td>2657637</td>\n    </tr>\n    <tr>\n      <th>82</th>\n      <td>me</td>\n      <td>Montenegro</td>\n      <td>23.950464</td>\n      <td>-102.532867</td>\n      <td>150</td>\n      <td>Europe</td>\n      <td>42.467194</td>\n      <td>20.181702</td>\n      <td>39</td>\n      <td>Southern Europe</td>\n      <td>32.614556</td>\n      <td>2.915928</td>\n      <td>622137</td>\n    </tr>\n    <tr>\n      <th>87</th>\n      <td>mt</td>\n      <td>Malta</td>\n      <td>14.652549</td>\n      <td>-61.021287</td>\n      <td>150</td>\n      <td>Europe</td>\n      <td>42.467194</td>\n      <td>20.181702</td>\n      <td>39</td>\n      <td>Southern Europe</td>\n      <td>32.614556</td>\n      <td>2.915928</td>\n      <td>502653</td>\n    </tr>\n    <tr>\n      <th>98</th>\n      <td>nl</td>\n      <td>Netherlands</td>\n      <td>51.972466</td>\n      <td>5.613491</td>\n      <td>150</td>\n      <td>Europe</td>\n      <td>42.467194</td>\n      <td>20.181702</td>\n      <td>155</td>\n      <td>Western Europe</td>\n      <td>45.001236</td>\n      <td>18.957363</td>\n      <td>17332850</td>\n    </tr>\n    <tr>\n      <th>99</th>\n      <td>no</td>\n      <td>Norway</td>\n      <td>40.347099</td>\n      <td>126.847799</td>\n      <td>150</td>\n      <td>Europe</td>\n      <td>42.467194</td>\n      <td>20.181702</td>\n      <td>154</td>\n      <td>Northern Europe</td>\n      <td>53.466869</td>\n      <td>28.005938</td>\n      <td>5347896</td>\n    </tr>\n    <tr>\n      <th>107</th>\n      <td>pl</td>\n      <td>Poland</td>\n      <td>52.124610</td>\n      <td>19.300636</td>\n      <td>150</td>\n      <td>Europe</td>\n      <td>42.467194</td>\n      <td>20.181702</td>\n      <td>151</td>\n      <td>Eastern Europe</td>\n      <td>42.980576</td>\n      <td>37.631453</td>\n      <td>37970874</td>\n    </tr>\n    <tr>\n      <th>109</th>\n      <td>pt</td>\n      <td>Portugal</td>\n      <td>39.600995</td>\n      <td>-8.562731</td>\n      <td>150</td>\n      <td>Europe</td>\n      <td>42.467194</td>\n      <td>20.181702</td>\n      <td>39</td>\n      <td>Southern Europe</td>\n      <td>32.614556</td>\n      <td>2.915928</td>\n      <td>10269417</td>\n    </tr>\n    <tr>\n      <th>112</th>\n      <td>ro</td>\n      <td>Romania</td>\n      <td>45.843615</td>\n      <td>24.969258</td>\n      <td>150</td>\n      <td>Europe</td>\n      <td>42.467194</td>\n      <td>20.181702</td>\n      <td>151</td>\n      <td>Eastern Europe</td>\n      <td>42.980576</td>\n      <td>37.631453</td>\n      <td>19356544</td>\n    </tr>\n    <tr>\n      <th>113</th>\n      <td>rs</td>\n      <td>Serbia</td>\n      <td>44.226737</td>\n      <td>20.795300</td>\n      <td>150</td>\n      <td>Europe</td>\n      <td>42.467194</td>\n      <td>20.181702</td>\n      <td>39</td>\n      <td>Southern Europe</td>\n      <td>32.614556</td>\n      <td>2.915928</td>\n      <td>6944975</td>\n    </tr>\n    <tr>\n      <th>114</th>\n      <td>ru</td>\n      <td>Russian Federation</td>\n      <td>61.994573</td>\n      <td>96.669705</td>\n      <td>150</td>\n      <td>Europe</td>\n      <td>42.467194</td>\n      <td>20.181702</td>\n      <td>151</td>\n      <td>Eastern Europe</td>\n      <td>42.980576</td>\n      <td>37.631453</td>\n      <td>144373535</td>\n    </tr>\n    <tr>\n      <th>115</th>\n      <td>se</td>\n      <td>Sweden</td>\n      <td>64.964875</td>\n      <td>17.675409</td>\n      <td>150</td>\n      <td>Europe</td>\n      <td>42.467194</td>\n      <td>20.181702</td>\n      <td>154</td>\n      <td>Northern Europe</td>\n      <td>53.466869</td>\n      <td>28.005938</td>\n      <td>10285453</td>\n    </tr>\n    <tr>\n      <th>117</th>\n      <td>si</td>\n      <td>Slovenia</td>\n      <td>1.351616</td>\n      <td>103.808053</td>\n      <td>150</td>\n      <td>Europe</td>\n      <td>42.467194</td>\n      <td>20.181702</td>\n      <td>39</td>\n      <td>Southern Europe</td>\n      <td>32.614556</td>\n      <td>2.915928</td>\n      <td>2087946</td>\n    </tr>\n    <tr>\n      <th>118</th>\n      <td>sk</td>\n      <td>Slovakia</td>\n      <td>48.707531</td>\n      <td>19.491651</td>\n      <td>150</td>\n      <td>Europe</td>\n      <td>42.467194</td>\n      <td>20.181702</td>\n      <td>151</td>\n      <td>Eastern Europe</td>\n      <td>42.980576</td>\n      <td>37.631453</td>\n      <td>5454073</td>\n    </tr>\n    <tr>\n      <th>128</th>\n      <td>ua</td>\n      <td>Ukraine</td>\n      <td>23.852060</td>\n      <td>54.256172</td>\n      <td>150</td>\n      <td>Europe</td>\n      <td>42.467194</td>\n      <td>20.181702</td>\n      <td>151</td>\n      <td>Eastern Europe</td>\n      <td>42.980576</td>\n      <td>37.631453</td>\n      <td>44385155</td>\n    </tr>\n    <tr>\n      <th>144</th>\n      <td>gi</td>\n      <td>Gibraltar</td>\n      <td>10.785546</td>\n      <td>-11.029862</td>\n      <td>150</td>\n      <td>Europe</td>\n      <td>42.467194</td>\n      <td>20.181702</td>\n      <td>39</td>\n      <td>Southern Europe</td>\n      <td>32.614556</td>\n      <td>2.915928</td>\n      <td>33701</td>\n    </tr>\n    <tr>\n      <th>154</th>\n      <td>mk</td>\n      <td>North Macedonia</td>\n      <td>41.599683</td>\n      <td>21.697476</td>\n      <td>150</td>\n      <td>Europe</td>\n      <td>42.467194</td>\n      <td>20.181702</td>\n      <td>39</td>\n      <td>Southern Europe</td>\n      <td>32.614556</td>\n      <td>2.915928</td>\n      <td>2083459</td>\n    </tr>\n  </tbody>\n</table>\n</div>"
     },
     "execution_count": 19,
     "metadata": {},
     "output_type": "execute_result"
    }
   ],
   "source": [
    "df[df[\"region_code\"]==150]"
   ],
   "metadata": {
    "collapsed": false
   }
  },
  {
   "cell_type": "code",
   "execution_count": null,
   "metadata": {
    "collapsed": false,
    "jupyter": {
     "outputs_hidden": false
    }
   },
   "outputs": [],
   "source": [
    "df.to_csv(\"../output/processed/countries.csv\", index=False)"
   ]
  },
  {
   "cell_type": "code",
   "execution_count": 21,
   "outputs": [
    {
     "data": {
      "text/plain": "    code        name        lat        lon  region_code region_name  \\\n150   tj  Tajikistan  38.838508  71.042004          142        Asia   \n\n     region_lat  region_lon  sub_region_code sub_region_name  sub_region_lat  \\\n150   27.076799   64.186966              143    Central Asia       41.867274   \n\n     sub_region_lon population  \n150       67.090625    9321018  ",
      "text/html": "<div>\n<style scoped>\n    .dataframe tbody tr th:only-of-type {\n        vertical-align: middle;\n    }\n\n    .dataframe tbody tr th {\n        vertical-align: top;\n    }\n\n    .dataframe thead th {\n        text-align: right;\n    }\n</style>\n<table border=\"1\" class=\"dataframe\">\n  <thead>\n    <tr style=\"text-align: right;\">\n      <th></th>\n      <th>code</th>\n      <th>name</th>\n      <th>lat</th>\n      <th>lon</th>\n      <th>region_code</th>\n      <th>region_name</th>\n      <th>region_lat</th>\n      <th>region_lon</th>\n      <th>sub_region_code</th>\n      <th>sub_region_name</th>\n      <th>sub_region_lat</th>\n      <th>sub_region_lon</th>\n      <th>population</th>\n    </tr>\n  </thead>\n  <tbody>\n    <tr>\n      <th>150</th>\n      <td>tj</td>\n      <td>Tajikistan</td>\n      <td>38.838508</td>\n      <td>71.042004</td>\n      <td>142</td>\n      <td>Asia</td>\n      <td>27.076799</td>\n      <td>64.186966</td>\n      <td>143</td>\n      <td>Central Asia</td>\n      <td>41.867274</td>\n      <td>67.090625</td>\n      <td>9321018</td>\n    </tr>\n  </tbody>\n</table>\n</div>"
     },
     "execution_count": 21,
     "metadata": {},
     "output_type": "execute_result"
    }
   ],
   "source": [
    "df.loc[df[\"code\"].isin([\"tj\"])]"
   ],
   "metadata": {
    "collapsed": false
   }
  }
 ],
 "metadata": {
  "kernelspec": {
   "display_name": "Python 3 (ipykernel)",
   "language": "python",
   "name": "python3"
  },
  "language_info": {
   "codemirror_mode": {
    "name": "ipython",
    "version": 3
   },
   "file_extension": ".py",
   "mimetype": "text/x-python",
   "name": "python",
   "nbconvert_exporter": "python",
   "pygments_lexer": "ipython3",
   "version": "3.8.8"
  }
 },
 "nbformat": 4,
 "nbformat_minor": 4
}
