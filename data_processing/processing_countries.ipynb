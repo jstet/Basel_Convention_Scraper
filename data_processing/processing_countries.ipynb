{
 "cells": [
  {
   "cell_type": "code",
   "execution_count": 34,
   "metadata": {
    "tags": []
   },
   "outputs": [],
   "source": [
    "import os\n",
    "import requests\n",
    "from dotenv import load_dotenv\n",
    "import pandas as pd\n",
    "import pycountry\n",
    "import pypopulation\n",
    "from geojson import FeatureCollection, dump\n",
    "import numpy as np\n",
    "import matplotlib.pyplot as plt\n",
    "from scipy.cluster.hierarchy import dendrogram, linkage\n",
    "from sklearn.cluster import AgglomerativeClustering\n",
    "from sklearn.neighbors import NearestCentroid\n",
    "from matplotlib.pyplot import figure"
   ]
  },
  {
   "cell_type": "markdown",
   "source": [
    "## Geocoding\n",
    "Assigning countries coordinates"
   ],
   "metadata": {
    "collapsed": false
   }
  },
  {
   "cell_type": "code",
   "execution_count": 35,
   "metadata": {
    "collapsed": false,
    "jupyter": {
     "outputs_hidden": false
    }
   },
   "outputs": [],
   "source": [
    "load_dotenv()\n",
    "TOKEN=os.getenv(\"MAPBOX_TOKEN\")\n",
    "df = pd.read_csv(\"../output/processed/clean.csv\") # ../output/processed/\n",
    "origins = list(df.origin.unique())\n",
    "destinations = list(df.destination.unique())"
   ]
  },
  {
   "cell_type": "code",
   "execution_count": 36,
   "metadata": {
    "collapsed": false,
    "jupyter": {
     "outputs_hidden": false
    }
   },
   "outputs": [],
   "source": [
    "in_first = set(origins)\n",
    "in_second = set(destinations)\n",
    "in_second_but_not_in_first = in_second - in_first\n",
    "countries = origins + list(in_second_but_not_in_first)"
   ]
  },
  {
   "cell_type": "code",
   "execution_count": 37,
   "metadata": {
    "collapsed": false,
    "jupyter": {
     "outputs_hidden": false
    }
   },
   "outputs": [],
   "source": [
    "df = pd.DataFrame({\"country\":countries})"
   ]
  },
  {
   "cell_type": "code",
   "execution_count": 38,
   "metadata": {
    "collapsed": false,
    "jupyter": {
     "outputs_hidden": false
    }
   },
   "outputs": [],
   "source": [
    "headers = {'Accept': 'application/json'}\n",
    "lst = []\n",
    "for i in countries:\n",
    "    obj = {}\n",
    "    obj[\"type\"]=\"Feature\"\n",
    "    obj[\"properties\"]={\"name\": pycountry.countries.get(alpha_2=i).name}\n",
    "    pop = pypopulation.get_population_a2(i)\n",
    "    url = f\"https://api.mapbox.com/geocoding/v5/mapbox.places/{i}.json?&types=country&access_token={TOKEN}\"\n",
    "    r = requests.get(url)\n",
    "    jason = r.json()\n",
    "    obj[\"properties\"][\"code\"] = i.lower()\n",
    "    coords = jason[\"features\"][0][\"center\"]\n",
    "    obj[\"geometry\"] = {\"type\":\"Point\", \"coordinates\": coords}\n",
    "    lst.append(obj)\n",
    "    df.loc[df[\"country\"] == i, \"lat\"] = coords[0]\n",
    "    df.loc[df[\"country\"] == i, \"lon\"] = coords[1]\n",
    "    df.loc[df[\"country\"] == i, \"name\"] = obj[\"properties\"][\"name\"]\n",
    "    df.loc[df[\"country\"] == i, \"population\"] = pop"
   ]
  },
  {
   "cell_type": "code",
   "execution_count": 39,
   "metadata": {
    "collapsed": false,
    "jupyter": {
     "outputs_hidden": false
    }
   },
   "outputs": [],
   "source": [
    "with open('../output/processed/countries.geojson', 'w') as f:\n",
    "    dump(FeatureCollection(lst), f)"
   ]
  },
  {
   "cell_type": "code",
   "execution_count": 58,
   "metadata": {
    "collapsed": false,
    "jupyter": {
     "outputs_hidden": false
    }
   },
   "outputs": [],
   "source": [
    "df['population'] = df['population'].fillna(0).astype(int)"
   ]
  },
  {
   "cell_type": "code",
   "execution_count": 59,
   "metadata": {},
   "outputs": [],
   "source": [
    "# filling one country manually\n",
    "df.loc[df[df[\"name\"]==\"Saint Barthélemy\"].index, 'population'] = 10.457"
   ]
  },
  {
   "cell_type": "markdown",
   "source": [
    "## Clustering\n"
   ],
   "metadata": {
    "collapsed": false
   }
  },
  {
   "cell_type": "code",
   "execution_count": 60,
   "metadata": {},
   "outputs": [
    {
     "ename": "KeyError",
     "evalue": "\"None of [Index(['lat', 'lon'], dtype='object')] are in the [columns]\"",
     "output_type": "error",
     "traceback": [
      "\u001B[0;31m---------------------------------------------------------------------------\u001B[0m",
      "\u001B[0;31mKeyError\u001B[0m                                  Traceback (most recent call last)",
      "Cell \u001B[0;32mIn[60], line 1\u001B[0m\n\u001B[0;32m----> 1\u001B[0m X \u001B[38;5;241m=\u001B[39m \u001B[43mdf\u001B[49m\u001B[43m[\u001B[49m\u001B[43m[\u001B[49m\u001B[38;5;124;43m\"\u001B[39;49m\u001B[38;5;124;43mlat\u001B[39;49m\u001B[38;5;124;43m\"\u001B[39;49m\u001B[43m,\u001B[49m\u001B[38;5;124;43m\"\u001B[39;49m\u001B[38;5;124;43mlon\u001B[39;49m\u001B[38;5;124;43m\"\u001B[39;49m\u001B[43m]\u001B[49m\u001B[43m]\u001B[49m\n",
      "File \u001B[0;32m~/Code/Uni/Basel_Convention_Scraper/venv/lib/python3.10/site-packages/pandas/core/frame.py:3811\u001B[0m, in \u001B[0;36mDataFrame.__getitem__\u001B[0;34m(self, key)\u001B[0m\n\u001B[1;32m   3809\u001B[0m     \u001B[38;5;28;01mif\u001B[39;00m is_iterator(key):\n\u001B[1;32m   3810\u001B[0m         key \u001B[38;5;241m=\u001B[39m \u001B[38;5;28mlist\u001B[39m(key)\n\u001B[0;32m-> 3811\u001B[0m     indexer \u001B[38;5;241m=\u001B[39m \u001B[38;5;28;43mself\u001B[39;49m\u001B[38;5;241;43m.\u001B[39;49m\u001B[43mcolumns\u001B[49m\u001B[38;5;241;43m.\u001B[39;49m\u001B[43m_get_indexer_strict\u001B[49m\u001B[43m(\u001B[49m\u001B[43mkey\u001B[49m\u001B[43m,\u001B[49m\u001B[43m \u001B[49m\u001B[38;5;124;43m\"\u001B[39;49m\u001B[38;5;124;43mcolumns\u001B[39;49m\u001B[38;5;124;43m\"\u001B[39;49m\u001B[43m)\u001B[49m[\u001B[38;5;241m1\u001B[39m]\n\u001B[1;32m   3813\u001B[0m \u001B[38;5;66;03m# take() does not accept boolean indexers\u001B[39;00m\n\u001B[1;32m   3814\u001B[0m \u001B[38;5;28;01mif\u001B[39;00m \u001B[38;5;28mgetattr\u001B[39m(indexer, \u001B[38;5;124m\"\u001B[39m\u001B[38;5;124mdtype\u001B[39m\u001B[38;5;124m\"\u001B[39m, \u001B[38;5;28;01mNone\u001B[39;00m) \u001B[38;5;241m==\u001B[39m \u001B[38;5;28mbool\u001B[39m:\n",
      "File \u001B[0;32m~/Code/Uni/Basel_Convention_Scraper/venv/lib/python3.10/site-packages/pandas/core/indexes/base.py:6113\u001B[0m, in \u001B[0;36mIndex._get_indexer_strict\u001B[0;34m(self, key, axis_name)\u001B[0m\n\u001B[1;32m   6110\u001B[0m \u001B[38;5;28;01melse\u001B[39;00m:\n\u001B[1;32m   6111\u001B[0m     keyarr, indexer, new_indexer \u001B[38;5;241m=\u001B[39m \u001B[38;5;28mself\u001B[39m\u001B[38;5;241m.\u001B[39m_reindex_non_unique(keyarr)\n\u001B[0;32m-> 6113\u001B[0m \u001B[38;5;28;43mself\u001B[39;49m\u001B[38;5;241;43m.\u001B[39;49m\u001B[43m_raise_if_missing\u001B[49m\u001B[43m(\u001B[49m\u001B[43mkeyarr\u001B[49m\u001B[43m,\u001B[49m\u001B[43m \u001B[49m\u001B[43mindexer\u001B[49m\u001B[43m,\u001B[49m\u001B[43m \u001B[49m\u001B[43maxis_name\u001B[49m\u001B[43m)\u001B[49m\n\u001B[1;32m   6115\u001B[0m keyarr \u001B[38;5;241m=\u001B[39m \u001B[38;5;28mself\u001B[39m\u001B[38;5;241m.\u001B[39mtake(indexer)\n\u001B[1;32m   6116\u001B[0m \u001B[38;5;28;01mif\u001B[39;00m \u001B[38;5;28misinstance\u001B[39m(key, Index):\n\u001B[1;32m   6117\u001B[0m     \u001B[38;5;66;03m# GH 42790 - Preserve name from an Index\u001B[39;00m\n",
      "File \u001B[0;32m~/Code/Uni/Basel_Convention_Scraper/venv/lib/python3.10/site-packages/pandas/core/indexes/base.py:6173\u001B[0m, in \u001B[0;36mIndex._raise_if_missing\u001B[0;34m(self, key, indexer, axis_name)\u001B[0m\n\u001B[1;32m   6171\u001B[0m     \u001B[38;5;28;01mif\u001B[39;00m use_interval_msg:\n\u001B[1;32m   6172\u001B[0m         key \u001B[38;5;241m=\u001B[39m \u001B[38;5;28mlist\u001B[39m(key)\n\u001B[0;32m-> 6173\u001B[0m     \u001B[38;5;28;01mraise\u001B[39;00m \u001B[38;5;167;01mKeyError\u001B[39;00m(\u001B[38;5;124mf\u001B[39m\u001B[38;5;124m\"\u001B[39m\u001B[38;5;124mNone of [\u001B[39m\u001B[38;5;132;01m{\u001B[39;00mkey\u001B[38;5;132;01m}\u001B[39;00m\u001B[38;5;124m] are in the [\u001B[39m\u001B[38;5;132;01m{\u001B[39;00maxis_name\u001B[38;5;132;01m}\u001B[39;00m\u001B[38;5;124m]\u001B[39m\u001B[38;5;124m\"\u001B[39m)\n\u001B[1;32m   6175\u001B[0m not_found \u001B[38;5;241m=\u001B[39m \u001B[38;5;28mlist\u001B[39m(ensure_index(key)[missing_mask\u001B[38;5;241m.\u001B[39mnonzero()[\u001B[38;5;241m0\u001B[39m]]\u001B[38;5;241m.\u001B[39munique())\n\u001B[1;32m   6176\u001B[0m \u001B[38;5;28;01mraise\u001B[39;00m \u001B[38;5;167;01mKeyError\u001B[39;00m(\u001B[38;5;124mf\u001B[39m\u001B[38;5;124m\"\u001B[39m\u001B[38;5;132;01m{\u001B[39;00mnot_found\u001B[38;5;132;01m}\u001B[39;00m\u001B[38;5;124m not in index\u001B[39m\u001B[38;5;124m\"\u001B[39m)\n",
      "\u001B[0;31mKeyError\u001B[0m: \"None of [Index(['lat', 'lon'], dtype='object')] are in the [columns]\""
     ]
    }
   ],
   "source": [
    "X = df[[\"lat\",\"lon\"]]"
   ]
  },
  {
   "cell_type": "code",
   "execution_count": 44,
   "metadata": {},
   "outputs": [
    {
     "data": {
      "text/plain": "[132, 109, 86, 63, 40]"
     },
     "execution_count": 44,
     "metadata": {},
     "output_type": "execute_result"
    }
   ],
   "source": [
    "lst = []\n",
    "s = len(X)\n",
    "# 6 zoom levels\n",
    "for i in range(5):\n",
    "    s -= 23\n",
    "    lst.append(s)\n",
    "lst"
   ]
  },
  {
   "cell_type": "code",
   "execution_count": 45,
   "metadata": {},
   "outputs": [],
   "source": [
    "for count,i in enumerate(lst):\n",
    "    hierarchical_cluster = AgglomerativeClustering(n_clusters=i, metric='euclidean', linkage='ward')\n",
    "    labels = hierarchical_cluster.fit_predict(X)\n",
    "    clf = NearestCentroid()\n",
    "    clf.fit(X, labels)\n",
    "    df[\"temp\"] = labels\n",
    "    df[f\"lat_{count+1}\"] = df.apply(lambda x: clf.centroids_[x[\"temp\"]][0], axis=1)\n",
    "    df[f\"lon_{count+1}\"] = df.apply(lambda x: clf.centroids_[x[\"temp\"]][1], axis=1)\n"
   ]
  },
  {
   "cell_type": "code",
   "execution_count": 46,
   "metadata": {},
   "outputs": [
    {
     "data": {
      "text/plain": "    country       lat_0      lon_0                  name  population  \\\n0        ad    1.576766  42.548654               Andorra     77142.0   \n1        ae   10.525771   1.612130  United Arab Emirates   9770529.0   \n2        af   66.026471  33.838806           Afghanistan  38041754.0   \n3        al    2.632388  28.163240               Albania   2854191.0   \n4        am  -97.922211  39.381266               Armenia   2957731.0   \n..      ...         ...        ...                   ...         ...   \n150      tj   71.042004  38.838508            Tajikistan   9321018.0   \n151      ug   32.386218   1.279964                Uganda  44269594.0   \n152      hk  114.162550  22.279356             Hong Kong   7507400.0   \n153      sa   44.652426  23.384784          Saudi Arabia  34268528.0   \n154      gi  -11.029862  10.785546             Gibraltar     33701.0   \n\n          lat_1      lon_1       lat_2      lon_2       lat_3      lon_3  \\\n0      1.576766  42.548654    1.576766  42.548654    2.097777  45.186779   \n1     10.525771   1.612130   10.525771   1.612130   10.525771   1.612130   \n2     66.026471  33.838806   66.026471  33.838806   66.860854  31.012595   \n3      2.632388  28.163240    2.632388  28.163240    2.632388  28.163240   \n4    -97.922211  39.381266  -97.922211  39.381266  -97.922211  39.381266   \n..          ...        ...         ...        ...         ...        ...   \n150   71.042004  38.838508   71.042004  38.838508   72.798800  40.151781   \n151   32.386218   1.279964   32.386218   1.279964   35.122050   0.904913   \n152  114.162550  22.279356  114.162550  22.279356  114.162550  22.279356   \n153   44.652426  23.384784   44.652426  23.384784   44.652426  23.384784   \n154  -11.029862  10.785546  -11.029862  10.785546  -14.181770  12.870805   \n\n          lat_4      lon_4       lat_5      lon_5  \n0      2.097777  45.186779   -2.105716  42.817352  \n1      8.912128   6.933350    8.912128   6.933350  \n2     66.860854  31.012595   70.732796  28.074786  \n3      2.632388  28.163240    7.762685  27.790147  \n4    -97.922211  39.381266  -97.922211  39.381266  \n..          ...        ...         ...        ...  \n150   72.798800  40.151781   67.090625  41.867274  \n151   35.122050   0.904913   31.137000   0.212303  \n152  117.572165  18.433072  111.125326  16.577226  \n153   46.137178  19.661310   50.846777  23.131173  \n154  -14.181770  12.870805  -16.047216  13.280244  \n\n[155 rows x 15 columns]",
      "text/html": "<div>\n<style scoped>\n    .dataframe tbody tr th:only-of-type {\n        vertical-align: middle;\n    }\n\n    .dataframe tbody tr th {\n        vertical-align: top;\n    }\n\n    .dataframe thead th {\n        text-align: right;\n    }\n</style>\n<table border=\"1\" class=\"dataframe\">\n  <thead>\n    <tr style=\"text-align: right;\">\n      <th></th>\n      <th>country</th>\n      <th>lat_0</th>\n      <th>lon_0</th>\n      <th>name</th>\n      <th>population</th>\n      <th>lat_1</th>\n      <th>lon_1</th>\n      <th>lat_2</th>\n      <th>lon_2</th>\n      <th>lat_3</th>\n      <th>lon_3</th>\n      <th>lat_4</th>\n      <th>lon_4</th>\n      <th>lat_5</th>\n      <th>lon_5</th>\n    </tr>\n  </thead>\n  <tbody>\n    <tr>\n      <th>0</th>\n      <td>ad</td>\n      <td>1.576766</td>\n      <td>42.548654</td>\n      <td>Andorra</td>\n      <td>77142.0</td>\n      <td>1.576766</td>\n      <td>42.548654</td>\n      <td>1.576766</td>\n      <td>42.548654</td>\n      <td>2.097777</td>\n      <td>45.186779</td>\n      <td>2.097777</td>\n      <td>45.186779</td>\n      <td>-2.105716</td>\n      <td>42.817352</td>\n    </tr>\n    <tr>\n      <th>1</th>\n      <td>ae</td>\n      <td>10.525771</td>\n      <td>1.612130</td>\n      <td>United Arab Emirates</td>\n      <td>9770529.0</td>\n      <td>10.525771</td>\n      <td>1.612130</td>\n      <td>10.525771</td>\n      <td>1.612130</td>\n      <td>10.525771</td>\n      <td>1.612130</td>\n      <td>8.912128</td>\n      <td>6.933350</td>\n      <td>8.912128</td>\n      <td>6.933350</td>\n    </tr>\n    <tr>\n      <th>2</th>\n      <td>af</td>\n      <td>66.026471</td>\n      <td>33.838806</td>\n      <td>Afghanistan</td>\n      <td>38041754.0</td>\n      <td>66.026471</td>\n      <td>33.838806</td>\n      <td>66.026471</td>\n      <td>33.838806</td>\n      <td>66.860854</td>\n      <td>31.012595</td>\n      <td>66.860854</td>\n      <td>31.012595</td>\n      <td>70.732796</td>\n      <td>28.074786</td>\n    </tr>\n    <tr>\n      <th>3</th>\n      <td>al</td>\n      <td>2.632388</td>\n      <td>28.163240</td>\n      <td>Albania</td>\n      <td>2854191.0</td>\n      <td>2.632388</td>\n      <td>28.163240</td>\n      <td>2.632388</td>\n      <td>28.163240</td>\n      <td>2.632388</td>\n      <td>28.163240</td>\n      <td>2.632388</td>\n      <td>28.163240</td>\n      <td>7.762685</td>\n      <td>27.790147</td>\n    </tr>\n    <tr>\n      <th>4</th>\n      <td>am</td>\n      <td>-97.922211</td>\n      <td>39.381266</td>\n      <td>Armenia</td>\n      <td>2957731.0</td>\n      <td>-97.922211</td>\n      <td>39.381266</td>\n      <td>-97.922211</td>\n      <td>39.381266</td>\n      <td>-97.922211</td>\n      <td>39.381266</td>\n      <td>-97.922211</td>\n      <td>39.381266</td>\n      <td>-97.922211</td>\n      <td>39.381266</td>\n    </tr>\n    <tr>\n      <th>...</th>\n      <td>...</td>\n      <td>...</td>\n      <td>...</td>\n      <td>...</td>\n      <td>...</td>\n      <td>...</td>\n      <td>...</td>\n      <td>...</td>\n      <td>...</td>\n      <td>...</td>\n      <td>...</td>\n      <td>...</td>\n      <td>...</td>\n      <td>...</td>\n      <td>...</td>\n    </tr>\n    <tr>\n      <th>150</th>\n      <td>tj</td>\n      <td>71.042004</td>\n      <td>38.838508</td>\n      <td>Tajikistan</td>\n      <td>9321018.0</td>\n      <td>71.042004</td>\n      <td>38.838508</td>\n      <td>71.042004</td>\n      <td>38.838508</td>\n      <td>72.798800</td>\n      <td>40.151781</td>\n      <td>72.798800</td>\n      <td>40.151781</td>\n      <td>67.090625</td>\n      <td>41.867274</td>\n    </tr>\n    <tr>\n      <th>151</th>\n      <td>ug</td>\n      <td>32.386218</td>\n      <td>1.279964</td>\n      <td>Uganda</td>\n      <td>44269594.0</td>\n      <td>32.386218</td>\n      <td>1.279964</td>\n      <td>32.386218</td>\n      <td>1.279964</td>\n      <td>35.122050</td>\n      <td>0.904913</td>\n      <td>35.122050</td>\n      <td>0.904913</td>\n      <td>31.137000</td>\n      <td>0.212303</td>\n    </tr>\n    <tr>\n      <th>152</th>\n      <td>hk</td>\n      <td>114.162550</td>\n      <td>22.279356</td>\n      <td>Hong Kong</td>\n      <td>7507400.0</td>\n      <td>114.162550</td>\n      <td>22.279356</td>\n      <td>114.162550</td>\n      <td>22.279356</td>\n      <td>114.162550</td>\n      <td>22.279356</td>\n      <td>117.572165</td>\n      <td>18.433072</td>\n      <td>111.125326</td>\n      <td>16.577226</td>\n    </tr>\n    <tr>\n      <th>153</th>\n      <td>sa</td>\n      <td>44.652426</td>\n      <td>23.384784</td>\n      <td>Saudi Arabia</td>\n      <td>34268528.0</td>\n      <td>44.652426</td>\n      <td>23.384784</td>\n      <td>44.652426</td>\n      <td>23.384784</td>\n      <td>44.652426</td>\n      <td>23.384784</td>\n      <td>46.137178</td>\n      <td>19.661310</td>\n      <td>50.846777</td>\n      <td>23.131173</td>\n    </tr>\n    <tr>\n      <th>154</th>\n      <td>gi</td>\n      <td>-11.029862</td>\n      <td>10.785546</td>\n      <td>Gibraltar</td>\n      <td>33701.0</td>\n      <td>-11.029862</td>\n      <td>10.785546</td>\n      <td>-11.029862</td>\n      <td>10.785546</td>\n      <td>-14.181770</td>\n      <td>12.870805</td>\n      <td>-14.181770</td>\n      <td>12.870805</td>\n      <td>-16.047216</td>\n      <td>13.280244</td>\n    </tr>\n  </tbody>\n</table>\n<p>155 rows × 15 columns</p>\n</div>"
     },
     "execution_count": 46,
     "metadata": {},
     "output_type": "execute_result"
    }
   ],
   "source": [
    "df.rename(columns={\"lon\": \"lon_0\", \"lat\": \"lat_0\"}, inplace=True)\n",
    "df.drop([\"temp\"],inplace=True, axis=1)\n",
    "df"
   ]
  },
  {
   "cell_type": "code",
   "execution_count": 61,
   "outputs": [
    {
     "data": {
      "text/plain": "    country       lat_0      lon_0                  name  population  \\\n0        ad    1.576766  42.548654               Andorra     77142.0   \n1        ae   10.525771   1.612130  United Arab Emirates   9770529.0   \n2        af   66.026471  33.838806           Afghanistan  38041754.0   \n3        al    2.632388  28.163240               Albania   2854191.0   \n4        am  -97.922211  39.381266               Armenia   2957731.0   \n..      ...         ...        ...                   ...         ...   \n150      tj   71.042004  38.838508            Tajikistan   9321018.0   \n151      ug   32.386218   1.279964                Uganda  44269594.0   \n152      hk  114.162550  22.279356             Hong Kong   7507400.0   \n153      sa   44.652426  23.384784          Saudi Arabia  34268528.0   \n154      gi  -11.029862  10.785546             Gibraltar     33701.0   \n\n          lat_1      lon_1       lat_2      lon_2       lat_3      lon_3  \\\n0      1.576766  42.548654    1.576766  42.548654    2.097777  45.186779   \n1     10.525771   1.612130   10.525771   1.612130   10.525771   1.612130   \n2     66.026471  33.838806   66.026471  33.838806   66.860854  31.012595   \n3      2.632388  28.163240    2.632388  28.163240    2.632388  28.163240   \n4    -97.922211  39.381266  -97.922211  39.381266  -97.922211  39.381266   \n..          ...        ...         ...        ...         ...        ...   \n150   71.042004  38.838508   71.042004  38.838508   72.798800  40.151781   \n151   32.386218   1.279964   32.386218   1.279964   35.122050   0.904913   \n152  114.162550  22.279356  114.162550  22.279356  114.162550  22.279356   \n153   44.652426  23.384784   44.652426  23.384784   44.652426  23.384784   \n154  -11.029862  10.785546  -11.029862  10.785546  -14.181770  12.870805   \n\n          lat_4      lon_4       lat_5      lon_5  \n0      2.097777  45.186779   -2.105716  42.817352  \n1      8.912128   6.933350    8.912128   6.933350  \n2     66.860854  31.012595   70.732796  28.074786  \n3      2.632388  28.163240    7.762685  27.790147  \n4    -97.922211  39.381266  -97.922211  39.381266  \n..          ...        ...         ...        ...  \n150   72.798800  40.151781   67.090625  41.867274  \n151   35.122050   0.904913   31.137000   0.212303  \n152  117.572165  18.433072  111.125326  16.577226  \n153   46.137178  19.661310   50.846777  23.131173  \n154  -14.181770  12.870805  -16.047216  13.280244  \n\n[155 rows x 15 columns]",
      "text/html": "<div>\n<style scoped>\n    .dataframe tbody tr th:only-of-type {\n        vertical-align: middle;\n    }\n\n    .dataframe tbody tr th {\n        vertical-align: top;\n    }\n\n    .dataframe thead th {\n        text-align: right;\n    }\n</style>\n<table border=\"1\" class=\"dataframe\">\n  <thead>\n    <tr style=\"text-align: right;\">\n      <th></th>\n      <th>country</th>\n      <th>lat_0</th>\n      <th>lon_0</th>\n      <th>name</th>\n      <th>population</th>\n      <th>lat_1</th>\n      <th>lon_1</th>\n      <th>lat_2</th>\n      <th>lon_2</th>\n      <th>lat_3</th>\n      <th>lon_3</th>\n      <th>lat_4</th>\n      <th>lon_4</th>\n      <th>lat_5</th>\n      <th>lon_5</th>\n    </tr>\n  </thead>\n  <tbody>\n    <tr>\n      <th>0</th>\n      <td>ad</td>\n      <td>1.576766</td>\n      <td>42.548654</td>\n      <td>Andorra</td>\n      <td>77142.0</td>\n      <td>1.576766</td>\n      <td>42.548654</td>\n      <td>1.576766</td>\n      <td>42.548654</td>\n      <td>2.097777</td>\n      <td>45.186779</td>\n      <td>2.097777</td>\n      <td>45.186779</td>\n      <td>-2.105716</td>\n      <td>42.817352</td>\n    </tr>\n    <tr>\n      <th>1</th>\n      <td>ae</td>\n      <td>10.525771</td>\n      <td>1.612130</td>\n      <td>United Arab Emirates</td>\n      <td>9770529.0</td>\n      <td>10.525771</td>\n      <td>1.612130</td>\n      <td>10.525771</td>\n      <td>1.612130</td>\n      <td>10.525771</td>\n      <td>1.612130</td>\n      <td>8.912128</td>\n      <td>6.933350</td>\n      <td>8.912128</td>\n      <td>6.933350</td>\n    </tr>\n    <tr>\n      <th>2</th>\n      <td>af</td>\n      <td>66.026471</td>\n      <td>33.838806</td>\n      <td>Afghanistan</td>\n      <td>38041754.0</td>\n      <td>66.026471</td>\n      <td>33.838806</td>\n      <td>66.026471</td>\n      <td>33.838806</td>\n      <td>66.860854</td>\n      <td>31.012595</td>\n      <td>66.860854</td>\n      <td>31.012595</td>\n      <td>70.732796</td>\n      <td>28.074786</td>\n    </tr>\n    <tr>\n      <th>3</th>\n      <td>al</td>\n      <td>2.632388</td>\n      <td>28.163240</td>\n      <td>Albania</td>\n      <td>2854191.0</td>\n      <td>2.632388</td>\n      <td>28.163240</td>\n      <td>2.632388</td>\n      <td>28.163240</td>\n      <td>2.632388</td>\n      <td>28.163240</td>\n      <td>2.632388</td>\n      <td>28.163240</td>\n      <td>7.762685</td>\n      <td>27.790147</td>\n    </tr>\n    <tr>\n      <th>4</th>\n      <td>am</td>\n      <td>-97.922211</td>\n      <td>39.381266</td>\n      <td>Armenia</td>\n      <td>2957731.0</td>\n      <td>-97.922211</td>\n      <td>39.381266</td>\n      <td>-97.922211</td>\n      <td>39.381266</td>\n      <td>-97.922211</td>\n      <td>39.381266</td>\n      <td>-97.922211</td>\n      <td>39.381266</td>\n      <td>-97.922211</td>\n      <td>39.381266</td>\n    </tr>\n    <tr>\n      <th>...</th>\n      <td>...</td>\n      <td>...</td>\n      <td>...</td>\n      <td>...</td>\n      <td>...</td>\n      <td>...</td>\n      <td>...</td>\n      <td>...</td>\n      <td>...</td>\n      <td>...</td>\n      <td>...</td>\n      <td>...</td>\n      <td>...</td>\n      <td>...</td>\n      <td>...</td>\n    </tr>\n    <tr>\n      <th>150</th>\n      <td>tj</td>\n      <td>71.042004</td>\n      <td>38.838508</td>\n      <td>Tajikistan</td>\n      <td>9321018.0</td>\n      <td>71.042004</td>\n      <td>38.838508</td>\n      <td>71.042004</td>\n      <td>38.838508</td>\n      <td>72.798800</td>\n      <td>40.151781</td>\n      <td>72.798800</td>\n      <td>40.151781</td>\n      <td>67.090625</td>\n      <td>41.867274</td>\n    </tr>\n    <tr>\n      <th>151</th>\n      <td>ug</td>\n      <td>32.386218</td>\n      <td>1.279964</td>\n      <td>Uganda</td>\n      <td>44269594.0</td>\n      <td>32.386218</td>\n      <td>1.279964</td>\n      <td>32.386218</td>\n      <td>1.279964</td>\n      <td>35.122050</td>\n      <td>0.904913</td>\n      <td>35.122050</td>\n      <td>0.904913</td>\n      <td>31.137000</td>\n      <td>0.212303</td>\n    </tr>\n    <tr>\n      <th>152</th>\n      <td>hk</td>\n      <td>114.162550</td>\n      <td>22.279356</td>\n      <td>Hong Kong</td>\n      <td>7507400.0</td>\n      <td>114.162550</td>\n      <td>22.279356</td>\n      <td>114.162550</td>\n      <td>22.279356</td>\n      <td>114.162550</td>\n      <td>22.279356</td>\n      <td>117.572165</td>\n      <td>18.433072</td>\n      <td>111.125326</td>\n      <td>16.577226</td>\n    </tr>\n    <tr>\n      <th>153</th>\n      <td>sa</td>\n      <td>44.652426</td>\n      <td>23.384784</td>\n      <td>Saudi Arabia</td>\n      <td>34268528.0</td>\n      <td>44.652426</td>\n      <td>23.384784</td>\n      <td>44.652426</td>\n      <td>23.384784</td>\n      <td>44.652426</td>\n      <td>23.384784</td>\n      <td>46.137178</td>\n      <td>19.661310</td>\n      <td>50.846777</td>\n      <td>23.131173</td>\n    </tr>\n    <tr>\n      <th>154</th>\n      <td>gi</td>\n      <td>-11.029862</td>\n      <td>10.785546</td>\n      <td>Gibraltar</td>\n      <td>33701.0</td>\n      <td>-11.029862</td>\n      <td>10.785546</td>\n      <td>-11.029862</td>\n      <td>10.785546</td>\n      <td>-14.181770</td>\n      <td>12.870805</td>\n      <td>-14.181770</td>\n      <td>12.870805</td>\n      <td>-16.047216</td>\n      <td>13.280244</td>\n    </tr>\n  </tbody>\n</table>\n<p>155 rows × 15 columns</p>\n</div>"
     },
     "execution_count": 61,
     "metadata": {},
     "output_type": "execute_result"
    }
   ],
   "source": [
    "df"
   ],
   "metadata": {
    "collapsed": false
   }
  },
  {
   "cell_type": "code",
   "execution_count": 63,
   "metadata": {
    "collapsed": false,
    "jupyter": {
     "outputs_hidden": false
    }
   },
   "outputs": [],
   "source": [
    "df.to_csv(\"../output/processed/countries.csv\", index=False)"
   ]
  }
 ],
 "metadata": {
  "kernelspec": {
   "display_name": "Python 3 (ipykernel)",
   "language": "python",
   "name": "python3"
  },
  "language_info": {
   "codemirror_mode": {
    "name": "ipython",
    "version": 3
   },
   "file_extension": ".py",
   "mimetype": "text/x-python",
   "name": "python",
   "nbconvert_exporter": "python",
   "pygments_lexer": "ipython3",
   "version": "3.8.8"
  }
 },
 "nbformat": 4,
 "nbformat_minor": 4
}
