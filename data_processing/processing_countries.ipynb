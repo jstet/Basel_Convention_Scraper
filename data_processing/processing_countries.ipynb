{
 "cells": [
  {
   "cell_type": "code",
   "execution_count": 20,
   "metadata": {
    "tags": []
   },
   "outputs": [],
   "source": [
    "import os\n",
    "import requests\n",
    "from dotenv import load_dotenv\n",
    "import pandas as pd\n",
    "import pycountry\n",
    "import pypopulation\n",
    "from geojson import FeatureCollection, dump\n",
    "import numpy as np\n",
    "import matplotlib.pyplot as plt\n",
    "from scipy.cluster.hierarchy import dendrogram, linkage\n",
    "from sklearn.cluster import AgglomerativeClustering\n",
    "from sklearn.neighbors import NearestCentroid\n",
    "from matplotlib.pyplot import figure"
   ]
  },
  {
   "cell_type": "markdown",
   "source": [
    "## Geocoding\n",
    "Assigning countries coordinates"
   ],
   "metadata": {
    "collapsed": false
   }
  },
  {
   "cell_type": "code",
   "execution_count": 21,
   "metadata": {
    "collapsed": false,
    "jupyter": {
     "outputs_hidden": false
    }
   },
   "outputs": [],
   "source": [
    "load_dotenv()\n",
    "TOKEN=os.getenv(\"MAPBOX_TOKEN\")\n",
    "df = pd.read_csv(\"../output/processed/flows.csv\") # ../output/processed/\n",
    "origins = list(df.origin.unique())\n",
    "destinations = list(df.destination.unique())"
   ]
  },
  {
   "cell_type": "code",
   "execution_count": 22,
   "metadata": {
    "collapsed": false,
    "jupyter": {
     "outputs_hidden": false
    }
   },
   "outputs": [],
   "source": [
    "in_first = set(origins)\n",
    "in_second = set(destinations)\n",
    "in_second_but_not_in_first = in_second - in_first\n",
    "countries = origins + list(in_second_but_not_in_first)"
   ]
  },
  {
   "cell_type": "code",
   "execution_count": 23,
   "metadata": {
    "collapsed": false,
    "jupyter": {
     "outputs_hidden": false
    }
   },
   "outputs": [],
   "source": [
    "df = pd.DataFrame({\"country\":countries})"
   ]
  },
  {
   "cell_type": "code",
   "execution_count": 24,
   "metadata": {
    "collapsed": false,
    "jupyter": {
     "outputs_hidden": false
    }
   },
   "outputs": [],
   "source": [
    "headers = {'Accept': 'application/json'}\n",
    "lst = []\n",
    "for i in countries:\n",
    "    obj = {}\n",
    "    obj[\"type\"]=\"Feature\"\n",
    "    obj[\"properties\"]={\"name\": pycountry.countries.get(alpha_2=i).name}\n",
    "    pop = pypopulation.get_population_a2(i)\n",
    "    url = f\"https://api.mapbox.com/geocoding/v5/mapbox.places/{i}.json?&types=country&access_token={TOKEN}\"\n",
    "    r = requests.get(url)\n",
    "    jason = r.json()\n",
    "    obj[\"properties\"][\"code\"] = i.lower()\n",
    "    coords = jason[\"features\"][0][\"center\"]\n",
    "    obj[\"geometry\"] = {\"type\":\"Point\", \"coordinates\": coords}\n",
    "    lst.append(obj)\n",
    "    df.loc[df[\"country\"] == i, \"lat\"] = coords[1]\n",
    "    df.loc[df[\"country\"] == i, \"lon\"] = coords[0]\n",
    "    df.loc[df[\"country\"] == i, \"name\"] = obj[\"properties\"][\"name\"]\n",
    "    df.loc[df[\"country\"] == i, \"population\"] = pop"
   ]
  },
  {
   "cell_type": "code",
   "execution_count": 25,
   "metadata": {
    "collapsed": false,
    "jupyter": {
     "outputs_hidden": false
    }
   },
   "outputs": [],
   "source": [
    "with open('../output/processed/countries.geojson', 'w') as f:\n",
    "    dump(FeatureCollection(lst), f)"
   ]
  },
  {
   "cell_type": "code",
   "execution_count": 26,
   "metadata": {
    "collapsed": false,
    "jupyter": {
     "outputs_hidden": false
    }
   },
   "outputs": [],
   "source": [
    "df['population'] = df['population'].fillna(0).astype(int)"
   ]
  },
  {
   "cell_type": "code",
   "execution_count": 27,
   "metadata": {},
   "outputs": [],
   "source": [
    "# filling one country manually\n",
    "df.loc[df[df[\"name\"]==\"Saint Barthélemy\"].index, 'population'] = 10457\n",
    "df = df.astype({'population':'str'})"
   ]
  },
  {
   "cell_type": "markdown",
   "source": [
    "## Clustering\n"
   ],
   "metadata": {
    "collapsed": false
   }
  },
  {
   "cell_type": "code",
   "execution_count": 28,
   "metadata": {},
   "outputs": [],
   "source": [
    "X = df[[\"lat\",\"lon\"]]"
   ]
  },
  {
   "cell_type": "code",
   "execution_count": 29,
   "metadata": {},
   "outputs": [
    {
     "data": {
      "text/plain": "[132, 109, 86, 63, 40]"
     },
     "execution_count": 29,
     "metadata": {},
     "output_type": "execute_result"
    }
   ],
   "source": [
    "lst = []\n",
    "s = len(X)\n",
    "# 6 zoom levels\n",
    "for i in range(5):\n",
    "    s -= 23\n",
    "    lst.append(s)\n",
    "lst"
   ]
  },
  {
   "cell_type": "code",
   "execution_count": 30,
   "metadata": {},
   "outputs": [],
   "source": [
    "for count,i in enumerate(lst):\n",
    "    hierarchical_cluster = AgglomerativeClustering(n_clusters=i, metric='euclidean', linkage='ward')\n",
    "    labels = hierarchical_cluster.fit_predict(X)\n",
    "    clf = NearestCentroid()\n",
    "    clf.fit(X, labels)\n",
    "    df[f\"label_{count+1}\"] = labels\n",
    "    df[f\"lat_{count+1}\"] = df.apply(lambda x: clf.centroids_[x[f\"label_{count+1}\"]][0], axis=1)\n",
    "    df[f\"lon_{count+1}\"] = df.apply(lambda x: clf.centroids_[x[f\"label_{count+1}\"]][1], axis=1)\n"
   ]
  },
  {
   "cell_type": "code",
   "execution_count": 31,
   "metadata": {},
   "outputs": [
    {
     "data": {
      "text/plain": "    country      lat_0       lon_0                  name  population  label_1  \\\n0        ad  42.548654    1.576766               Andorra       77142       97   \n1        ae   1.612130   10.525771  United Arab Emirates     9770529       67   \n2        af  33.838806   66.026471           Afghanistan    38041754       93   \n3        al  28.163240    2.632388               Albania     2854191        9   \n4        am  39.381266  -97.922211               Armenia     2957731       15   \n..      ...        ...         ...                   ...         ...      ...   \n150      as -14.304405 -170.707833        American Samoa       55312       32   \n151      sd  13.831539   30.049948                 Sudan    42813238       23   \n152      bl  53.539998   28.046788      Saint Barthélemy       10457       16   \n153      in  22.199166   78.476681                 India  1366417754       21   \n154      hk  22.279356  114.162550             Hong Kong     7507400       36   \n\n         lat_1       lon_1  label_2      lat_2       lon_2  label_3  \\\n0    42.548654    1.576766       97  42.548654    1.576766        7   \n1     1.612130   10.525771       67   1.612130   10.525771       67   \n2    33.838806   66.026471       93  33.838806   66.026471       14   \n3    28.163240    2.632388       20  28.163240    2.632388       41   \n4    39.381266  -97.922211       32  39.381266  -97.922211       32   \n..         ...         ...      ...        ...         ...      ...   \n150 -14.304405 -170.707833       23 -14.071868 -171.235791       47   \n151  13.831539   30.049948       47  13.831539   30.049948        1   \n152  53.539998   28.046788       16  53.539998   28.046788       69   \n153  22.199166   78.476681       21  22.199166   78.476681       44   \n154  22.279356  114.162550       36  22.279356  114.162550       74   \n\n         lat_3       lon_3  label_4      lat_4       lon_4  label_5  \\\n0    45.186779    2.097777       15  45.186779    2.097777       13   \n1     1.612130   10.525771        3   6.933350    8.912128       15   \n2    31.012595   66.860854       30  31.012595   66.860854        4   \n3    28.163240    2.632388       41  28.163240    2.632388        1   \n4    39.381266  -97.922211       32  39.381266  -97.922211       32   \n..         ...         ...      ...        ...         ...      ...   \n150 -14.071868 -171.235791       47 -14.071868 -171.235791       23   \n151  10.548463   30.052419       46  10.548463   30.052419        6   \n152  53.539998   28.046788        6  56.847104   26.141462       11   \n153  22.199166   78.476681       44  22.199166   78.476681        4   \n154  22.279356  114.162550        2  18.433072  117.572165        0   \n\n         lat_5       lon_5  \n0    42.817352   -2.105716  \n1     6.933350    8.912128  \n2    28.074786   70.732796  \n3    27.790147    7.762685  \n4    39.381266  -97.922211  \n..         ...         ...  \n150 -14.071868 -171.235791  \n151  11.430667   36.176558  \n152  58.006786   24.932026  \n153  28.074786   70.732796  \n154  16.577226  111.125326  \n\n[155 rows x 20 columns]",
      "text/html": "<div>\n<style scoped>\n    .dataframe tbody tr th:only-of-type {\n        vertical-align: middle;\n    }\n\n    .dataframe tbody tr th {\n        vertical-align: top;\n    }\n\n    .dataframe thead th {\n        text-align: right;\n    }\n</style>\n<table border=\"1\" class=\"dataframe\">\n  <thead>\n    <tr style=\"text-align: right;\">\n      <th></th>\n      <th>country</th>\n      <th>lat_0</th>\n      <th>lon_0</th>\n      <th>name</th>\n      <th>population</th>\n      <th>label_1</th>\n      <th>lat_1</th>\n      <th>lon_1</th>\n      <th>label_2</th>\n      <th>lat_2</th>\n      <th>lon_2</th>\n      <th>label_3</th>\n      <th>lat_3</th>\n      <th>lon_3</th>\n      <th>label_4</th>\n      <th>lat_4</th>\n      <th>lon_4</th>\n      <th>label_5</th>\n      <th>lat_5</th>\n      <th>lon_5</th>\n    </tr>\n  </thead>\n  <tbody>\n    <tr>\n      <th>0</th>\n      <td>ad</td>\n      <td>42.548654</td>\n      <td>1.576766</td>\n      <td>Andorra</td>\n      <td>77142</td>\n      <td>97</td>\n      <td>42.548654</td>\n      <td>1.576766</td>\n      <td>97</td>\n      <td>42.548654</td>\n      <td>1.576766</td>\n      <td>7</td>\n      <td>45.186779</td>\n      <td>2.097777</td>\n      <td>15</td>\n      <td>45.186779</td>\n      <td>2.097777</td>\n      <td>13</td>\n      <td>42.817352</td>\n      <td>-2.105716</td>\n    </tr>\n    <tr>\n      <th>1</th>\n      <td>ae</td>\n      <td>1.612130</td>\n      <td>10.525771</td>\n      <td>United Arab Emirates</td>\n      <td>9770529</td>\n      <td>67</td>\n      <td>1.612130</td>\n      <td>10.525771</td>\n      <td>67</td>\n      <td>1.612130</td>\n      <td>10.525771</td>\n      <td>67</td>\n      <td>1.612130</td>\n      <td>10.525771</td>\n      <td>3</td>\n      <td>6.933350</td>\n      <td>8.912128</td>\n      <td>15</td>\n      <td>6.933350</td>\n      <td>8.912128</td>\n    </tr>\n    <tr>\n      <th>2</th>\n      <td>af</td>\n      <td>33.838806</td>\n      <td>66.026471</td>\n      <td>Afghanistan</td>\n      <td>38041754</td>\n      <td>93</td>\n      <td>33.838806</td>\n      <td>66.026471</td>\n      <td>93</td>\n      <td>33.838806</td>\n      <td>66.026471</td>\n      <td>14</td>\n      <td>31.012595</td>\n      <td>66.860854</td>\n      <td>30</td>\n      <td>31.012595</td>\n      <td>66.860854</td>\n      <td>4</td>\n      <td>28.074786</td>\n      <td>70.732796</td>\n    </tr>\n    <tr>\n      <th>3</th>\n      <td>al</td>\n      <td>28.163240</td>\n      <td>2.632388</td>\n      <td>Albania</td>\n      <td>2854191</td>\n      <td>9</td>\n      <td>28.163240</td>\n      <td>2.632388</td>\n      <td>20</td>\n      <td>28.163240</td>\n      <td>2.632388</td>\n      <td>41</td>\n      <td>28.163240</td>\n      <td>2.632388</td>\n      <td>41</td>\n      <td>28.163240</td>\n      <td>2.632388</td>\n      <td>1</td>\n      <td>27.790147</td>\n      <td>7.762685</td>\n    </tr>\n    <tr>\n      <th>4</th>\n      <td>am</td>\n      <td>39.381266</td>\n      <td>-97.922211</td>\n      <td>Armenia</td>\n      <td>2957731</td>\n      <td>15</td>\n      <td>39.381266</td>\n      <td>-97.922211</td>\n      <td>32</td>\n      <td>39.381266</td>\n      <td>-97.922211</td>\n      <td>32</td>\n      <td>39.381266</td>\n      <td>-97.922211</td>\n      <td>32</td>\n      <td>39.381266</td>\n      <td>-97.922211</td>\n      <td>32</td>\n      <td>39.381266</td>\n      <td>-97.922211</td>\n    </tr>\n    <tr>\n      <th>...</th>\n      <td>...</td>\n      <td>...</td>\n      <td>...</td>\n      <td>...</td>\n      <td>...</td>\n      <td>...</td>\n      <td>...</td>\n      <td>...</td>\n      <td>...</td>\n      <td>...</td>\n      <td>...</td>\n      <td>...</td>\n      <td>...</td>\n      <td>...</td>\n      <td>...</td>\n      <td>...</td>\n      <td>...</td>\n      <td>...</td>\n      <td>...</td>\n      <td>...</td>\n    </tr>\n    <tr>\n      <th>150</th>\n      <td>as</td>\n      <td>-14.304405</td>\n      <td>-170.707833</td>\n      <td>American Samoa</td>\n      <td>55312</td>\n      <td>32</td>\n      <td>-14.304405</td>\n      <td>-170.707833</td>\n      <td>23</td>\n      <td>-14.071868</td>\n      <td>-171.235791</td>\n      <td>47</td>\n      <td>-14.071868</td>\n      <td>-171.235791</td>\n      <td>47</td>\n      <td>-14.071868</td>\n      <td>-171.235791</td>\n      <td>23</td>\n      <td>-14.071868</td>\n      <td>-171.235791</td>\n    </tr>\n    <tr>\n      <th>151</th>\n      <td>sd</td>\n      <td>13.831539</td>\n      <td>30.049948</td>\n      <td>Sudan</td>\n      <td>42813238</td>\n      <td>23</td>\n      <td>13.831539</td>\n      <td>30.049948</td>\n      <td>47</td>\n      <td>13.831539</td>\n      <td>30.049948</td>\n      <td>1</td>\n      <td>10.548463</td>\n      <td>30.052419</td>\n      <td>46</td>\n      <td>10.548463</td>\n      <td>30.052419</td>\n      <td>6</td>\n      <td>11.430667</td>\n      <td>36.176558</td>\n    </tr>\n    <tr>\n      <th>152</th>\n      <td>bl</td>\n      <td>53.539998</td>\n      <td>28.046788</td>\n      <td>Saint Barthélemy</td>\n      <td>10457</td>\n      <td>16</td>\n      <td>53.539998</td>\n      <td>28.046788</td>\n      <td>16</td>\n      <td>53.539998</td>\n      <td>28.046788</td>\n      <td>69</td>\n      <td>53.539998</td>\n      <td>28.046788</td>\n      <td>6</td>\n      <td>56.847104</td>\n      <td>26.141462</td>\n      <td>11</td>\n      <td>58.006786</td>\n      <td>24.932026</td>\n    </tr>\n    <tr>\n      <th>153</th>\n      <td>in</td>\n      <td>22.199166</td>\n      <td>78.476681</td>\n      <td>India</td>\n      <td>1366417754</td>\n      <td>21</td>\n      <td>22.199166</td>\n      <td>78.476681</td>\n      <td>21</td>\n      <td>22.199166</td>\n      <td>78.476681</td>\n      <td>44</td>\n      <td>22.199166</td>\n      <td>78.476681</td>\n      <td>44</td>\n      <td>22.199166</td>\n      <td>78.476681</td>\n      <td>4</td>\n      <td>28.074786</td>\n      <td>70.732796</td>\n    </tr>\n    <tr>\n      <th>154</th>\n      <td>hk</td>\n      <td>22.279356</td>\n      <td>114.162550</td>\n      <td>Hong Kong</td>\n      <td>7507400</td>\n      <td>36</td>\n      <td>22.279356</td>\n      <td>114.162550</td>\n      <td>36</td>\n      <td>22.279356</td>\n      <td>114.162550</td>\n      <td>74</td>\n      <td>22.279356</td>\n      <td>114.162550</td>\n      <td>2</td>\n      <td>18.433072</td>\n      <td>117.572165</td>\n      <td>0</td>\n      <td>16.577226</td>\n      <td>111.125326</td>\n    </tr>\n  </tbody>\n</table>\n<p>155 rows × 20 columns</p>\n</div>"
     },
     "execution_count": 31,
     "metadata": {},
     "output_type": "execute_result"
    }
   ],
   "source": [
    "df.rename(columns={\"lon\": \"lon_0\", \"lat\": \"lat_0\"}, inplace=True)\n",
    "df"
   ]
  },
  {
   "cell_type": "code",
   "execution_count": 32,
   "outputs": [
    {
     "data": {
      "text/plain": "    country      lat_0       lon_0                  name  population  label_1  \\\n0        ad  42.548654    1.576766               Andorra       77142       97   \n1        ae   1.612130   10.525771  United Arab Emirates     9770529       67   \n2        af  33.838806   66.026471           Afghanistan    38041754       93   \n3        al  28.163240    2.632388               Albania     2854191        9   \n4        am  39.381266  -97.922211               Armenia     2957731       15   \n..      ...        ...         ...                   ...         ...      ...   \n150      as -14.304405 -170.707833        American Samoa       55312       32   \n151      sd  13.831539   30.049948                 Sudan    42813238       23   \n152      bl  53.539998   28.046788      Saint Barthélemy       10457       16   \n153      in  22.199166   78.476681                 India  1366417754       21   \n154      hk  22.279356  114.162550             Hong Kong     7507400       36   \n\n         lat_1       lon_1  label_2      lat_2       lon_2  label_3  \\\n0    42.548654    1.576766       97  42.548654    1.576766        7   \n1     1.612130   10.525771       67   1.612130   10.525771       67   \n2    33.838806   66.026471       93  33.838806   66.026471       14   \n3    28.163240    2.632388       20  28.163240    2.632388       41   \n4    39.381266  -97.922211       32  39.381266  -97.922211       32   \n..         ...         ...      ...        ...         ...      ...   \n150 -14.304405 -170.707833       23 -14.071868 -171.235791       47   \n151  13.831539   30.049948       47  13.831539   30.049948        1   \n152  53.539998   28.046788       16  53.539998   28.046788       69   \n153  22.199166   78.476681       21  22.199166   78.476681       44   \n154  22.279356  114.162550       36  22.279356  114.162550       74   \n\n         lat_3       lon_3  label_4      lat_4       lon_4  label_5  \\\n0    45.186779    2.097777       15  45.186779    2.097777       13   \n1     1.612130   10.525771        3   6.933350    8.912128       15   \n2    31.012595   66.860854       30  31.012595   66.860854        4   \n3    28.163240    2.632388       41  28.163240    2.632388        1   \n4    39.381266  -97.922211       32  39.381266  -97.922211       32   \n..         ...         ...      ...        ...         ...      ...   \n150 -14.071868 -171.235791       47 -14.071868 -171.235791       23   \n151  10.548463   30.052419       46  10.548463   30.052419        6   \n152  53.539998   28.046788        6  56.847104   26.141462       11   \n153  22.199166   78.476681       44  22.199166   78.476681        4   \n154  22.279356  114.162550        2  18.433072  117.572165        0   \n\n         lat_5       lon_5  \n0    42.817352   -2.105716  \n1     6.933350    8.912128  \n2    28.074786   70.732796  \n3    27.790147    7.762685  \n4    39.381266  -97.922211  \n..         ...         ...  \n150 -14.071868 -171.235791  \n151  11.430667   36.176558  \n152  58.006786   24.932026  \n153  28.074786   70.732796  \n154  16.577226  111.125326  \n\n[155 rows x 20 columns]",
      "text/html": "<div>\n<style scoped>\n    .dataframe tbody tr th:only-of-type {\n        vertical-align: middle;\n    }\n\n    .dataframe tbody tr th {\n        vertical-align: top;\n    }\n\n    .dataframe thead th {\n        text-align: right;\n    }\n</style>\n<table border=\"1\" class=\"dataframe\">\n  <thead>\n    <tr style=\"text-align: right;\">\n      <th></th>\n      <th>country</th>\n      <th>lat_0</th>\n      <th>lon_0</th>\n      <th>name</th>\n      <th>population</th>\n      <th>label_1</th>\n      <th>lat_1</th>\n      <th>lon_1</th>\n      <th>label_2</th>\n      <th>lat_2</th>\n      <th>lon_2</th>\n      <th>label_3</th>\n      <th>lat_3</th>\n      <th>lon_3</th>\n      <th>label_4</th>\n      <th>lat_4</th>\n      <th>lon_4</th>\n      <th>label_5</th>\n      <th>lat_5</th>\n      <th>lon_5</th>\n    </tr>\n  </thead>\n  <tbody>\n    <tr>\n      <th>0</th>\n      <td>ad</td>\n      <td>42.548654</td>\n      <td>1.576766</td>\n      <td>Andorra</td>\n      <td>77142</td>\n      <td>97</td>\n      <td>42.548654</td>\n      <td>1.576766</td>\n      <td>97</td>\n      <td>42.548654</td>\n      <td>1.576766</td>\n      <td>7</td>\n      <td>45.186779</td>\n      <td>2.097777</td>\n      <td>15</td>\n      <td>45.186779</td>\n      <td>2.097777</td>\n      <td>13</td>\n      <td>42.817352</td>\n      <td>-2.105716</td>\n    </tr>\n    <tr>\n      <th>1</th>\n      <td>ae</td>\n      <td>1.612130</td>\n      <td>10.525771</td>\n      <td>United Arab Emirates</td>\n      <td>9770529</td>\n      <td>67</td>\n      <td>1.612130</td>\n      <td>10.525771</td>\n      <td>67</td>\n      <td>1.612130</td>\n      <td>10.525771</td>\n      <td>67</td>\n      <td>1.612130</td>\n      <td>10.525771</td>\n      <td>3</td>\n      <td>6.933350</td>\n      <td>8.912128</td>\n      <td>15</td>\n      <td>6.933350</td>\n      <td>8.912128</td>\n    </tr>\n    <tr>\n      <th>2</th>\n      <td>af</td>\n      <td>33.838806</td>\n      <td>66.026471</td>\n      <td>Afghanistan</td>\n      <td>38041754</td>\n      <td>93</td>\n      <td>33.838806</td>\n      <td>66.026471</td>\n      <td>93</td>\n      <td>33.838806</td>\n      <td>66.026471</td>\n      <td>14</td>\n      <td>31.012595</td>\n      <td>66.860854</td>\n      <td>30</td>\n      <td>31.012595</td>\n      <td>66.860854</td>\n      <td>4</td>\n      <td>28.074786</td>\n      <td>70.732796</td>\n    </tr>\n    <tr>\n      <th>3</th>\n      <td>al</td>\n      <td>28.163240</td>\n      <td>2.632388</td>\n      <td>Albania</td>\n      <td>2854191</td>\n      <td>9</td>\n      <td>28.163240</td>\n      <td>2.632388</td>\n      <td>20</td>\n      <td>28.163240</td>\n      <td>2.632388</td>\n      <td>41</td>\n      <td>28.163240</td>\n      <td>2.632388</td>\n      <td>41</td>\n      <td>28.163240</td>\n      <td>2.632388</td>\n      <td>1</td>\n      <td>27.790147</td>\n      <td>7.762685</td>\n    </tr>\n    <tr>\n      <th>4</th>\n      <td>am</td>\n      <td>39.381266</td>\n      <td>-97.922211</td>\n      <td>Armenia</td>\n      <td>2957731</td>\n      <td>15</td>\n      <td>39.381266</td>\n      <td>-97.922211</td>\n      <td>32</td>\n      <td>39.381266</td>\n      <td>-97.922211</td>\n      <td>32</td>\n      <td>39.381266</td>\n      <td>-97.922211</td>\n      <td>32</td>\n      <td>39.381266</td>\n      <td>-97.922211</td>\n      <td>32</td>\n      <td>39.381266</td>\n      <td>-97.922211</td>\n    </tr>\n    <tr>\n      <th>...</th>\n      <td>...</td>\n      <td>...</td>\n      <td>...</td>\n      <td>...</td>\n      <td>...</td>\n      <td>...</td>\n      <td>...</td>\n      <td>...</td>\n      <td>...</td>\n      <td>...</td>\n      <td>...</td>\n      <td>...</td>\n      <td>...</td>\n      <td>...</td>\n      <td>...</td>\n      <td>...</td>\n      <td>...</td>\n      <td>...</td>\n      <td>...</td>\n      <td>...</td>\n    </tr>\n    <tr>\n      <th>150</th>\n      <td>as</td>\n      <td>-14.304405</td>\n      <td>-170.707833</td>\n      <td>American Samoa</td>\n      <td>55312</td>\n      <td>32</td>\n      <td>-14.304405</td>\n      <td>-170.707833</td>\n      <td>23</td>\n      <td>-14.071868</td>\n      <td>-171.235791</td>\n      <td>47</td>\n      <td>-14.071868</td>\n      <td>-171.235791</td>\n      <td>47</td>\n      <td>-14.071868</td>\n      <td>-171.235791</td>\n      <td>23</td>\n      <td>-14.071868</td>\n      <td>-171.235791</td>\n    </tr>\n    <tr>\n      <th>151</th>\n      <td>sd</td>\n      <td>13.831539</td>\n      <td>30.049948</td>\n      <td>Sudan</td>\n      <td>42813238</td>\n      <td>23</td>\n      <td>13.831539</td>\n      <td>30.049948</td>\n      <td>47</td>\n      <td>13.831539</td>\n      <td>30.049948</td>\n      <td>1</td>\n      <td>10.548463</td>\n      <td>30.052419</td>\n      <td>46</td>\n      <td>10.548463</td>\n      <td>30.052419</td>\n      <td>6</td>\n      <td>11.430667</td>\n      <td>36.176558</td>\n    </tr>\n    <tr>\n      <th>152</th>\n      <td>bl</td>\n      <td>53.539998</td>\n      <td>28.046788</td>\n      <td>Saint Barthélemy</td>\n      <td>10457</td>\n      <td>16</td>\n      <td>53.539998</td>\n      <td>28.046788</td>\n      <td>16</td>\n      <td>53.539998</td>\n      <td>28.046788</td>\n      <td>69</td>\n      <td>53.539998</td>\n      <td>28.046788</td>\n      <td>6</td>\n      <td>56.847104</td>\n      <td>26.141462</td>\n      <td>11</td>\n      <td>58.006786</td>\n      <td>24.932026</td>\n    </tr>\n    <tr>\n      <th>153</th>\n      <td>in</td>\n      <td>22.199166</td>\n      <td>78.476681</td>\n      <td>India</td>\n      <td>1366417754</td>\n      <td>21</td>\n      <td>22.199166</td>\n      <td>78.476681</td>\n      <td>21</td>\n      <td>22.199166</td>\n      <td>78.476681</td>\n      <td>44</td>\n      <td>22.199166</td>\n      <td>78.476681</td>\n      <td>44</td>\n      <td>22.199166</td>\n      <td>78.476681</td>\n      <td>4</td>\n      <td>28.074786</td>\n      <td>70.732796</td>\n    </tr>\n    <tr>\n      <th>154</th>\n      <td>hk</td>\n      <td>22.279356</td>\n      <td>114.162550</td>\n      <td>Hong Kong</td>\n      <td>7507400</td>\n      <td>36</td>\n      <td>22.279356</td>\n      <td>114.162550</td>\n      <td>36</td>\n      <td>22.279356</td>\n      <td>114.162550</td>\n      <td>74</td>\n      <td>22.279356</td>\n      <td>114.162550</td>\n      <td>2</td>\n      <td>18.433072</td>\n      <td>117.572165</td>\n      <td>0</td>\n      <td>16.577226</td>\n      <td>111.125326</td>\n    </tr>\n  </tbody>\n</table>\n<p>155 rows × 20 columns</p>\n</div>"
     },
     "execution_count": 32,
     "metadata": {},
     "output_type": "execute_result"
    }
   ],
   "source": [
    "df"
   ],
   "metadata": {
    "collapsed": false
   }
  },
  {
   "cell_type": "code",
   "execution_count": 33,
   "metadata": {
    "collapsed": false,
    "jupyter": {
     "outputs_hidden": false
    }
   },
   "outputs": [],
   "source": [
    "df.to_csv(\"../output/processed/countries.csv\", index=False)"
   ]
  }
 ],
 "metadata": {
  "kernelspec": {
   "display_name": "Python 3 (ipykernel)",
   "language": "python",
   "name": "python3"
  },
  "language_info": {
   "codemirror_mode": {
    "name": "ipython",
    "version": 3
   },
   "file_extension": ".py",
   "mimetype": "text/x-python",
   "name": "python",
   "nbconvert_exporter": "python",
   "pygments_lexer": "ipython3",
   "version": "3.8.8"
  }
 },
 "nbformat": 4,
 "nbformat_minor": 4
}
