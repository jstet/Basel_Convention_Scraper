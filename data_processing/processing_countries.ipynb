{
 "cells": [
  {
   "cell_type": "code",
   "execution_count": 499,
   "metadata": {
    "tags": []
   },
   "outputs": [],
   "source": [
    "import os\n",
    "import requests\n",
    "from dotenv import load_dotenv\n",
    "import pandas as pd\n",
    "import pycountry\n",
    "import pypopulation\n",
    "from geojson import FeatureCollection, dump\n",
    "import numpy as np\n",
    "import xlrd\n",
    "import matplotlib.pyplot as plt"
   ]
  },
  {
   "cell_type": "markdown",
   "source": [
    "## Geocoding\n",
    "Assigning countries coordinates"
   ],
   "metadata": {
    "collapsed": false
   }
  },
  {
   "cell_type": "code",
   "execution_count": 500,
   "metadata": {
    "collapsed": false,
    "jupyter": {
     "outputs_hidden": false
    }
   },
   "outputs": [],
   "source": [
    "load_dotenv()\n",
    "TOKEN=os.getenv(\"MAPBOX_TOKEN\")\n",
    "df = pd.read_csv(\"../output/processed/flows.csv\") # ../output/processed/\n",
    "origins = list(df.origin.unique())\n",
    "destinations = list(df.destination.unique())"
   ]
  },
  {
   "cell_type": "code",
   "execution_count": 501,
   "metadata": {
    "collapsed": false,
    "jupyter": {
     "outputs_hidden": false
    }
   },
   "outputs": [],
   "source": [
    "in_first = set(origins)\n",
    "in_second = set(destinations)\n",
    "in_second_but_not_in_first = in_second - in_first\n",
    "countries = origins + list(in_second_but_not_in_first)"
   ]
  },
  {
   "cell_type": "code",
   "execution_count": 502,
   "metadata": {
    "collapsed": false,
    "jupyter": {
     "outputs_hidden": false
    }
   },
   "outputs": [],
   "source": [
    "df = pd.DataFrame({\"country\":countries})"
   ]
  },
  {
   "cell_type": "code",
   "execution_count": 503,
   "metadata": {
    "collapsed": false,
    "jupyter": {
     "outputs_hidden": false
    }
   },
   "outputs": [],
   "source": [
    "headers = {'Accept': 'application/json'}\n",
    "lst = []\n",
    "for i in countries:\n",
    "    obj = {}\n",
    "    obj[\"type\"]=\"Feature\"\n",
    "    obj[\"properties\"]={\"name\": pycountry.countries.get(alpha_2=i).name}\n",
    "    pop = pypopulation.get_population_a2(i)\n",
    "    url = f\"https://api.mapbox.com/geocoding/v5/mapbox.places/{i}.json?&types=country&access_token={TOKEN}\"\n",
    "    r = requests.get(url)\n",
    "    jason = r.json()\n",
    "    obj[\"properties\"][\"code\"] = i.lower()\n",
    "    coords = jason[\"features\"][0][\"center\"]\n",
    "    obj[\"geometry\"] = {\"type\":\"Point\", \"coordinates\": coords}\n",
    "    lst.append(obj)\n",
    "    df.loc[df[\"country\"] == i, \"lat\"] = coords[1]\n",
    "    df.loc[df[\"country\"] == i, \"lon\"] = coords[0]\n",
    "    df.loc[df[\"country\"] == i, \"name\"] = obj[\"properties\"][\"name\"]\n",
    "    df.loc[df[\"country\"] == i, \"population\"] = pop"
   ]
  },
  {
   "cell_type": "code",
   "execution_count": 504,
   "metadata": {
    "collapsed": false,
    "jupyter": {
     "outputs_hidden": false
    }
   },
   "outputs": [],
   "source": [
    "with open('../output/processed/countries.geojson', 'w') as f:\n",
    "    dump(FeatureCollection(lst), f)"
   ]
  },
  {
   "cell_type": "code",
   "execution_count": 505,
   "metadata": {
    "collapsed": false,
    "jupyter": {
     "outputs_hidden": false
    }
   },
   "outputs": [],
   "source": [
    "df['population'] = df['population'].fillna(0).astype(int)"
   ]
  },
  {
   "cell_type": "code",
   "execution_count": 506,
   "metadata": {},
   "outputs": [],
   "source": [
    "# filling one country manually\n",
    "df.loc[df[df[\"name\"]==\"Saint Barthélemy\"].index, 'population'] = 10457\n",
    "df = df.astype({'population':'str'})"
   ]
  },
  {
   "cell_type": "markdown",
   "source": [
    "## Clustering\n"
   ],
   "metadata": {
    "collapsed": false
   }
  },
  {
   "cell_type": "code",
   "execution_count": 507,
   "metadata": {},
   "outputs": [],
   "source": [
    "# https://unstats.un.org/unsd/methodology/m49/overview/\n",
    "regions = pd.read_excel(\"regions.xls\")"
   ]
  },
  {
   "cell_type": "code",
   "execution_count": 508,
   "metadata": {},
   "outputs": [],
   "source": [
    "def func(x):\n",
    "    iso3 = pycountry.countries.get(alpha_2=x).alpha_3\n",
    "    result = int(regions[regions[\"ISO-alpha3 Code\"] == iso3][\"Sub-region Code\"].values[0])\n",
    "    return result\n",
    "\n",
    "df[\"sub_region_code\"] = df.apply(lambda x: func(x[\"country\"]), axis=1)\n",
    "\n",
    "def func(x):\n",
    "    iso3 = pycountry.countries.get(alpha_2=x).alpha_3\n",
    "    result = regions[regions[\"ISO-alpha3 Code\"] == iso3][\"Sub-region Name\"].values[0]\n",
    "    return result\n",
    "\n",
    "df[\"sub_region_name\"] = df.apply(lambda x: func(x[\"country\"]), axis=1)\n",
    "\n",
    "def func(x):\n",
    "    iso3 = pycountry.countries.get(alpha_2=x).alpha_3\n",
    "    result = int(regions[regions[\"ISO-alpha3 Code\"] == iso3][\"Region Code\"].values[0])\n",
    "    return result\n",
    "\n",
    "df[\"region_code\"] = df.apply(lambda x: func(x[\"country\"]), axis=1)\n",
    "\n",
    "def func(x):\n",
    "    iso3 = pycountry.countries.get(alpha_2=x).alpha_3\n",
    "    result = regions[regions[\"ISO-alpha3 Code\"] == iso3][\"Region Name\"].values[0]\n",
    "    return result\n",
    "\n",
    "df[\"region_name\"] = df.apply(lambda x: func(x[\"country\"]), axis=1)\n",
    "\n"
   ]
  },
  {
   "cell_type": "code",
   "execution_count": 509,
   "outputs": [
    {
     "data": {
      "text/plain": "    country        lat         lon                  name  population  \\\n0        ad  42.548654    1.576766               Andorra       77142   \n1        ae   1.612130   10.525771  United Arab Emirates     9770529   \n2        af  33.838806   66.026471           Afghanistan    38041754   \n3        al  28.163240    2.632388               Albania     2854191   \n4        am  39.381266  -97.922211               Armenia     2957731   \n..      ...        ...         ...                   ...         ...   \n150      as -14.304405 -170.707833        American Samoa       55312   \n151      gi  10.785546  -11.029862             Gibraltar       33701   \n152      in  22.199166   78.476681                 India  1366417754   \n153      us  39.381266  -97.922211         United States   328239523   \n154      bf  12.277930   -1.573062          Burkina Faso    20321378   \n\n     sub_region_code     sub_region_name  region_code region_name  \n0                 39     Southern Europe          150      Europe  \n1                145        Western Asia          142        Asia  \n2                 34       Southern Asia          142        Asia  \n3                 39     Southern Europe          150      Europe  \n4                145        Western Asia          142        Asia  \n..               ...                 ...          ...         ...  \n150               61           Polynesia            9     Oceania  \n151               39     Southern Europe          150      Europe  \n152               34       Southern Asia          142        Asia  \n153               21    Northern America           19    Americas  \n154              202  Sub-Saharan Africa            2      Africa  \n\n[155 rows x 9 columns]",
      "text/html": "<div>\n<style scoped>\n    .dataframe tbody tr th:only-of-type {\n        vertical-align: middle;\n    }\n\n    .dataframe tbody tr th {\n        vertical-align: top;\n    }\n\n    .dataframe thead th {\n        text-align: right;\n    }\n</style>\n<table border=\"1\" class=\"dataframe\">\n  <thead>\n    <tr style=\"text-align: right;\">\n      <th></th>\n      <th>country</th>\n      <th>lat</th>\n      <th>lon</th>\n      <th>name</th>\n      <th>population</th>\n      <th>sub_region_code</th>\n      <th>sub_region_name</th>\n      <th>region_code</th>\n      <th>region_name</th>\n    </tr>\n  </thead>\n  <tbody>\n    <tr>\n      <th>0</th>\n      <td>ad</td>\n      <td>42.548654</td>\n      <td>1.576766</td>\n      <td>Andorra</td>\n      <td>77142</td>\n      <td>39</td>\n      <td>Southern Europe</td>\n      <td>150</td>\n      <td>Europe</td>\n    </tr>\n    <tr>\n      <th>1</th>\n      <td>ae</td>\n      <td>1.612130</td>\n      <td>10.525771</td>\n      <td>United Arab Emirates</td>\n      <td>9770529</td>\n      <td>145</td>\n      <td>Western Asia</td>\n      <td>142</td>\n      <td>Asia</td>\n    </tr>\n    <tr>\n      <th>2</th>\n      <td>af</td>\n      <td>33.838806</td>\n      <td>66.026471</td>\n      <td>Afghanistan</td>\n      <td>38041754</td>\n      <td>34</td>\n      <td>Southern Asia</td>\n      <td>142</td>\n      <td>Asia</td>\n    </tr>\n    <tr>\n      <th>3</th>\n      <td>al</td>\n      <td>28.163240</td>\n      <td>2.632388</td>\n      <td>Albania</td>\n      <td>2854191</td>\n      <td>39</td>\n      <td>Southern Europe</td>\n      <td>150</td>\n      <td>Europe</td>\n    </tr>\n    <tr>\n      <th>4</th>\n      <td>am</td>\n      <td>39.381266</td>\n      <td>-97.922211</td>\n      <td>Armenia</td>\n      <td>2957731</td>\n      <td>145</td>\n      <td>Western Asia</td>\n      <td>142</td>\n      <td>Asia</td>\n    </tr>\n    <tr>\n      <th>...</th>\n      <td>...</td>\n      <td>...</td>\n      <td>...</td>\n      <td>...</td>\n      <td>...</td>\n      <td>...</td>\n      <td>...</td>\n      <td>...</td>\n      <td>...</td>\n    </tr>\n    <tr>\n      <th>150</th>\n      <td>as</td>\n      <td>-14.304405</td>\n      <td>-170.707833</td>\n      <td>American Samoa</td>\n      <td>55312</td>\n      <td>61</td>\n      <td>Polynesia</td>\n      <td>9</td>\n      <td>Oceania</td>\n    </tr>\n    <tr>\n      <th>151</th>\n      <td>gi</td>\n      <td>10.785546</td>\n      <td>-11.029862</td>\n      <td>Gibraltar</td>\n      <td>33701</td>\n      <td>39</td>\n      <td>Southern Europe</td>\n      <td>150</td>\n      <td>Europe</td>\n    </tr>\n    <tr>\n      <th>152</th>\n      <td>in</td>\n      <td>22.199166</td>\n      <td>78.476681</td>\n      <td>India</td>\n      <td>1366417754</td>\n      <td>34</td>\n      <td>Southern Asia</td>\n      <td>142</td>\n      <td>Asia</td>\n    </tr>\n    <tr>\n      <th>153</th>\n      <td>us</td>\n      <td>39.381266</td>\n      <td>-97.922211</td>\n      <td>United States</td>\n      <td>328239523</td>\n      <td>21</td>\n      <td>Northern America</td>\n      <td>19</td>\n      <td>Americas</td>\n    </tr>\n    <tr>\n      <th>154</th>\n      <td>bf</td>\n      <td>12.277930</td>\n      <td>-1.573062</td>\n      <td>Burkina Faso</td>\n      <td>20321378</td>\n      <td>202</td>\n      <td>Sub-Saharan Africa</td>\n      <td>2</td>\n      <td>Africa</td>\n    </tr>\n  </tbody>\n</table>\n<p>155 rows × 9 columns</p>\n</div>"
     },
     "execution_count": 509,
     "metadata": {},
     "output_type": "execute_result"
    }
   ],
   "source": [
    "df"
   ],
   "metadata": {
    "collapsed": false
   }
  },
  {
   "cell_type": "code",
   "execution_count": 510,
   "outputs": [],
   "source": [
    "def centroids(typ):\n",
    "    obj = {}\n",
    "    for i in list(df[f\"{typ}_name\"].unique()):\n",
    "        lats = df[df[f\"{typ}_name\"] == i][\"lat\"]\n",
    "        lons = df[df[f\"{typ}_name\"] == i][\"lon\"]\n",
    "        lat = sum(lats)/len(lats)\n",
    "        lon = sum(lons)/len(lons)\n",
    "        obj[i] = [lat,lon]\n",
    "\n",
    "    df[f\"{typ}_lat\"] = df.apply(lambda x: obj[x[f\"{typ}_name\"]][0], axis=1)\n",
    "    df[f\"{typ}_lon\"] = df.apply(lambda x: obj[x[f\"{typ}_name\"]][1], axis=1)\n",
    "\n",
    "df[\"region2_name\"] = df[\"region_name\"]\n",
    "df.loc[df[\"name\"].isin([\"Samoa\",\"American Samoa\"]), \"region2_name\"] = 0"
   ],
   "metadata": {
    "collapsed": false
   }
  },
  {
   "cell_type": "code",
   "execution_count": 511,
   "outputs": [],
   "source": [
    "centroids(\"region2\")\n",
    "centroids(\"sub_region\")\n",
    "df.drop('region2_name', axis = 1, inplace=True)\n",
    "df.rename(columns={'region2_lat': \"region_lat\", \"region2_lon\": \"region_lon\" }, inplace=True)"
   ],
   "metadata": {
    "collapsed": false
   }
  },
  {
   "cell_type": "code",
   "execution_count": 512,
   "outputs": [],
   "source": [
    "df.loc[df[\"name\"].isin([\"Samoa\",\"American Samoa\"]), \"region_lat\"] = df.loc[df[\"name\"] == \"Australia\"][\"region_lat\"].values[0]\n",
    "df.loc[df[\"name\"].isin([\"Samoa\",\"American Samoa\"]), \"region_lon\"] = df.loc[df[\"name\"] == \"Australia\"][\"region_lon\"].values[0]"
   ],
   "metadata": {
    "collapsed": false
   }
  },
  {
   "cell_type": "code",
   "execution_count": 513,
   "outputs": [
    {
     "data": {
      "text/plain": "<Figure size 640x480 with 1 Axes>",
      "image/png": "[encoded data removed]"
     },
     "metadata": {},
     "output_type": "display_data"
    }
   ],
   "source": [
    "plt.scatter(df[\"lon\"], df[\"lat\"])\n",
    "plt.scatter(df[\"region_lon\"], df[\"region_lat\"], c=\"red\")\n",
    "plt.scatter(df[\"sub_region_lon\"], df[\"sub_region_lat\"], c=\"green\")\n",
    "plt.show()"
   ],
   "metadata": {
    "collapsed": false
   }
  },
  {
   "cell_type": "code",
   "execution_count": 514,
   "outputs": [
    {
     "ename": "KeyError",
     "evalue": "\"['region2_name'] not found in axis\"",
     "output_type": "error",
     "traceback": [
      "\u001B[0;31m---------------------------------------------------------------------------\u001B[0m",
      "\u001B[0;31mKeyError\u001B[0m                                  Traceback (most recent call last)",
      "Cell \u001B[0;32mIn[514], line 2\u001B[0m\n\u001B[1;32m      1\u001B[0m df\u001B[38;5;241m.\u001B[39mrename(columns\u001B[38;5;241m=\u001B[39m{\u001B[38;5;124m\"\u001B[39m\u001B[38;5;124mcountry\u001B[39m\u001B[38;5;124m\"\u001B[39m: \u001B[38;5;124m\"\u001B[39m\u001B[38;5;124mcode\u001B[39m\u001B[38;5;124m\"\u001B[39m}, inplace\u001B[38;5;241m=\u001B[39m\u001B[38;5;28;01mTrue\u001B[39;00m)\n\u001B[0;32m----> 2\u001B[0m \u001B[43mdf\u001B[49m\u001B[38;5;241;43m.\u001B[39;49m\u001B[43mdrop\u001B[49m\u001B[43m(\u001B[49m\u001B[38;5;124;43m\"\u001B[39;49m\u001B[38;5;124;43mregion2_name\u001B[39;49m\u001B[38;5;124;43m\"\u001B[39;49m\u001B[43m,\u001B[49m\u001B[43m \u001B[49m\u001B[43maxis\u001B[49m\u001B[38;5;241;43m=\u001B[39;49m\u001B[38;5;241;43m1\u001B[39;49m\u001B[43m,\u001B[49m\u001B[43m \u001B[49m\u001B[43minplace\u001B[49m\u001B[38;5;241;43m=\u001B[39;49m\u001B[38;5;28;43;01mTrue\u001B[39;49;00m\u001B[43m)\u001B[49m\n",
      "File \u001B[0;32m~/Code/Uni/Basel_Convention_Scraper/venv/lib/python3.10/site-packages/pandas/util/_decorators.py:331\u001B[0m, in \u001B[0;36mdeprecate_nonkeyword_arguments.<locals>.decorate.<locals>.wrapper\u001B[0;34m(*args, **kwargs)\u001B[0m\n\u001B[1;32m    325\u001B[0m \u001B[38;5;28;01mif\u001B[39;00m \u001B[38;5;28mlen\u001B[39m(args) \u001B[38;5;241m>\u001B[39m num_allow_args:\n\u001B[1;32m    326\u001B[0m     warnings\u001B[38;5;241m.\u001B[39mwarn(\n\u001B[1;32m    327\u001B[0m         msg\u001B[38;5;241m.\u001B[39mformat(arguments\u001B[38;5;241m=\u001B[39m_format_argument_list(allow_args)),\n\u001B[1;32m    328\u001B[0m         \u001B[38;5;167;01mFutureWarning\u001B[39;00m,\n\u001B[1;32m    329\u001B[0m         stacklevel\u001B[38;5;241m=\u001B[39mfind_stack_level(),\n\u001B[1;32m    330\u001B[0m     )\n\u001B[0;32m--> 331\u001B[0m \u001B[38;5;28;01mreturn\u001B[39;00m \u001B[43mfunc\u001B[49m\u001B[43m(\u001B[49m\u001B[38;5;241;43m*\u001B[39;49m\u001B[43margs\u001B[49m\u001B[43m,\u001B[49m\u001B[43m \u001B[49m\u001B[38;5;241;43m*\u001B[39;49m\u001B[38;5;241;43m*\u001B[39;49m\u001B[43mkwargs\u001B[49m\u001B[43m)\u001B[49m\n",
      "File \u001B[0;32m~/Code/Uni/Basel_Convention_Scraper/venv/lib/python3.10/site-packages/pandas/core/frame.py:5396\u001B[0m, in \u001B[0;36mDataFrame.drop\u001B[0;34m(self, labels, axis, index, columns, level, inplace, errors)\u001B[0m\n\u001B[1;32m   5248\u001B[0m \u001B[38;5;129m@deprecate_nonkeyword_arguments\u001B[39m(version\u001B[38;5;241m=\u001B[39m\u001B[38;5;28;01mNone\u001B[39;00m, allowed_args\u001B[38;5;241m=\u001B[39m[\u001B[38;5;124m\"\u001B[39m\u001B[38;5;124mself\u001B[39m\u001B[38;5;124m\"\u001B[39m, \u001B[38;5;124m\"\u001B[39m\u001B[38;5;124mlabels\u001B[39m\u001B[38;5;124m\"\u001B[39m])\n\u001B[1;32m   5249\u001B[0m \u001B[38;5;28;01mdef\u001B[39;00m \u001B[38;5;21mdrop\u001B[39m(  \u001B[38;5;66;03m# type: ignore[override]\u001B[39;00m\n\u001B[1;32m   5250\u001B[0m     \u001B[38;5;28mself\u001B[39m,\n\u001B[0;32m   (...)\u001B[0m\n\u001B[1;32m   5257\u001B[0m     errors: IgnoreRaise \u001B[38;5;241m=\u001B[39m \u001B[38;5;124m\"\u001B[39m\u001B[38;5;124mraise\u001B[39m\u001B[38;5;124m\"\u001B[39m,\n\u001B[1;32m   5258\u001B[0m ) \u001B[38;5;241m-\u001B[39m\u001B[38;5;241m>\u001B[39m DataFrame \u001B[38;5;241m|\u001B[39m \u001B[38;5;28;01mNone\u001B[39;00m:\n\u001B[1;32m   5259\u001B[0m     \u001B[38;5;124;03m\"\"\"\u001B[39;00m\n\u001B[1;32m   5260\u001B[0m \u001B[38;5;124;03m    Drop specified labels from rows or columns.\u001B[39;00m\n\u001B[1;32m   5261\u001B[0m \n\u001B[0;32m   (...)\u001B[0m\n\u001B[1;32m   5394\u001B[0m \u001B[38;5;124;03m            weight  1.0     0.8\u001B[39;00m\n\u001B[1;32m   5395\u001B[0m \u001B[38;5;124;03m    \"\"\"\u001B[39;00m\n\u001B[0;32m-> 5396\u001B[0m     \u001B[38;5;28;01mreturn\u001B[39;00m \u001B[38;5;28;43msuper\u001B[39;49m\u001B[43m(\u001B[49m\u001B[43m)\u001B[49m\u001B[38;5;241;43m.\u001B[39;49m\u001B[43mdrop\u001B[49m\u001B[43m(\u001B[49m\n\u001B[1;32m   5397\u001B[0m \u001B[43m        \u001B[49m\u001B[43mlabels\u001B[49m\u001B[38;5;241;43m=\u001B[39;49m\u001B[43mlabels\u001B[49m\u001B[43m,\u001B[49m\n\u001B[1;32m   5398\u001B[0m \u001B[43m        \u001B[49m\u001B[43maxis\u001B[49m\u001B[38;5;241;43m=\u001B[39;49m\u001B[43maxis\u001B[49m\u001B[43m,\u001B[49m\n\u001B[1;32m   5399\u001B[0m \u001B[43m        \u001B[49m\u001B[43mindex\u001B[49m\u001B[38;5;241;43m=\u001B[39;49m\u001B[43mindex\u001B[49m\u001B[43m,\u001B[49m\n\u001B[1;32m   5400\u001B[0m \u001B[43m        \u001B[49m\u001B[43mcolumns\u001B[49m\u001B[38;5;241;43m=\u001B[39;49m\u001B[43mcolumns\u001B[49m\u001B[43m,\u001B[49m\n\u001B[1;32m   5401\u001B[0m \u001B[43m        \u001B[49m\u001B[43mlevel\u001B[49m\u001B[38;5;241;43m=\u001B[39;49m\u001B[43mlevel\u001B[49m\u001B[43m,\u001B[49m\n\u001B[1;32m   5402\u001B[0m \u001B[43m        \u001B[49m\u001B[43minplace\u001B[49m\u001B[38;5;241;43m=\u001B[39;49m\u001B[43minplace\u001B[49m\u001B[43m,\u001B[49m\n\u001B[1;32m   5403\u001B[0m \u001B[43m        \u001B[49m\u001B[43merrors\u001B[49m\u001B[38;5;241;43m=\u001B[39;49m\u001B[43merrors\u001B[49m\u001B[43m,\u001B[49m\n\u001B[1;32m   5404\u001B[0m \u001B[43m    \u001B[49m\u001B[43m)\u001B[49m\n",
      "File \u001B[0;32m~/Code/Uni/Basel_Convention_Scraper/venv/lib/python3.10/site-packages/pandas/util/_decorators.py:331\u001B[0m, in \u001B[0;36mdeprecate_nonkeyword_arguments.<locals>.decorate.<locals>.wrapper\u001B[0;34m(*args, **kwargs)\u001B[0m\n\u001B[1;32m    325\u001B[0m \u001B[38;5;28;01mif\u001B[39;00m \u001B[38;5;28mlen\u001B[39m(args) \u001B[38;5;241m>\u001B[39m num_allow_args:\n\u001B[1;32m    326\u001B[0m     warnings\u001B[38;5;241m.\u001B[39mwarn(\n\u001B[1;32m    327\u001B[0m         msg\u001B[38;5;241m.\u001B[39mformat(arguments\u001B[38;5;241m=\u001B[39m_format_argument_list(allow_args)),\n\u001B[1;32m    328\u001B[0m         \u001B[38;5;167;01mFutureWarning\u001B[39;00m,\n\u001B[1;32m    329\u001B[0m         stacklevel\u001B[38;5;241m=\u001B[39mfind_stack_level(),\n\u001B[1;32m    330\u001B[0m     )\n\u001B[0;32m--> 331\u001B[0m \u001B[38;5;28;01mreturn\u001B[39;00m \u001B[43mfunc\u001B[49m\u001B[43m(\u001B[49m\u001B[38;5;241;43m*\u001B[39;49m\u001B[43margs\u001B[49m\u001B[43m,\u001B[49m\u001B[43m \u001B[49m\u001B[38;5;241;43m*\u001B[39;49m\u001B[38;5;241;43m*\u001B[39;49m\u001B[43mkwargs\u001B[49m\u001B[43m)\u001B[49m\n",
      "File \u001B[0;32m~/Code/Uni/Basel_Convention_Scraper/venv/lib/python3.10/site-packages/pandas/core/generic.py:4505\u001B[0m, in \u001B[0;36mNDFrame.drop\u001B[0;34m(self, labels, axis, index, columns, level, inplace, errors)\u001B[0m\n\u001B[1;32m   4503\u001B[0m \u001B[38;5;28;01mfor\u001B[39;00m axis, labels \u001B[38;5;129;01min\u001B[39;00m axes\u001B[38;5;241m.\u001B[39mitems():\n\u001B[1;32m   4504\u001B[0m     \u001B[38;5;28;01mif\u001B[39;00m labels \u001B[38;5;129;01mis\u001B[39;00m \u001B[38;5;129;01mnot\u001B[39;00m \u001B[38;5;28;01mNone\u001B[39;00m:\n\u001B[0;32m-> 4505\u001B[0m         obj \u001B[38;5;241m=\u001B[39m \u001B[43mobj\u001B[49m\u001B[38;5;241;43m.\u001B[39;49m\u001B[43m_drop_axis\u001B[49m\u001B[43m(\u001B[49m\u001B[43mlabels\u001B[49m\u001B[43m,\u001B[49m\u001B[43m \u001B[49m\u001B[43maxis\u001B[49m\u001B[43m,\u001B[49m\u001B[43m \u001B[49m\u001B[43mlevel\u001B[49m\u001B[38;5;241;43m=\u001B[39;49m\u001B[43mlevel\u001B[49m\u001B[43m,\u001B[49m\u001B[43m \u001B[49m\u001B[43merrors\u001B[49m\u001B[38;5;241;43m=\u001B[39;49m\u001B[43merrors\u001B[49m\u001B[43m)\u001B[49m\n\u001B[1;32m   4507\u001B[0m \u001B[38;5;28;01mif\u001B[39;00m inplace:\n\u001B[1;32m   4508\u001B[0m     \u001B[38;5;28mself\u001B[39m\u001B[38;5;241m.\u001B[39m_update_inplace(obj)\n",
      "File \u001B[0;32m~/Code/Uni/Basel_Convention_Scraper/venv/lib/python3.10/site-packages/pandas/core/generic.py:4546\u001B[0m, in \u001B[0;36mNDFrame._drop_axis\u001B[0;34m(self, labels, axis, level, errors, only_slice)\u001B[0m\n\u001B[1;32m   4544\u001B[0m         new_axis \u001B[38;5;241m=\u001B[39m axis\u001B[38;5;241m.\u001B[39mdrop(labels, level\u001B[38;5;241m=\u001B[39mlevel, errors\u001B[38;5;241m=\u001B[39merrors)\n\u001B[1;32m   4545\u001B[0m     \u001B[38;5;28;01melse\u001B[39;00m:\n\u001B[0;32m-> 4546\u001B[0m         new_axis \u001B[38;5;241m=\u001B[39m \u001B[43maxis\u001B[49m\u001B[38;5;241;43m.\u001B[39;49m\u001B[43mdrop\u001B[49m\u001B[43m(\u001B[49m\u001B[43mlabels\u001B[49m\u001B[43m,\u001B[49m\u001B[43m \u001B[49m\u001B[43merrors\u001B[49m\u001B[38;5;241;43m=\u001B[39;49m\u001B[43merrors\u001B[49m\u001B[43m)\u001B[49m\n\u001B[1;32m   4547\u001B[0m     indexer \u001B[38;5;241m=\u001B[39m axis\u001B[38;5;241m.\u001B[39mget_indexer(new_axis)\n\u001B[1;32m   4549\u001B[0m \u001B[38;5;66;03m# Case for non-unique axis\u001B[39;00m\n\u001B[1;32m   4550\u001B[0m \u001B[38;5;28;01melse\u001B[39;00m:\n",
      "File \u001B[0;32m~/Code/Uni/Basel_Convention_Scraper/venv/lib/python3.10/site-packages/pandas/core/indexes/base.py:6977\u001B[0m, in \u001B[0;36mIndex.drop\u001B[0;34m(self, labels, errors)\u001B[0m\n\u001B[1;32m   6975\u001B[0m \u001B[38;5;28;01mif\u001B[39;00m mask\u001B[38;5;241m.\u001B[39many():\n\u001B[1;32m   6976\u001B[0m     \u001B[38;5;28;01mif\u001B[39;00m errors \u001B[38;5;241m!=\u001B[39m \u001B[38;5;124m\"\u001B[39m\u001B[38;5;124mignore\u001B[39m\u001B[38;5;124m\"\u001B[39m:\n\u001B[0;32m-> 6977\u001B[0m         \u001B[38;5;28;01mraise\u001B[39;00m \u001B[38;5;167;01mKeyError\u001B[39;00m(\u001B[38;5;124mf\u001B[39m\u001B[38;5;124m\"\u001B[39m\u001B[38;5;132;01m{\u001B[39;00m\u001B[38;5;28mlist\u001B[39m(labels[mask])\u001B[38;5;132;01m}\u001B[39;00m\u001B[38;5;124m not found in axis\u001B[39m\u001B[38;5;124m\"\u001B[39m)\n\u001B[1;32m   6978\u001B[0m     indexer \u001B[38;5;241m=\u001B[39m indexer[\u001B[38;5;241m~\u001B[39mmask]\n\u001B[1;32m   6979\u001B[0m \u001B[38;5;28;01mreturn\u001B[39;00m \u001B[38;5;28mself\u001B[39m\u001B[38;5;241m.\u001B[39mdelete(indexer)\n",
      "\u001B[0;31mKeyError\u001B[0m: \"['region2_name'] not found in axis\""
     ]
    }
   ],
   "source": [
    "df.rename(columns={\"country\": \"code\"}, inplace=True)\n",
    "df.drop(\"region2_name\", axis=1, inplace=True)"
   ],
   "metadata": {
    "collapsed": false
   }
  },
  {
   "cell_type": "markdown",
   "source": [],
   "metadata": {
    "collapsed": false
   }
  },
  {
   "cell_type": "code",
   "execution_count": 515,
   "outputs": [
    {
     "data": {
      "text/plain": "    code                  name        lat         lon  region_code  \\\n0     ad               Andorra  42.548654    1.576766          150   \n1     ae  United Arab Emirates   1.612130   10.525771          142   \n2     af           Afghanistan  33.838806   66.026471          142   \n3     al               Albania  28.163240    2.632388          150   \n4     am               Armenia  39.381266  -97.922211          142   \n..   ...                   ...        ...         ...          ...   \n150   as        American Samoa -14.304405 -170.707833            9   \n151   gi             Gibraltar  10.785546  -11.029862          150   \n152   in                 India  22.199166   78.476681          142   \n153   us         United States  39.381266  -97.922211           19   \n154   bf          Burkina Faso  12.277930   -1.573062            2   \n\n    region_name  region_lat  region_lon  sub_region_code     sub_region_name  \\\n0        Europe   42.467194   20.181702               39     Southern Europe   \n1          Asia   27.076799   64.186966              145        Western Asia   \n2          Asia   27.076799   64.186966               34       Southern Asia   \n3        Europe   42.467194   20.181702               39     Southern Europe   \n4          Asia   27.076799   64.186966              145        Western Asia   \n..          ...         ...         ...              ...                 ...   \n150     Oceania  -24.684074  150.503737               61           Polynesia   \n151      Europe   42.467194   20.181702               39     Southern Europe   \n152        Asia   27.076799   64.186966               34       Southern Asia   \n153    Americas   10.294977  -57.708206               21    Northern America   \n154      Africa    4.906968   15.329357              202  Sub-Saharan Africa   \n\n     sub_region_lat  sub_region_lon  population  \n0         32.614556        2.915928       77142  \n1         29.059314       24.044483     9770529  \n2         24.809203       64.107784    38041754  \n3         32.614556        2.915928     2854191  \n4         29.059314       24.044483     2957731  \n..              ...             ...         ...  \n150      -14.071868     -171.235791       55312  \n151       32.614556        2.915928       33701  \n152       24.809203       64.107784  1366417754  \n153       47.483584     -101.836404   328239523  \n154        2.154918       12.071212    20321378  \n\n[155 rows x 13 columns]",
      "text/html": "<div>\n<style scoped>\n    .dataframe tbody tr th:only-of-type {\n        vertical-align: middle;\n    }\n\n    .dataframe tbody tr th {\n        vertical-align: top;\n    }\n\n    .dataframe thead th {\n        text-align: right;\n    }\n</style>\n<table border=\"1\" class=\"dataframe\">\n  <thead>\n    <tr style=\"text-align: right;\">\n      <th></th>\n      <th>code</th>\n      <th>name</th>\n      <th>lat</th>\n      <th>lon</th>\n      <th>region_code</th>\n      <th>region_name</th>\n      <th>region_lat</th>\n      <th>region_lon</th>\n      <th>sub_region_code</th>\n      <th>sub_region_name</th>\n      <th>sub_region_lat</th>\n      <th>sub_region_lon</th>\n      <th>population</th>\n    </tr>\n  </thead>\n  <tbody>\n    <tr>\n      <th>0</th>\n      <td>ad</td>\n      <td>Andorra</td>\n      <td>42.548654</td>\n      <td>1.576766</td>\n      <td>150</td>\n      <td>Europe</td>\n      <td>42.467194</td>\n      <td>20.181702</td>\n      <td>39</td>\n      <td>Southern Europe</td>\n      <td>32.614556</td>\n      <td>2.915928</td>\n      <td>77142</td>\n    </tr>\n    <tr>\n      <th>1</th>\n      <td>ae</td>\n      <td>United Arab Emirates</td>\n      <td>1.612130</td>\n      <td>10.525771</td>\n      <td>142</td>\n      <td>Asia</td>\n      <td>27.076799</td>\n      <td>64.186966</td>\n      <td>145</td>\n      <td>Western Asia</td>\n      <td>29.059314</td>\n      <td>24.044483</td>\n      <td>9770529</td>\n    </tr>\n    <tr>\n      <th>2</th>\n      <td>af</td>\n      <td>Afghanistan</td>\n      <td>33.838806</td>\n      <td>66.026471</td>\n      <td>142</td>\n      <td>Asia</td>\n      <td>27.076799</td>\n      <td>64.186966</td>\n      <td>34</td>\n      <td>Southern Asia</td>\n      <td>24.809203</td>\n      <td>64.107784</td>\n      <td>38041754</td>\n    </tr>\n    <tr>\n      <th>3</th>\n      <td>al</td>\n      <td>Albania</td>\n      <td>28.163240</td>\n      <td>2.632388</td>\n      <td>150</td>\n      <td>Europe</td>\n      <td>42.467194</td>\n      <td>20.181702</td>\n      <td>39</td>\n      <td>Southern Europe</td>\n      <td>32.614556</td>\n      <td>2.915928</td>\n      <td>2854191</td>\n    </tr>\n    <tr>\n      <th>4</th>\n      <td>am</td>\n      <td>Armenia</td>\n      <td>39.381266</td>\n      <td>-97.922211</td>\n      <td>142</td>\n      <td>Asia</td>\n      <td>27.076799</td>\n      <td>64.186966</td>\n      <td>145</td>\n      <td>Western Asia</td>\n      <td>29.059314</td>\n      <td>24.044483</td>\n      <td>2957731</td>\n    </tr>\n    <tr>\n      <th>...</th>\n      <td>...</td>\n      <td>...</td>\n      <td>...</td>\n      <td>...</td>\n      <td>...</td>\n      <td>...</td>\n      <td>...</td>\n      <td>...</td>\n      <td>...</td>\n      <td>...</td>\n      <td>...</td>\n      <td>...</td>\n      <td>...</td>\n    </tr>\n    <tr>\n      <th>150</th>\n      <td>as</td>\n      <td>American Samoa</td>\n      <td>-14.304405</td>\n      <td>-170.707833</td>\n      <td>9</td>\n      <td>Oceania</td>\n      <td>-24.684074</td>\n      <td>150.503737</td>\n      <td>61</td>\n      <td>Polynesia</td>\n      <td>-14.071868</td>\n      <td>-171.235791</td>\n      <td>55312</td>\n    </tr>\n    <tr>\n      <th>151</th>\n      <td>gi</td>\n      <td>Gibraltar</td>\n      <td>10.785546</td>\n      <td>-11.029862</td>\n      <td>150</td>\n      <td>Europe</td>\n      <td>42.467194</td>\n      <td>20.181702</td>\n      <td>39</td>\n      <td>Southern Europe</td>\n      <td>32.614556</td>\n      <td>2.915928</td>\n      <td>33701</td>\n    </tr>\n    <tr>\n      <th>152</th>\n      <td>in</td>\n      <td>India</td>\n      <td>22.199166</td>\n      <td>78.476681</td>\n      <td>142</td>\n      <td>Asia</td>\n      <td>27.076799</td>\n      <td>64.186966</td>\n      <td>34</td>\n      <td>Southern Asia</td>\n      <td>24.809203</td>\n      <td>64.107784</td>\n      <td>1366417754</td>\n    </tr>\n    <tr>\n      <th>153</th>\n      <td>us</td>\n      <td>United States</td>\n      <td>39.381266</td>\n      <td>-97.922211</td>\n      <td>19</td>\n      <td>Americas</td>\n      <td>10.294977</td>\n      <td>-57.708206</td>\n      <td>21</td>\n      <td>Northern America</td>\n      <td>47.483584</td>\n      <td>-101.836404</td>\n      <td>328239523</td>\n    </tr>\n    <tr>\n      <th>154</th>\n      <td>bf</td>\n      <td>Burkina Faso</td>\n      <td>12.277930</td>\n      <td>-1.573062</td>\n      <td>2</td>\n      <td>Africa</td>\n      <td>4.906968</td>\n      <td>15.329357</td>\n      <td>202</td>\n      <td>Sub-Saharan Africa</td>\n      <td>2.154918</td>\n      <td>12.071212</td>\n      <td>20321378</td>\n    </tr>\n  </tbody>\n</table>\n<p>155 rows × 13 columns</p>\n</div>"
     },
     "execution_count": 515,
     "metadata": {},
     "output_type": "execute_result"
    }
   ],
   "source": [
    "df = df[[\"code\",\"name\",\"lat\",\"lon\",\"region_code\",\"region_name\",\"region_lat\",\"region_lon\",\"sub_region_code\",\"sub_region_name\", \"sub_region_lat\", \"sub_region_lon\",\"population\"]]\n",
    "df"
   ],
   "metadata": {
    "collapsed": false
   }
  },
  {
   "cell_type": "code",
   "execution_count": 516,
   "metadata": {
    "collapsed": false,
    "jupyter": {
     "outputs_hidden": false
    }
   },
   "outputs": [],
   "source": [
    "df.to_csv(\"../output/processed/countries.csv\", index=False)"
   ]
  }
 ],
 "metadata": {
  "kernelspec": {
   "display_name": "Python 3 (ipykernel)",
   "language": "python",
   "name": "python3"
  },
  "language_info": {
   "codemirror_mode": {
    "name": "ipython",
    "version": 3
   },
   "file_extension": ".py",
   "mimetype": "text/x-python",
   "name": "python",
   "nbconvert_exporter": "python",
   "pygments_lexer": "ipython3",
   "version": "3.8.8"
  }
 },
 "nbformat": 4,
 "nbformat_minor": 4
}
