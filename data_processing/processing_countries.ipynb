{
 "cells": [
  {
   "cell_type": "code",
   "execution_count": 328,
   "metadata": {
    "tags": []
   },
   "outputs": [],
   "source": [
    "import os\n",
    "import requests\n",
    "from dotenv import load_dotenv\n",
    "import pandas as pd\n",
    "import pycountry\n",
    "import pypopulation\n",
    "from geojson import FeatureCollection, dump\n",
    "import numpy as np\n",
    "import xlrd\n",
    "import matplotlib.pyplot as plt\n",
    "from matplotlib import pyplot as plt\n",
    "import geopandas as gpd\n",
    "from shapely.geometry import Polygon, box\n",
    "from shapely.ops import unary_union\n",
    "from shapely import union_all"
   ]
  },
  {
   "cell_type": "code",
   "execution_count": 329,
   "outputs": [
    {
     "data": {
      "text/plain": "<Figure size 640x480 with 1 Axes>",
      "image/png": "[encoded data removed]"
     },
     "metadata": {},
     "output_type": "display_data"
    }
   ],
   "source": [
    "poly1 = Polygon([(47.270238,5.866315), (47.270238,15.041832),(55.1286491,15.041832),(55.1286491,5.866315)])\n",
    "poly2 = Polygon([(2.270238,1.866315), (2.270238,15.041832),(30.1286491,15.041832),(30.1286491,1.866315)])\n",
    "polys = [poly1,poly2]\n",
    "\n",
    "mergedPolys = unary_union(polys)\n",
    "\n",
    "gpd.GeoSeries([mergedPolys]).boundary.plot()\n",
    "plt.show()"
   ],
   "metadata": {
    "collapsed": false
   }
  },
  {
   "cell_type": "code",
   "execution_count": 329,
   "outputs": [],
   "source": [],
   "metadata": {
    "collapsed": false
   }
  },
  {
   "cell_type": "code",
   "execution_count": 330,
   "outputs": [
    {
     "name": "stderr",
     "output_type": "stream",
     "text": [
      "/home/jstet/Code/Uni/Basel_Convention_Scraper/venv/lib/python3.10/site-packages/geopandas/geodataframe.py:1676: FutureWarning: The default value of numeric_only in DataFrameGroupBy.sum is deprecated. In a future version, numeric_only will default to False. Either specify numeric_only or select only columns which should be valid for the function.\n",
      "  aggregated_data = data.groupby(**groupby_kwargs).agg(aggfunc)\n"
     ]
    }
   ],
   "source": [
    "world = gpd.read_file(gpd.datasets.get_path('naturalearth_lowres'))\n",
    "continents = world.dissolve(by='continent', aggfunc='sum')"
   ],
   "metadata": {
    "collapsed": false
   }
  },
  {
   "cell_type": "code",
   "execution_count": 331,
   "outputs": [],
   "source": [
    "def func(x):\n",
    "    return x.centroid\n",
    "\n",
    "continents[\"centroid\"] = continents.apply(lambda x: func(x[\"geometry\"]), axis=1)"
   ],
   "metadata": {
    "collapsed": false
   }
  },
  {
   "cell_type": "code",
   "execution_count": 332,
   "outputs": [
    {
     "data": {
      "text/plain": "                                                                  geometry  \\\ncontinent                                                                    \nAfrica                   MULTIPOLYGON (((-11.43878 6.78592, -11.70819 6...   \nAntarctica               MULTIPOLYGON (((-61.13898 -79.98137, -60.61012...   \nAsia                     MULTIPOLYGON (((48.67923 14.00320, 48.23895 13...   \nEurope                   MULTIPOLYGON (((-53.55484 2.33490, -53.77852 2...   \nNorth America            MULTIPOLYGON (((-155.22217 19.23972, -155.5421...   \nOceania                  MULTIPOLYGON (((147.91405 -43.21152, 147.56456...   \nSeven seas (open ocean)  POLYGON ((68.93500 -48.62500, 69.58000 -48.940...   \nSouth America            MULTIPOLYGON (((-68.63999 -55.58002, -69.23210...   \n\n                              pop_est  gdp_md_est                     centroid  \ncontinent                                                                       \nAfrica                   1.306370e+09     2455514     POINT (18.20682 6.45017)  \nAntarctica               4.490000e+03         898   POINT (20.57100 -80.49198)  \nAsia                     4.550277e+09    32725478    POINT (84.58722 32.27746)  \nEurope                   7.454125e+08    21587850    POINT (78.61808 60.00093)  \nNorth America            5.837560e+08    25075988   POINT (-92.17997 56.61537)  \nOceania                  4.120487e+07     1647113  POINT (136.76574 -25.31884)  \nSeven seas (open ocean)  1.400000e+02          16   POINT (69.53158 -49.30645)  \nSouth America            4.270667e+08     3852015  POINT (-60.87852 -15.47992)  ",
      "text/html": "<div>\n<style scoped>\n    .dataframe tbody tr th:only-of-type {\n        vertical-align: middle;\n    }\n\n    .dataframe tbody tr th {\n        vertical-align: top;\n    }\n\n    .dataframe thead th {\n        text-align: right;\n    }\n</style>\n<table border=\"1\" class=\"dataframe\">\n  <thead>\n    <tr style=\"text-align: right;\">\n      <th></th>\n      <th>geometry</th>\n      <th>pop_est</th>\n      <th>gdp_md_est</th>\n      <th>centroid</th>\n    </tr>\n    <tr>\n      <th>continent</th>\n      <th></th>\n      <th></th>\n      <th></th>\n      <th></th>\n    </tr>\n  </thead>\n  <tbody>\n    <tr>\n      <th>Africa</th>\n      <td>MULTIPOLYGON (((-11.43878 6.78592, -11.70819 6...</td>\n      <td>1.306370e+09</td>\n      <td>2455514</td>\n      <td>POINT (18.20682 6.45017)</td>\n    </tr>\n    <tr>\n      <th>Antarctica</th>\n      <td>MULTIPOLYGON (((-61.13898 -79.98137, -60.61012...</td>\n      <td>4.490000e+03</td>\n      <td>898</td>\n      <td>POINT (20.57100 -80.49198)</td>\n    </tr>\n    <tr>\n      <th>Asia</th>\n      <td>MULTIPOLYGON (((48.67923 14.00320, 48.23895 13...</td>\n      <td>4.550277e+09</td>\n      <td>32725478</td>\n      <td>POINT (84.58722 32.27746)</td>\n    </tr>\n    <tr>\n      <th>Europe</th>\n      <td>MULTIPOLYGON (((-53.55484 2.33490, -53.77852 2...</td>\n      <td>7.454125e+08</td>\n      <td>21587850</td>\n      <td>POINT (78.61808 60.00093)</td>\n    </tr>\n    <tr>\n      <th>North America</th>\n      <td>MULTIPOLYGON (((-155.22217 19.23972, -155.5421...</td>\n      <td>5.837560e+08</td>\n      <td>25075988</td>\n      <td>POINT (-92.17997 56.61537)</td>\n    </tr>\n    <tr>\n      <th>Oceania</th>\n      <td>MULTIPOLYGON (((147.91405 -43.21152, 147.56456...</td>\n      <td>4.120487e+07</td>\n      <td>1647113</td>\n      <td>POINT (136.76574 -25.31884)</td>\n    </tr>\n    <tr>\n      <th>Seven seas (open ocean)</th>\n      <td>POLYGON ((68.93500 -48.62500, 69.58000 -48.940...</td>\n      <td>1.400000e+02</td>\n      <td>16</td>\n      <td>POINT (69.53158 -49.30645)</td>\n    </tr>\n    <tr>\n      <th>South America</th>\n      <td>MULTIPOLYGON (((-68.63999 -55.58002, -69.23210...</td>\n      <td>4.270667e+08</td>\n      <td>3852015</td>\n      <td>POINT (-60.87852 -15.47992)</td>\n    </tr>\n  </tbody>\n</table>\n</div>"
     },
     "execution_count": 332,
     "metadata": {},
     "output_type": "execute_result"
    }
   ],
   "source": [
    "continents"
   ],
   "metadata": {
    "collapsed": false
   }
  },
  {
   "cell_type": "markdown",
   "source": [
    "## Geocoding\n",
    "Assigning countries coordinates"
   ],
   "metadata": {
    "collapsed": false
   }
  },
  {
   "cell_type": "code",
   "execution_count": 333,
   "metadata": {
    "collapsed": false,
    "jupyter": {
     "outputs_hidden": false
    }
   },
   "outputs": [],
   "source": [
    "load_dotenv()\n",
    "TOKEN=os.getenv(\"MAPBOX_TOKEN\")\n",
    "df = pd.read_csv(\"../output/processed/flows.csv\") # ../output/processed/\n",
    "origins = list(df.origin.unique())\n",
    "destinations = list(df.destination.unique())"
   ]
  },
  {
   "cell_type": "code",
   "execution_count": 334,
   "metadata": {
    "collapsed": false,
    "jupyter": {
     "outputs_hidden": false
    }
   },
   "outputs": [],
   "source": [
    "in_first = set(origins)\n",
    "in_second = set(destinations)\n",
    "in_second_but_not_in_first = in_second - in_first\n",
    "countries = origins + list(in_second_but_not_in_first)"
   ]
  },
  {
   "cell_type": "code",
   "execution_count": 335,
   "metadata": {
    "collapsed": false,
    "jupyter": {
     "outputs_hidden": false
    }
   },
   "outputs": [],
   "source": [
    "df = pd.DataFrame({\"country\":countries})"
   ]
  },
  {
   "cell_type": "code",
   "execution_count": 336,
   "metadata": {
    "collapsed": false,
    "jupyter": {
     "outputs_hidden": false
    }
   },
   "outputs": [],
   "source": [
    "headers = {'Accept': 'application/json'}\n",
    "lst = []\n",
    "for i in countries:\n",
    "    obj = {}\n",
    "    obj[\"type\"]=\"Feature\"\n",
    "    obj[\"properties\"]={\"name\": pycountry.countries.get(alpha_2=i).name}\n",
    "    pop = pypopulation.get_population_a2(i)\n",
    "    url = f\"https://api.mapbox.com/geocoding/v5/mapbox.places/{i}.json?&types=country&access_token={TOKEN}\"\n",
    "    r = requests.get(url)\n",
    "    jason = r.json()\n",
    "    obj[\"properties\"][\"code\"] = i.lower()\n",
    "    coords = jason[\"features\"][0][\"center\"]\n",
    "    bbox = jason[\"features\"][0][\"bbox\"]\n",
    "    obj[\"geometry\"] = {\"type\":\"Point\", \"coordinates\": coords}\n",
    "    lst.append(obj)\n",
    "    df.loc[df[\"country\"] == i, \"lat\"] = coords[1]\n",
    "    df.loc[df[\"country\"] == i, \"lon\"] = coords[0]\n",
    "    df.loc[df[\"country\"] == i, \"name\"] = obj[\"properties\"][\"name\"]\n",
    "    df.loc[df[\"country\"] == i, \"population\"] = pop\n",
    "    df.loc[df[\"country\"] == i, \"bbox\"] = str(bbox)\n",
    "    if i in destinations and not i in origins:\n",
    "        df.loc[df[\"country\"] == i, \"destination_only\"] = True\n",
    "    else:\n",
    "        df.loc[df[\"country\"] == i, \"destination_only\"] = False"
   ]
  },
  {
   "cell_type": "code",
   "execution_count": 336,
   "outputs": [],
   "source": [],
   "metadata": {
    "collapsed": false
   }
  },
  {
   "cell_type": "code",
   "execution_count": 337,
   "metadata": {
    "collapsed": false,
    "jupyter": {
     "outputs_hidden": false
    }
   },
   "outputs": [],
   "source": [
    "with open('../output/processed/countries.geojson', 'w') as f:\n",
    "    dump(FeatureCollection(lst), f)"
   ]
  },
  {
   "cell_type": "code",
   "execution_count": 338,
   "metadata": {
    "collapsed": false,
    "jupyter": {
     "outputs_hidden": false
    }
   },
   "outputs": [],
   "source": [
    "df['population'] = df['population'].fillna(0).astype(int)"
   ]
  },
  {
   "cell_type": "code",
   "execution_count": 339,
   "metadata": {},
   "outputs": [],
   "source": [
    "# filling one country manually\n",
    "df.loc[df[df[\"name\"]==\"Saint Barthélemy\"].index, 'population'] = 10457\n",
    "df = df.astype({'population':'str'})"
   ]
  },
  {
   "cell_type": "markdown",
   "source": [
    "## Clustering\n"
   ],
   "metadata": {
    "collapsed": false
   }
  },
  {
   "cell_type": "code",
   "execution_count": 340,
   "metadata": {},
   "outputs": [],
   "source": [
    "# https://unstats.un.org/unsd/methodology/m49/overview/\n",
    "regions = pd.read_excel(\"regions.xls\")"
   ]
  },
  {
   "cell_type": "code",
   "execution_count": 341,
   "metadata": {},
   "outputs": [],
   "source": [
    "def func(x):\n",
    "    iso3 = pycountry.countries.get(alpha_2=x).alpha_3\n",
    "    result = int(regions[regions[\"ISO-alpha3 Code\"] == iso3][\"Sub-region Code\"].values[0])\n",
    "    return result\n",
    "\n",
    "df[\"sub_region_code\"] = df.apply(lambda x: func(x[\"country\"]), axis=1)\n",
    "\n",
    "def func(x):\n",
    "    iso3 = pycountry.countries.get(alpha_2=x).alpha_3\n",
    "    result = regions[regions[\"ISO-alpha3 Code\"] == iso3][\"Sub-region Name\"].values[0]\n",
    "    return result\n",
    "\n",
    "df[\"sub_region_name\"] = df.apply(lambda x: func(x[\"country\"]), axis=1)\n",
    "\n",
    "def func(x):\n",
    "    iso3 = pycountry.countries.get(alpha_2=x).alpha_3\n",
    "    result = int(regions[regions[\"ISO-alpha3 Code\"] == iso3][\"Region Code\"].values[0])\n",
    "    return result\n",
    "\n",
    "df[\"region_code\"] = df.apply(lambda x: func(x[\"country\"]), axis=1)\n",
    "\n",
    "def func(x):\n",
    "    iso3 = pycountry.countries.get(alpha_2=x).alpha_3\n",
    "    result = regions[regions[\"ISO-alpha3 Code\"] == iso3][\"Region Name\"].values[0]\n",
    "    return result\n",
    "\n",
    "df[\"region_name\"] = df.apply(lambda x: func(x[\"country\"]), axis=1)\n",
    "\n"
   ]
  },
  {
   "cell_type": "code",
   "execution_count": 342,
   "outputs": [],
   "source": [
    "def func(x):\n",
    "    bbox = (eval(x)[1],eval(x)[0],eval(x)[3],eval(x)[2])\n",
    "    return box(*bbox, ccw=True)\n",
    "df[\"polygon\"] = df.apply(lambda x: func(x[\"bbox\"]), axis=1)"
   ],
   "metadata": {
    "collapsed": false
   }
  },
  {
   "cell_type": "code",
   "execution_count": 343,
   "outputs": [],
   "source": [
    "def centroids(typ):\n",
    "    obj = {}\n",
    "    for i in list(df[f\"{typ}_name\"].unique()):\n",
    "        polygons = list(df[df[f\"{typ}_name\"] == i][\"polygon\"])\n",
    "        u = union_all(polygons)\n",
    "        obj[i] = u.centroid\n",
    "    df[f\"{typ}_lat\"] = df.apply(lambda x: obj[x[f\"{typ}_name\"]].xy[0][0], axis=1)\n",
    "    df[f\"{typ}_lon\"] = df.apply(lambda x: obj[x[f\"{typ}_name\"]].xy[1][0], axis=1)"
   ],
   "metadata": {
    "collapsed": false
   }
  },
  {
   "cell_type": "code",
   "execution_count": 344,
   "outputs": [
    {
     "data": {
      "text/plain": "<Axes: >"
     },
     "execution_count": 344,
     "metadata": {},
     "output_type": "execute_result"
    },
    {
     "data": {
      "text/plain": "<Figure size 640x480 with 1 Axes>",
      "image/png": "[encoded data removed]"
     },
     "metadata": {},
     "output_type": "display_data"
    }
   ],
   "source": [
    "gpd.GeoSeries(list(df[f\"polygon\"].unique())).plot()"
   ],
   "metadata": {
    "collapsed": false
   }
  },
  {
   "cell_type": "code",
   "execution_count": 345,
   "outputs": [],
   "source": [
    "# def centroids(typ):\n",
    "#     obj = {}\n",
    "#     for i in list(df[f\"{typ}_name\"].unique()):\n",
    "#         lats = df[df[f\"{typ}_name\"] == i][\"lat\"]\n",
    "#         lons = df[df[f\"{typ}_name\"] == i][\"lon\"]\n",
    "#         lat = sum(lats)/len(lats)\n",
    "#         lon = sum(lons)/len(lons)\n",
    "#         obj[i] = [lat,lon]\n",
    "#\n",
    "#     df[f\"{typ}_lat\"] = df.apply(lambda x: obj[x[f\"{typ}_name\"]][0], axis=1)\n",
    "#     df[f\"{typ}_lon\"] = df.apply(lambda x: obj[x[f\"{typ}_name\"]][1], axis=1)"
   ],
   "metadata": {
    "collapsed": false
   }
  },
  {
   "cell_type": "code",
   "execution_count": 346,
   "outputs": [],
   "source": [
    "def centroids(typ):\n",
    "    obj = {}\n",
    "    for i in list(df[f\"{typ}_name\"].unique()):\n",
    "        polygons = list(df[df[f\"{typ}_name\"] == i][\"polygon\"])\n",
    "        u = union_all(polygons)\n",
    "        obj[i] = u.centroid\n",
    "    df[f\"{typ}_lat\"] = df.apply(lambda x: obj[x[f\"{typ}_name\"]].xy[0][0], axis=1)\n",
    "    df[f\"{typ}_lon\"] = df.apply(lambda x: obj[x[f\"{typ}_name\"]].xy[1][0], axis=1)\n",
    "\n",
    "df[\"region2_name\"] = df[\"region_name\"]\n",
    "df.loc[df[\"name\"].isin([\"Samoa\",\"American Samoa\"]), \"region2_name\"] = 0"
   ],
   "metadata": {
    "collapsed": false
   }
  },
  {
   "cell_type": "code",
   "execution_count": 347,
   "outputs": [],
   "source": [
    "centroids(\"region2\")\n",
    "centroids(\"sub_region\")"
   ],
   "metadata": {
    "collapsed": false
   }
  },
  {
   "cell_type": "code",
   "execution_count": 348,
   "outputs": [
    {
     "data": {
      "text/plain": "    country        lat        lon                  name population  \\\n0        ad  42.548654   1.576766               Andorra      77142   \n1        ae   1.612130  10.525771  United Arab Emirates    9770529   \n2        af  33.838806  66.026471           Afghanistan   38041754   \n3        al  28.163240   2.632388               Albania    2854191   \n4        am  39.381266 -97.922211               Armenia    2957731   \n..      ...        ...        ...                   ...        ...   \n150      gm  13.444526 -15.912854                Gambia    2347706   \n151      sa  23.384784  44.652426          Saudi Arabia   34268528   \n152      ug   1.279964  32.386218                Uganda   44269594   \n153      tm  39.122285  59.384377          Turkmenistan    5942089   \n154      ss   7.265386  30.054890           South Sudan   11062113   \n\n    destination_only  sub_region_code     sub_region_name  region_code  \\\n0              False               39     Southern Europe          150   \n1              False              145        Western Asia          142   \n2              False               34       Southern Asia          142   \n3              False               39     Southern Europe          150   \n4              False              145        Western Asia          142   \n..               ...              ...                 ...          ...   \n150             True              202  Sub-Saharan Africa            2   \n151             True              145        Western Asia          142   \n152             True              202  Sub-Saharan Africa            2   \n153             True              143        Central Asia          142   \n154             True              202  Sub-Saharan Africa            2   \n\n    region_name  region_lat  region_lon  sub_region_lat  sub_region_lon  \n0        Europe   51.115894   73.175181       31.361422      -38.216696  \n1          Asia   36.634306  -21.982547       43.308236     -105.575196  \n2          Asia   36.634306  -21.982547       23.045643       78.599963  \n3        Europe   51.115894   73.175181       31.361422      -38.216696  \n4          Asia   36.634306  -21.982547       43.308236     -105.575196  \n..          ...         ...         ...             ...             ...  \n150      Africa    4.435222   23.911857       -2.074168       20.234168  \n151        Asia   36.634306  -21.982547       43.308236     -105.575196  \n152      Africa    4.435222   23.911857       -2.074168       20.234168  \n153        Asia   36.634306  -21.982547       46.414818       66.400259  \n154      Africa    4.435222   23.911857       -2.074168       20.234168  \n\n[155 rows x 14 columns]",
      "text/html": "<div>\n<style scoped>\n    .dataframe tbody tr th:only-of-type {\n        vertical-align: middle;\n    }\n\n    .dataframe tbody tr th {\n        vertical-align: top;\n    }\n\n    .dataframe thead th {\n        text-align: right;\n    }\n</style>\n<table border=\"1\" class=\"dataframe\">\n  <thead>\n    <tr style=\"text-align: right;\">\n      <th></th>\n      <th>country</th>\n      <th>lat</th>\n      <th>lon</th>\n      <th>name</th>\n      <th>population</th>\n      <th>destination_only</th>\n      <th>sub_region_code</th>\n      <th>sub_region_name</th>\n      <th>region_code</th>\n      <th>region_name</th>\n      <th>region_lat</th>\n      <th>region_lon</th>\n      <th>sub_region_lat</th>\n      <th>sub_region_lon</th>\n    </tr>\n  </thead>\n  <tbody>\n    <tr>\n      <th>0</th>\n      <td>ad</td>\n      <td>42.548654</td>\n      <td>1.576766</td>\n      <td>Andorra</td>\n      <td>77142</td>\n      <td>False</td>\n      <td>39</td>\n      <td>Southern Europe</td>\n      <td>150</td>\n      <td>Europe</td>\n      <td>51.115894</td>\n      <td>73.175181</td>\n      <td>31.361422</td>\n      <td>-38.216696</td>\n    </tr>\n    <tr>\n      <th>1</th>\n      <td>ae</td>\n      <td>1.612130</td>\n      <td>10.525771</td>\n      <td>United Arab Emirates</td>\n      <td>9770529</td>\n      <td>False</td>\n      <td>145</td>\n      <td>Western Asia</td>\n      <td>142</td>\n      <td>Asia</td>\n      <td>36.634306</td>\n      <td>-21.982547</td>\n      <td>43.308236</td>\n      <td>-105.575196</td>\n    </tr>\n    <tr>\n      <th>2</th>\n      <td>af</td>\n      <td>33.838806</td>\n      <td>66.026471</td>\n      <td>Afghanistan</td>\n      <td>38041754</td>\n      <td>False</td>\n      <td>34</td>\n      <td>Southern Asia</td>\n      <td>142</td>\n      <td>Asia</td>\n      <td>36.634306</td>\n      <td>-21.982547</td>\n      <td>23.045643</td>\n      <td>78.599963</td>\n    </tr>\n    <tr>\n      <th>3</th>\n      <td>al</td>\n      <td>28.163240</td>\n      <td>2.632388</td>\n      <td>Albania</td>\n      <td>2854191</td>\n      <td>False</td>\n      <td>39</td>\n      <td>Southern Europe</td>\n      <td>150</td>\n      <td>Europe</td>\n      <td>51.115894</td>\n      <td>73.175181</td>\n      <td>31.361422</td>\n      <td>-38.216696</td>\n    </tr>\n    <tr>\n      <th>4</th>\n      <td>am</td>\n      <td>39.381266</td>\n      <td>-97.922211</td>\n      <td>Armenia</td>\n      <td>2957731</td>\n      <td>False</td>\n      <td>145</td>\n      <td>Western Asia</td>\n      <td>142</td>\n      <td>Asia</td>\n      <td>36.634306</td>\n      <td>-21.982547</td>\n      <td>43.308236</td>\n      <td>-105.575196</td>\n    </tr>\n    <tr>\n      <th>...</th>\n      <td>...</td>\n      <td>...</td>\n      <td>...</td>\n      <td>...</td>\n      <td>...</td>\n      <td>...</td>\n      <td>...</td>\n      <td>...</td>\n      <td>...</td>\n      <td>...</td>\n      <td>...</td>\n      <td>...</td>\n      <td>...</td>\n      <td>...</td>\n    </tr>\n    <tr>\n      <th>150</th>\n      <td>gm</td>\n      <td>13.444526</td>\n      <td>-15.912854</td>\n      <td>Gambia</td>\n      <td>2347706</td>\n      <td>True</td>\n      <td>202</td>\n      <td>Sub-Saharan Africa</td>\n      <td>2</td>\n      <td>Africa</td>\n      <td>4.435222</td>\n      <td>23.911857</td>\n      <td>-2.074168</td>\n      <td>20.234168</td>\n    </tr>\n    <tr>\n      <th>151</th>\n      <td>sa</td>\n      <td>23.384784</td>\n      <td>44.652426</td>\n      <td>Saudi Arabia</td>\n      <td>34268528</td>\n      <td>True</td>\n      <td>145</td>\n      <td>Western Asia</td>\n      <td>142</td>\n      <td>Asia</td>\n      <td>36.634306</td>\n      <td>-21.982547</td>\n      <td>43.308236</td>\n      <td>-105.575196</td>\n    </tr>\n    <tr>\n      <th>152</th>\n      <td>ug</td>\n      <td>1.279964</td>\n      <td>32.386218</td>\n      <td>Uganda</td>\n      <td>44269594</td>\n      <td>True</td>\n      <td>202</td>\n      <td>Sub-Saharan Africa</td>\n      <td>2</td>\n      <td>Africa</td>\n      <td>4.435222</td>\n      <td>23.911857</td>\n      <td>-2.074168</td>\n      <td>20.234168</td>\n    </tr>\n    <tr>\n      <th>153</th>\n      <td>tm</td>\n      <td>39.122285</td>\n      <td>59.384377</td>\n      <td>Turkmenistan</td>\n      <td>5942089</td>\n      <td>True</td>\n      <td>143</td>\n      <td>Central Asia</td>\n      <td>142</td>\n      <td>Asia</td>\n      <td>36.634306</td>\n      <td>-21.982547</td>\n      <td>46.414818</td>\n      <td>66.400259</td>\n    </tr>\n    <tr>\n      <th>154</th>\n      <td>ss</td>\n      <td>7.265386</td>\n      <td>30.054890</td>\n      <td>South Sudan</td>\n      <td>11062113</td>\n      <td>True</td>\n      <td>202</td>\n      <td>Sub-Saharan Africa</td>\n      <td>2</td>\n      <td>Africa</td>\n      <td>4.435222</td>\n      <td>23.911857</td>\n      <td>-2.074168</td>\n      <td>20.234168</td>\n    </tr>\n  </tbody>\n</table>\n<p>155 rows × 14 columns</p>\n</div>"
     },
     "execution_count": 348,
     "metadata": {},
     "output_type": "execute_result"
    }
   ],
   "source": [
    "df.drop('region2_name', axis = 1, inplace=True)\n",
    "df.drop('polygon', axis = 1, inplace=True)\n",
    "df.drop('bbox', axis = 1, inplace=True)\n",
    "df.rename(columns={'region2_lat': \"region_lat\", \"region2_lon\": \"region_lon\" }, inplace=True)\n",
    "df"
   ],
   "metadata": {
    "collapsed": false
   }
  },
  {
   "cell_type": "code",
   "execution_count": 349,
   "outputs": [],
   "source": [
    "df.loc[df[\"name\"].isin([\"Samoa\",\"American Samoa\"]), \"region_lat\"] = df.loc[df[\"name\"] == \"Australia\"][\"region_lat\"].values[0]\n",
    "df.loc[df[\"name\"].isin([\"Samoa\",\"American Samoa\"]), \"region_lon\"] = df.loc[df[\"name\"] == \"Australia\"][\"region_lon\"].values[0]"
   ],
   "metadata": {
    "collapsed": false
   }
  },
  {
   "cell_type": "code",
   "execution_count": 350,
   "outputs": [
    {
     "data": {
      "text/plain": "<Figure size 640x480 with 1 Axes>",
      "image/png": "[encoded data removed]"
     },
     "metadata": {},
     "output_type": "display_data"
    }
   ],
   "source": [
    "plt.scatter(df[\"lon\"], df[\"lat\"])\n",
    "plt.scatter(df[\"region_lon\"], df[\"region_lat\"], c=\"red\")\n",
    "plt.scatter(df[\"sub_region_lon\"], df[\"sub_region_lat\"], c=\"green\")\n",
    "plt.show()"
   ],
   "metadata": {
    "collapsed": false
   }
  },
  {
   "cell_type": "code",
   "execution_count": 351,
   "outputs": [],
   "source": [
    "df.rename(columns={\"country\": \"code\"}, inplace=True)"
   ],
   "metadata": {
    "collapsed": false
   }
  },
  {
   "cell_type": "markdown",
   "source": [],
   "metadata": {
    "collapsed": false
   }
  },
  {
   "cell_type": "code",
   "execution_count": 352,
   "outputs": [
    {
     "data": {
      "text/plain": "    code                  name        lat        lon  region_code region_name  \\\n0     ad               Andorra  42.548654   1.576766          150      Europe   \n1     ae  United Arab Emirates   1.612130  10.525771          142        Asia   \n2     af           Afghanistan  33.838806  66.026471          142        Asia   \n3     al               Albania  28.163240   2.632388          150      Europe   \n4     am               Armenia  39.381266 -97.922211          142        Asia   \n..   ...                   ...        ...        ...          ...         ...   \n150   gm                Gambia  13.444526 -15.912854            2      Africa   \n151   sa          Saudi Arabia  23.384784  44.652426          142        Asia   \n152   ug                Uganda   1.279964  32.386218            2      Africa   \n153   tm          Turkmenistan  39.122285  59.384377          142        Asia   \n154   ss           South Sudan   7.265386  30.054890            2      Africa   \n\n     region_lat  region_lon  sub_region_code     sub_region_name  \\\n0     51.115894   73.175181               39     Southern Europe   \n1     36.634306  -21.982547              145        Western Asia   \n2     36.634306  -21.982547               34       Southern Asia   \n3     51.115894   73.175181               39     Southern Europe   \n4     36.634306  -21.982547              145        Western Asia   \n..          ...         ...              ...                 ...   \n150    4.435222   23.911857              202  Sub-Saharan Africa   \n151   36.634306  -21.982547              145        Western Asia   \n152    4.435222   23.911857              202  Sub-Saharan Africa   \n153   36.634306  -21.982547              143        Central Asia   \n154    4.435222   23.911857              202  Sub-Saharan Africa   \n\n     sub_region_lat  sub_region_lon population destination_only  \n0         31.361422      -38.216696      77142            False  \n1         43.308236     -105.575196    9770529            False  \n2         23.045643       78.599963   38041754            False  \n3         31.361422      -38.216696    2854191            False  \n4         43.308236     -105.575196    2957731            False  \n..              ...             ...        ...              ...  \n150       -2.074168       20.234168    2347706             True  \n151       43.308236     -105.575196   34268528             True  \n152       -2.074168       20.234168   44269594             True  \n153       46.414818       66.400259    5942089             True  \n154       -2.074168       20.234168   11062113             True  \n\n[155 rows x 14 columns]",
      "text/html": "<div>\n<style scoped>\n    .dataframe tbody tr th:only-of-type {\n        vertical-align: middle;\n    }\n\n    .dataframe tbody tr th {\n        vertical-align: top;\n    }\n\n    .dataframe thead th {\n        text-align: right;\n    }\n</style>\n<table border=\"1\" class=\"dataframe\">\n  <thead>\n    <tr style=\"text-align: right;\">\n      <th></th>\n      <th>code</th>\n      <th>name</th>\n      <th>lat</th>\n      <th>lon</th>\n      <th>region_code</th>\n      <th>region_name</th>\n      <th>region_lat</th>\n      <th>region_lon</th>\n      <th>sub_region_code</th>\n      <th>sub_region_name</th>\n      <th>sub_region_lat</th>\n      <th>sub_region_lon</th>\n      <th>population</th>\n      <th>destination_only</th>\n    </tr>\n  </thead>\n  <tbody>\n    <tr>\n      <th>0</th>\n      <td>ad</td>\n      <td>Andorra</td>\n      <td>42.548654</td>\n      <td>1.576766</td>\n      <td>150</td>\n      <td>Europe</td>\n      <td>51.115894</td>\n      <td>73.175181</td>\n      <td>39</td>\n      <td>Southern Europe</td>\n      <td>31.361422</td>\n      <td>-38.216696</td>\n      <td>77142</td>\n      <td>False</td>\n    </tr>\n    <tr>\n      <th>1</th>\n      <td>ae</td>\n      <td>United Arab Emirates</td>\n      <td>1.612130</td>\n      <td>10.525771</td>\n      <td>142</td>\n      <td>Asia</td>\n      <td>36.634306</td>\n      <td>-21.982547</td>\n      <td>145</td>\n      <td>Western Asia</td>\n      <td>43.308236</td>\n      <td>-105.575196</td>\n      <td>9770529</td>\n      <td>False</td>\n    </tr>\n    <tr>\n      <th>2</th>\n      <td>af</td>\n      <td>Afghanistan</td>\n      <td>33.838806</td>\n      <td>66.026471</td>\n      <td>142</td>\n      <td>Asia</td>\n      <td>36.634306</td>\n      <td>-21.982547</td>\n      <td>34</td>\n      <td>Southern Asia</td>\n      <td>23.045643</td>\n      <td>78.599963</td>\n      <td>38041754</td>\n      <td>False</td>\n    </tr>\n    <tr>\n      <th>3</th>\n      <td>al</td>\n      <td>Albania</td>\n      <td>28.163240</td>\n      <td>2.632388</td>\n      <td>150</td>\n      <td>Europe</td>\n      <td>51.115894</td>\n      <td>73.175181</td>\n      <td>39</td>\n      <td>Southern Europe</td>\n      <td>31.361422</td>\n      <td>-38.216696</td>\n      <td>2854191</td>\n      <td>False</td>\n    </tr>\n    <tr>\n      <th>4</th>\n      <td>am</td>\n      <td>Armenia</td>\n      <td>39.381266</td>\n      <td>-97.922211</td>\n      <td>142</td>\n      <td>Asia</td>\n      <td>36.634306</td>\n      <td>-21.982547</td>\n      <td>145</td>\n      <td>Western Asia</td>\n      <td>43.308236</td>\n      <td>-105.575196</td>\n      <td>2957731</td>\n      <td>False</td>\n    </tr>\n    <tr>\n      <th>...</th>\n      <td>...</td>\n      <td>...</td>\n      <td>...</td>\n      <td>...</td>\n      <td>...</td>\n      <td>...</td>\n      <td>...</td>\n      <td>...</td>\n      <td>...</td>\n      <td>...</td>\n      <td>...</td>\n      <td>...</td>\n      <td>...</td>\n      <td>...</td>\n    </tr>\n    <tr>\n      <th>150</th>\n      <td>gm</td>\n      <td>Gambia</td>\n      <td>13.444526</td>\n      <td>-15.912854</td>\n      <td>2</td>\n      <td>Africa</td>\n      <td>4.435222</td>\n      <td>23.911857</td>\n      <td>202</td>\n      <td>Sub-Saharan Africa</td>\n      <td>-2.074168</td>\n      <td>20.234168</td>\n      <td>2347706</td>\n      <td>True</td>\n    </tr>\n    <tr>\n      <th>151</th>\n      <td>sa</td>\n      <td>Saudi Arabia</td>\n      <td>23.384784</td>\n      <td>44.652426</td>\n      <td>142</td>\n      <td>Asia</td>\n      <td>36.634306</td>\n      <td>-21.982547</td>\n      <td>145</td>\n      <td>Western Asia</td>\n      <td>43.308236</td>\n      <td>-105.575196</td>\n      <td>34268528</td>\n      <td>True</td>\n    </tr>\n    <tr>\n      <th>152</th>\n      <td>ug</td>\n      <td>Uganda</td>\n      <td>1.279964</td>\n      <td>32.386218</td>\n      <td>2</td>\n      <td>Africa</td>\n      <td>4.435222</td>\n      <td>23.911857</td>\n      <td>202</td>\n      <td>Sub-Saharan Africa</td>\n      <td>-2.074168</td>\n      <td>20.234168</td>\n      <td>44269594</td>\n      <td>True</td>\n    </tr>\n    <tr>\n      <th>153</th>\n      <td>tm</td>\n      <td>Turkmenistan</td>\n      <td>39.122285</td>\n      <td>59.384377</td>\n      <td>142</td>\n      <td>Asia</td>\n      <td>36.634306</td>\n      <td>-21.982547</td>\n      <td>143</td>\n      <td>Central Asia</td>\n      <td>46.414818</td>\n      <td>66.400259</td>\n      <td>5942089</td>\n      <td>True</td>\n    </tr>\n    <tr>\n      <th>154</th>\n      <td>ss</td>\n      <td>South Sudan</td>\n      <td>7.265386</td>\n      <td>30.054890</td>\n      <td>2</td>\n      <td>Africa</td>\n      <td>4.435222</td>\n      <td>23.911857</td>\n      <td>202</td>\n      <td>Sub-Saharan Africa</td>\n      <td>-2.074168</td>\n      <td>20.234168</td>\n      <td>11062113</td>\n      <td>True</td>\n    </tr>\n  </tbody>\n</table>\n<p>155 rows × 14 columns</p>\n</div>"
     },
     "execution_count": 352,
     "metadata": {},
     "output_type": "execute_result"
    }
   ],
   "source": [
    "df = df[[\"code\",\"name\",\"lat\",\"lon\",\"region_code\",\"region_name\",\"region_lat\",\"region_lon\",\"sub_region_code\",\"sub_region_name\", \"sub_region_lat\", \"sub_region_lon\",\"population\",\"destination_only\"]]\n",
    "df"
   ],
   "metadata": {
    "collapsed": false
   }
  },
  {
   "cell_type": "code",
   "execution_count": 354,
   "metadata": {
    "collapsed": false,
    "jupyter": {
     "outputs_hidden": false
    }
   },
   "outputs": [],
   "source": [
    "df.to_csv(\"../output/processed/countries.csv\", index=False)"
   ]
  }
 ],
 "metadata": {
  "kernelspec": {
   "display_name": "Python 3 (ipykernel)",
   "language": "python",
   "name": "python3"
  },
  "language_info": {
   "codemirror_mode": {
    "name": "ipython",
    "version": 3
   },
   "file_extension": ".py",
   "mimetype": "text/x-python",
   "name": "python",
   "nbconvert_exporter": "python",
   "pygments_lexer": "ipython3",
   "version": "3.8.8"
  }
 },
 "nbformat": 4,
 "nbformat_minor": 4
}
