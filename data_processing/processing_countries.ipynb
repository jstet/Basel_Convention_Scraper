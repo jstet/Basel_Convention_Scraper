{
 "cells": [
  {
   "cell_type": "code",
   "execution_count": 80,
   "metadata": {
    "tags": []
   },
   "outputs": [],
   "source": [
    "import os\n",
    "import requests\n",
    "from dotenv import load_dotenv\n",
    "import pandas as pd\n",
    "import pycountry\n",
    "import pypopulation\n",
    "from geojson import FeatureCollection, dump\n",
    "from helpers import normalize_country_names\n",
    "import numpy as np\n",
    "import xlrd\n",
    "import matplotlib.pyplot as plt\n",
    "from matplotlib import pyplot as plt\n",
    "import geopandas as gpd\n",
    "from shapely.geometry import Polygon, box\n",
    "from shapely.ops import unary_union\n",
    "from shapely import union_all"
   ]
  },
  {
   "cell_type": "markdown",
   "source": [
    "## Geocoding\n",
    "Assigning countries coordinates"
   ],
   "metadata": {
    "collapsed": false
   }
  },
  {
   "cell_type": "code",
   "execution_count": 81,
   "metadata": {
    "collapsed": false,
    "jupyter": {
     "outputs_hidden": false
    }
   },
   "outputs": [],
   "source": [
    "load_dotenv()\n",
    "TOKEN=os.getenv(\"MAPBOX_TOKEN\")\n",
    "df = pd.read_csv(\"../output/processed/flows.csv\") # ../output/processed/\n",
    "origins = list(df.origin.unique())\n",
    "destinations = list(df.destination.unique())\n"
   ]
  },
  {
   "cell_type": "code",
   "execution_count": 82,
   "outputs": [
    {
     "data": {
      "text/plain": "      Unnamed: 0 origin destination  year  UN1  UN3  UN4.1  UN4.2  UN4.3  \\\n0              0     ad          es  2002  0.0  0.0    0.0    0.0    0.0   \n1              1     ad          es  2003  0.0  0.0    0.0    0.0    0.0   \n2              2     ad          es  2004  0.0  0.0    0.0    0.0    0.0   \n3              3     ad          es  2005  0.0  0.0    0.0    0.0    0.0   \n4              4     ad          es  2006  0.0  0.0    0.0    0.0    0.0   \n...          ...    ...         ...   ...  ...  ...    ...    ...    ...   \n8103        8103     za          se  2015  0.0  0.0    0.0    0.0    0.0   \n8104        8104     za          sg  2010  0.0  0.0    0.0    0.0    0.0   \n8105        8105     za          tr  2018  0.0  0.0    0.0    0.0    0.0   \n8106        8106     zm          fi  2002  0.0  0.0    0.0    0.0    0.0   \n8107        8107     zm          za  2006  0.0  0.0    0.0    0.0    0.0   \n\n      UN5.1  UN5.2  UN6.1  UN6.2  UN8     UN9  unspecified  multiple  \n0       0.0    0.0    0.0    0.0  0.0     0.0     7777.400      0.00  \n1       0.0    0.0    0.0    0.0  0.0     0.0      486.800      0.00  \n2       0.0    0.0    0.0    0.0  0.0     0.0      425.980      0.00  \n3       0.0    0.0    0.0    0.0  0.0     0.0      621.950      0.00  \n4       0.0    0.0    0.0    0.0  0.0     0.0     1044.092      0.00  \n...     ...    ...    ...    ...  ...     ...          ...       ...  \n8103    0.0    0.0    0.0    0.0  0.0  1000.0        0.000      0.00  \n8104    0.0    0.0    0.0    0.0  0.0   720.0        0.000      0.00  \n8105    0.0    0.0    0.0    0.0  0.0     0.0        0.000     21.24  \n8106    0.0    0.0    0.0    0.0  0.0     0.0      235.000      0.00  \n8107    0.0    0.0    0.0    0.0  0.0     0.0        1.700      0.00  \n\n[8108 rows x 17 columns]",
      "text/html": "<div>\n<style scoped>\n    .dataframe tbody tr th:only-of-type {\n        vertical-align: middle;\n    }\n\n    .dataframe tbody tr th {\n        vertical-align: top;\n    }\n\n    .dataframe thead th {\n        text-align: right;\n    }\n</style>\n<table border=\"1\" class=\"dataframe\">\n  <thead>\n    <tr style=\"text-align: right;\">\n      <th></th>\n      <th>Unnamed: 0</th>\n      <th>origin</th>\n      <th>destination</th>\n      <th>year</th>\n      <th>UN1</th>\n      <th>UN3</th>\n      <th>UN4.1</th>\n      <th>UN4.2</th>\n      <th>UN4.3</th>\n      <th>UN5.1</th>\n      <th>UN5.2</th>\n      <th>UN6.1</th>\n      <th>UN6.2</th>\n      <th>UN8</th>\n      <th>UN9</th>\n      <th>unspecified</th>\n      <th>multiple</th>\n    </tr>\n  </thead>\n  <tbody>\n    <tr>\n      <th>0</th>\n      <td>0</td>\n      <td>ad</td>\n      <td>es</td>\n      <td>2002</td>\n      <td>0.0</td>\n      <td>0.0</td>\n      <td>0.0</td>\n      <td>0.0</td>\n      <td>0.0</td>\n      <td>0.0</td>\n      <td>0.0</td>\n      <td>0.0</td>\n      <td>0.0</td>\n      <td>0.0</td>\n      <td>0.0</td>\n      <td>7777.400</td>\n      <td>0.00</td>\n    </tr>\n    <tr>\n      <th>1</th>\n      <td>1</td>\n      <td>ad</td>\n      <td>es</td>\n      <td>2003</td>\n      <td>0.0</td>\n      <td>0.0</td>\n      <td>0.0</td>\n      <td>0.0</td>\n      <td>0.0</td>\n      <td>0.0</td>\n      <td>0.0</td>\n      <td>0.0</td>\n      <td>0.0</td>\n      <td>0.0</td>\n      <td>0.0</td>\n      <td>486.800</td>\n      <td>0.00</td>\n    </tr>\n    <tr>\n      <th>2</th>\n      <td>2</td>\n      <td>ad</td>\n      <td>es</td>\n      <td>2004</td>\n      <td>0.0</td>\n      <td>0.0</td>\n      <td>0.0</td>\n      <td>0.0</td>\n      <td>0.0</td>\n      <td>0.0</td>\n      <td>0.0</td>\n      <td>0.0</td>\n      <td>0.0</td>\n      <td>0.0</td>\n      <td>0.0</td>\n      <td>425.980</td>\n      <td>0.00</td>\n    </tr>\n    <tr>\n      <th>3</th>\n      <td>3</td>\n      <td>ad</td>\n      <td>es</td>\n      <td>2005</td>\n      <td>0.0</td>\n      <td>0.0</td>\n      <td>0.0</td>\n      <td>0.0</td>\n      <td>0.0</td>\n      <td>0.0</td>\n      <td>0.0</td>\n      <td>0.0</td>\n      <td>0.0</td>\n      <td>0.0</td>\n      <td>0.0</td>\n      <td>621.950</td>\n      <td>0.00</td>\n    </tr>\n    <tr>\n      <th>4</th>\n      <td>4</td>\n      <td>ad</td>\n      <td>es</td>\n      <td>2006</td>\n      <td>0.0</td>\n      <td>0.0</td>\n      <td>0.0</td>\n      <td>0.0</td>\n      <td>0.0</td>\n      <td>0.0</td>\n      <td>0.0</td>\n      <td>0.0</td>\n      <td>0.0</td>\n      <td>0.0</td>\n      <td>0.0</td>\n      <td>1044.092</td>\n      <td>0.00</td>\n    </tr>\n    <tr>\n      <th>...</th>\n      <td>...</td>\n      <td>...</td>\n      <td>...</td>\n      <td>...</td>\n      <td>...</td>\n      <td>...</td>\n      <td>...</td>\n      <td>...</td>\n      <td>...</td>\n      <td>...</td>\n      <td>...</td>\n      <td>...</td>\n      <td>...</td>\n      <td>...</td>\n      <td>...</td>\n      <td>...</td>\n      <td>...</td>\n    </tr>\n    <tr>\n      <th>8103</th>\n      <td>8103</td>\n      <td>za</td>\n      <td>se</td>\n      <td>2015</td>\n      <td>0.0</td>\n      <td>0.0</td>\n      <td>0.0</td>\n      <td>0.0</td>\n      <td>0.0</td>\n      <td>0.0</td>\n      <td>0.0</td>\n      <td>0.0</td>\n      <td>0.0</td>\n      <td>0.0</td>\n      <td>1000.0</td>\n      <td>0.000</td>\n      <td>0.00</td>\n    </tr>\n    <tr>\n      <th>8104</th>\n      <td>8104</td>\n      <td>za</td>\n      <td>sg</td>\n      <td>2010</td>\n      <td>0.0</td>\n      <td>0.0</td>\n      <td>0.0</td>\n      <td>0.0</td>\n      <td>0.0</td>\n      <td>0.0</td>\n      <td>0.0</td>\n      <td>0.0</td>\n      <td>0.0</td>\n      <td>0.0</td>\n      <td>720.0</td>\n      <td>0.000</td>\n      <td>0.00</td>\n    </tr>\n    <tr>\n      <th>8105</th>\n      <td>8105</td>\n      <td>za</td>\n      <td>tr</td>\n      <td>2018</td>\n      <td>0.0</td>\n      <td>0.0</td>\n      <td>0.0</td>\n      <td>0.0</td>\n      <td>0.0</td>\n      <td>0.0</td>\n      <td>0.0</td>\n      <td>0.0</td>\n      <td>0.0</td>\n      <td>0.0</td>\n      <td>0.0</td>\n      <td>0.000</td>\n      <td>21.24</td>\n    </tr>\n    <tr>\n      <th>8106</th>\n      <td>8106</td>\n      <td>zm</td>\n      <td>fi</td>\n      <td>2002</td>\n      <td>0.0</td>\n      <td>0.0</td>\n      <td>0.0</td>\n      <td>0.0</td>\n      <td>0.0</td>\n      <td>0.0</td>\n      <td>0.0</td>\n      <td>0.0</td>\n      <td>0.0</td>\n      <td>0.0</td>\n      <td>0.0</td>\n      <td>235.000</td>\n      <td>0.00</td>\n    </tr>\n    <tr>\n      <th>8107</th>\n      <td>8107</td>\n      <td>zm</td>\n      <td>za</td>\n      <td>2006</td>\n      <td>0.0</td>\n      <td>0.0</td>\n      <td>0.0</td>\n      <td>0.0</td>\n      <td>0.0</td>\n      <td>0.0</td>\n      <td>0.0</td>\n      <td>0.0</td>\n      <td>0.0</td>\n      <td>0.0</td>\n      <td>0.0</td>\n      <td>1.700</td>\n      <td>0.00</td>\n    </tr>\n  </tbody>\n</table>\n<p>8108 rows × 17 columns</p>\n</div>"
     },
     "execution_count": 82,
     "metadata": {},
     "output_type": "execute_result"
    }
   ],
   "source": [
    "df"
   ],
   "metadata": {
    "collapsed": false
   }
  },
  {
   "cell_type": "code",
   "execution_count": 83,
   "metadata": {
    "collapsed": false,
    "jupyter": {
     "outputs_hidden": false
    }
   },
   "outputs": [],
   "source": [
    "in_first = set(origins)\n",
    "in_second = set(destinations)\n",
    "in_second_but_not_in_first = in_second - in_first\n",
    "countries = origins + list(in_second_but_not_in_first)"
   ]
  },
  {
   "cell_type": "code",
   "execution_count": 84,
   "metadata": {
    "collapsed": false,
    "jupyter": {
     "outputs_hidden": false
    }
   },
   "outputs": [
    {
     "data": {
      "text/plain": "    code\n0     ad\n1     ae\n2     af\n3     al\n4     am\n..   ...\n150   hk\n151   ss\n152   sl\n153   tj\n154   et\n\n[155 rows x 1 columns]",
      "text/html": "<div>\n<style scoped>\n    .dataframe tbody tr th:only-of-type {\n        vertical-align: middle;\n    }\n\n    .dataframe tbody tr th {\n        vertical-align: top;\n    }\n\n    .dataframe thead th {\n        text-align: right;\n    }\n</style>\n<table border=\"1\" class=\"dataframe\">\n  <thead>\n    <tr style=\"text-align: right;\">\n      <th></th>\n      <th>code</th>\n    </tr>\n  </thead>\n  <tbody>\n    <tr>\n      <th>0</th>\n      <td>ad</td>\n    </tr>\n    <tr>\n      <th>1</th>\n      <td>ae</td>\n    </tr>\n    <tr>\n      <th>2</th>\n      <td>af</td>\n    </tr>\n    <tr>\n      <th>3</th>\n      <td>al</td>\n    </tr>\n    <tr>\n      <th>4</th>\n      <td>am</td>\n    </tr>\n    <tr>\n      <th>...</th>\n      <td>...</td>\n    </tr>\n    <tr>\n      <th>150</th>\n      <td>hk</td>\n    </tr>\n    <tr>\n      <th>151</th>\n      <td>ss</td>\n    </tr>\n    <tr>\n      <th>152</th>\n      <td>sl</td>\n    </tr>\n    <tr>\n      <th>153</th>\n      <td>tj</td>\n    </tr>\n    <tr>\n      <th>154</th>\n      <td>et</td>\n    </tr>\n  </tbody>\n</table>\n<p>155 rows × 1 columns</p>\n</div>"
     },
     "execution_count": 84,
     "metadata": {},
     "output_type": "execute_result"
    }
   ],
   "source": [
    "df = pd.DataFrame({\"code\":countries})\n",
    "df"
   ]
  },
  {
   "cell_type": "code",
   "execution_count": 85,
   "metadata": {
    "collapsed": false,
    "jupyter": {
     "outputs_hidden": false
    }
   },
   "outputs": [],
   "source": [
    "headers = {'Accept': 'application/json'}\n",
    "lst = []\n",
    "for i in countries:\n",
    "    obj = {}\n",
    "    obj[\"type\"]=\"Feature\"\n",
    "    obj[\"properties\"]={\"name\": pycountry.countries.get(alpha_2=i).name}\n",
    "    pop = pypopulation.get_population_a2(i)\n",
    "    url = f\"https://api.mapbox.com/geocoding/v5/mapbox.places/{pycountry.countries.get(alpha_2=i).name}.json?&types=country&access_token={TOKEN}\"\n",
    "    r = requests.get(url)\n",
    "    jason = r.json()\n",
    "    obj[\"properties\"][\"code\"] = i.lower()\n",
    "    coords = jason[\"features\"][0][\"center\"]\n",
    "    bbox = jason[\"features\"][0][\"bbox\"]\n",
    "    obj[\"geometry\"] = {\"type\":\"Point\", \"coordinates\": coords}\n",
    "    lst.append(obj)\n",
    "    df.loc[df[\"code\"] == i, \"lat\"] = coords[1]\n",
    "    df.loc[df[\"code\"] == i, \"lon\"] = coords[0]\n",
    "    df.loc[df[\"code\"] == i, \"name\"] = obj[\"properties\"][\"name\"]\n",
    "    df.loc[df[\"code\"] == i, \"population\"] = pop\n",
    "    df.loc[df[\"code\"] == i, \"bbox\"] = str(bbox)\n",
    "    if i in destinations and not i in origins:\n",
    "        df.loc[df[\"code\"] == i, \"destination_only\"] = True\n",
    "    else:\n",
    "        df.loc[df[\"code\"] == i, \"destination_only\"] = False"
   ]
  },
  {
   "cell_type": "code",
   "execution_count": 86,
   "metadata": {
    "collapsed": false,
    "jupyter": {
     "outputs_hidden": false
    }
   },
   "outputs": [],
   "source": [
    "with open('../output/processed/countries.geojson', 'w') as f:\n",
    "    dump(FeatureCollection(lst), f)"
   ]
  },
  {
   "cell_type": "code",
   "execution_count": 87,
   "metadata": {
    "collapsed": false,
    "jupyter": {
     "outputs_hidden": false
    }
   },
   "outputs": [],
   "source": [
    "df['population'] = df['population'].fillna(0).astype(int)"
   ]
  },
  {
   "cell_type": "code",
   "execution_count": 88,
   "metadata": {},
   "outputs": [],
   "source": [
    "# filling one country manually\n",
    "df.loc[df[df[\"name\"]==\"Saint Barthélemy\"].index, 'population'] = 10457\n",
    "df = df.astype({'population':'str'})"
   ]
  },
  {
   "cell_type": "markdown",
   "source": [
    "## Clustering\n"
   ],
   "metadata": {
    "collapsed": false
   }
  },
  {
   "cell_type": "code",
   "execution_count": 89,
   "metadata": {},
   "outputs": [
    {
     "data": {
      "text/plain": "     HDI rank                              Country    HDI  \\\n0         1.0                          Switzerland  0.962   \n1         2.0                               Norway  0.961   \n2         3.0                              Iceland  0.959   \n3         4.0               Hong Kong, China (SAR)  0.952   \n4         5.0                            Australia  0.951   \n..        ...                                  ...    ...   \n190     191.0                          South Sudan  0.385   \n191       NaN  Korea (Democratic People's Rep. of)     ..   \n192       NaN                               Monaco     ..   \n193       NaN                                Nauru     ..   \n194       NaN                              Somalia     ..   \n\n     Life expectancy at birth Expected years of schooling  \\\n0                     83.9872                   16.500299   \n1                     83.2339                     18.1852   \n2                     82.6782                   19.163059   \n3                     85.4734                    17.27817   \n4                     84.5265                    21.05459   \n..                        ...                         ...   \n190                   54.9752                     5.54251   \n191                   73.2845                    10.78317   \n192                   85.9463                          ..   \n193                   63.6170                    11.69042   \n194                   55.2803                          ..   \n\n    Mean years of schooling Gross national income (GNI) per capita  \\\n0                  13.85966                            66933.00454   \n1                  13.00363                            64660.10622   \n2                  13.76717                            55782.04981   \n3                  12.22621                             62606.8454   \n4                  12.72682                            49238.43335   \n..                      ...                                    ...   \n190                 5.72614                                767.787   \n191                      ..                                     ..   \n192                      ..                                     ..   \n193                      ..                            17729.74084   \n194                      ..                             1017.96785   \n\n    GNI per capita rank minus HDI rank code  \n0                                    5   ch  \n1                                    6   no  \n2                                   11   is  \n3                                    6   hk  \n4                                   18   au  \n..                                 ...  ...  \n190                                 -1   ss  \n191                                 ..   kp  \n192                                 ..   mc  \n193                                 ..   nr  \n194                                 ..   so  \n\n[195 rows x 9 columns]",
      "text/html": "<div>\n<style scoped>\n    .dataframe tbody tr th:only-of-type {\n        vertical-align: middle;\n    }\n\n    .dataframe tbody tr th {\n        vertical-align: top;\n    }\n\n    .dataframe thead th {\n        text-align: right;\n    }\n</style>\n<table border=\"1\" class=\"dataframe\">\n  <thead>\n    <tr style=\"text-align: right;\">\n      <th></th>\n      <th>HDI rank</th>\n      <th>Country</th>\n      <th>HDI</th>\n      <th>Life expectancy at birth</th>\n      <th>Expected years of schooling</th>\n      <th>Mean years of schooling</th>\n      <th>Gross national income (GNI) per capita</th>\n      <th>GNI per capita rank minus HDI rank</th>\n      <th>code</th>\n    </tr>\n  </thead>\n  <tbody>\n    <tr>\n      <th>0</th>\n      <td>1.0</td>\n      <td>Switzerland</td>\n      <td>0.962</td>\n      <td>83.9872</td>\n      <td>16.500299</td>\n      <td>13.85966</td>\n      <td>66933.00454</td>\n      <td>5</td>\n      <td>ch</td>\n    </tr>\n    <tr>\n      <th>1</th>\n      <td>2.0</td>\n      <td>Norway</td>\n      <td>0.961</td>\n      <td>83.2339</td>\n      <td>18.1852</td>\n      <td>13.00363</td>\n      <td>64660.10622</td>\n      <td>6</td>\n      <td>no</td>\n    </tr>\n    <tr>\n      <th>2</th>\n      <td>3.0</td>\n      <td>Iceland</td>\n      <td>0.959</td>\n      <td>82.6782</td>\n      <td>19.163059</td>\n      <td>13.76717</td>\n      <td>55782.04981</td>\n      <td>11</td>\n      <td>is</td>\n    </tr>\n    <tr>\n      <th>3</th>\n      <td>4.0</td>\n      <td>Hong Kong, China (SAR)</td>\n      <td>0.952</td>\n      <td>85.4734</td>\n      <td>17.27817</td>\n      <td>12.22621</td>\n      <td>62606.8454</td>\n      <td>6</td>\n      <td>hk</td>\n    </tr>\n    <tr>\n      <th>4</th>\n      <td>5.0</td>\n      <td>Australia</td>\n      <td>0.951</td>\n      <td>84.5265</td>\n      <td>21.05459</td>\n      <td>12.72682</td>\n      <td>49238.43335</td>\n      <td>18</td>\n      <td>au</td>\n    </tr>\n    <tr>\n      <th>...</th>\n      <td>...</td>\n      <td>...</td>\n      <td>...</td>\n      <td>...</td>\n      <td>...</td>\n      <td>...</td>\n      <td>...</td>\n      <td>...</td>\n      <td>...</td>\n    </tr>\n    <tr>\n      <th>190</th>\n      <td>191.0</td>\n      <td>South Sudan</td>\n      <td>0.385</td>\n      <td>54.9752</td>\n      <td>5.54251</td>\n      <td>5.72614</td>\n      <td>767.787</td>\n      <td>-1</td>\n      <td>ss</td>\n    </tr>\n    <tr>\n      <th>191</th>\n      <td>NaN</td>\n      <td>Korea (Democratic People's Rep. of)</td>\n      <td>..</td>\n      <td>73.2845</td>\n      <td>10.78317</td>\n      <td>..</td>\n      <td>..</td>\n      <td>..</td>\n      <td>kp</td>\n    </tr>\n    <tr>\n      <th>192</th>\n      <td>NaN</td>\n      <td>Monaco</td>\n      <td>..</td>\n      <td>85.9463</td>\n      <td>..</td>\n      <td>..</td>\n      <td>..</td>\n      <td>..</td>\n      <td>mc</td>\n    </tr>\n    <tr>\n      <th>193</th>\n      <td>NaN</td>\n      <td>Nauru</td>\n      <td>..</td>\n      <td>63.6170</td>\n      <td>11.69042</td>\n      <td>..</td>\n      <td>17729.74084</td>\n      <td>..</td>\n      <td>nr</td>\n    </tr>\n    <tr>\n      <th>194</th>\n      <td>NaN</td>\n      <td>Somalia</td>\n      <td>..</td>\n      <td>55.2803</td>\n      <td>..</td>\n      <td>..</td>\n      <td>1017.96785</td>\n      <td>..</td>\n      <td>so</td>\n    </tr>\n  </tbody>\n</table>\n<p>195 rows × 9 columns</p>\n</div>"
     },
     "execution_count": 89,
     "metadata": {},
     "output_type": "execute_result"
    }
   ],
   "source": [
    "\n",
    "\n",
    "# https://unstats.un.org/unsd/methodology/m49/overview/\n",
    "regions = pd.read_excel(\"regions.xls\")\n",
    "# https://hdr.undp.org/data-center/documentation-and-downloads\n",
    "# HDI 2021\n",
    "hdi = pd.read_excel(\"HDI.xls\")\n",
    "hdi.rename(columns={\"Human Development Index (HDI) \": \"HDI\"}, inplace=True)\n",
    "hdi[\"code\"] = hdi[\"Country\"].apply(normalize_country_names)\n",
    "hdi"
   ]
  },
  {
   "cell_type": "code",
   "execution_count": 90,
   "metadata": {},
   "outputs": [],
   "source": [
    "# Region\n",
    "def func(x, col):\n",
    "    iso3 = pycountry.countries.get(alpha_2=x).alpha_3\n",
    "    result = regions[regions[\"ISO-alpha3 Code\"] == iso3][col].values[0]\n",
    "    return result\n",
    "\n",
    "df[\"region_code\"] = df.apply(lambda x: func(x[\"code\"], \"Region Code\"), axis=1)\n",
    "df[\"region_name\"] = df.apply(lambda x: func(x[\"code\"], \"Region Name\"), axis=1)\n",
    "\n",
    "# Subregion\n",
    "df[\"sub_region_code\"] = df.apply(lambda x: func(x[\"code\"], \"Sub-region Code\"), axis=1)\n",
    "df[\"sub_region_name\"] = df.apply(lambda x: func(x[\"code\"], \"Sub-region Name\"), axis=1)"
   ]
  },
  {
   "cell_type": "code",
   "execution_count": 91,
   "outputs": [],
   "source": [
    "# HDI\n",
    "def func(x):\n",
    "    # american samoa doesn't exist in classification\n",
    "    if x == \"as\":\n",
    "        return 999\n",
    "    # gibraltar doesn't exist in classification\n",
    "    if x == \"gi\":\n",
    "        return 999\n",
    "    # Saint-Barthélemy doesn't exist in classification\n",
    "    if x ==\"bl\":\n",
    "        return 999\n",
    "    # Unclassified country mentioned in report\n",
    "    if hdi[hdi[\"code\"] == x][\"HDI\"].values[0] == \"..\":\n",
    "        return 999\n",
    "    result = float(hdi[hdi[\"code\"] == x][\"HDI\"].values[0])\n",
    "    return result\n",
    "\n",
    "df[\"HDI\"] = df.apply(lambda x: func(x[\"code\"]), axis=1)"
   ],
   "metadata": {
    "collapsed": false
   }
  },
  {
   "cell_type": "code",
   "execution_count": 92,
   "outputs": [],
   "source": [
    "# 2021 based on https://hdr.undp.org/system/files/documents/global-report-document/hdr2021-22pdf_1.pdf  S.268\n",
    "hdi_classes = {\"very_high\": [0.8,1], \"high\": [0.700,0.799], \"medium\": [0.55,0.699], \"low\": [0,0.549]}\n",
    "def func(x):\n",
    "    if x == 999:\n",
    "        return \"unclassified\"\n",
    "    if x <= hdi_classes[\"low\"][1]:\n",
    "        return \"low\"\n",
    "    if hdi_classes[\"medium\"][0] <= x <= hdi_classes[\"medium\"][1]:\n",
    "        return \"medium\"\n",
    "    if hdi_classes[\"high\"][0] <= x <= hdi_classes[\"high\"][1]:\n",
    "        return \"high\"\n",
    "    if hdi_classes[\"very_high\"][0] <= x:\n",
    "        return \"very_high\"\n",
    "    print(x)\n",
    "\n",
    "df[\"hdi_code\"] = df.apply(lambda x: func(x[\"HDI\"]), axis=1)"
   ],
   "metadata": {
    "collapsed": false
   }
  },
  {
   "cell_type": "code",
   "execution_count": 93,
   "outputs": [],
   "source": [
    "df[\"hdi_name\"] = df.apply(lambda x: x[\"hdi_code\"].replace(\"_\", \" \").title(), axis=1)"
   ],
   "metadata": {
    "collapsed": false
   }
  },
  {
   "cell_type": "code",
   "execution_count": 104,
   "outputs": [],
   "source": [
    "regions_ = {\"Europe\": [50.954692, 14.710857],\"Asia\": [35.459903, 79.899961],\"Americas\": [9.816245, -83.985292 ], \"Oceania\": [-24.155138, 144.572012 ],\"Africa\": [3.018519, 23.495710 ]}\n",
    "\n",
    "sub_regions = {\"Southern Europe\": [43.078547129148966, 11.322942551609177],\"Western Asia\": [29.55756090313516, 42.44329454726712],\"Southern Asia\": [29.706997, 70.905342], \"Latin America and the Caribbean\": [-3.217065, -64.771275 ],\"Western Europe\": [ 49.269893, 5.539730 ], \"Australia and New Zealand\": [-35.069432, 154.953651],\"Eastern Europe\": [61.225572, 58.129048 ],\"Sub-Saharan Africa\": [ -6.846378, 23.645431 ],\"South-eastern Asia\": [3.7475381775653744, 116.05633077644896],\"Northern America\": [46.273467, -102.378211 ],\"Eastern Asia\": [40.612380, 108.240696 ],\"Northern Europe\": [60.439321, 8.110377 ],\"Northern Africa\": [23.728513, 13.013446 ],\"Central Asia\": [45.52807689959419, 66.85787353846288],\"Melanesia\": [-10.293643, 150.675081],\"Polynesia\": [-12.974755091871536, -166.8581651283315]}\n",
    "\n",
    "hdi_coords = {\"very_high\": [50.25975902640112, -32.297410847209406], \"high\": [-7.9309896818122585, -50.227096820785555], \"medium\": [21.57354521069637, 79.06000344355911], \"low\": [3.2917489651292065, 25.44672584500442], \"unclassified\": [0,0]}\n"
   ],
   "metadata": {
    "collapsed": false
   }
  },
  {
   "cell_type": "code",
   "execution_count": 95,
   "outputs": [],
   "source": [
    "# def func(x):\n",
    "#     bbox = (eval(x)[1],eval(x)[0],eval(x)[3],eval(x)[2])\n",
    "#     return box(*bbox, ccw=True)\n",
    "# df[\"polygon\"] = df.apply(lambda x: func(x[\"bbox\"]), axis=1)"
   ],
   "metadata": {
    "collapsed": false
   }
  },
  {
   "cell_type": "code",
   "execution_count": 96,
   "outputs": [],
   "source": [
    "# def centroids(typ):\n",
    "#     obj = {}\n",
    "#     for i in list(df[f\"{typ}_name\"].unique()):\n",
    "#         polygons = list(df[df[f\"{typ}_name\"] == i][\"polygon\"])\n",
    "#         u = union_all(polygons)\n",
    "#         obj[i] = u.centroid\n",
    "#     df[f\"{typ}_lat\"] = df.apply(lambda x: obj[x[f\"{typ}_name\"]].xy[0][0], axis=1)\n",
    "#     df[f\"{typ}_lon\"] = df.apply(lambda x: obj[x[f\"{typ}_name\"]].xy[1][0], axis=1)"
   ],
   "metadata": {
    "collapsed": false
   }
  },
  {
   "cell_type": "code",
   "execution_count": 97,
   "outputs": [],
   "source": [
    "# gpd.GeoSeries(list(df[f\"polygon\"].unique())).plot()"
   ],
   "metadata": {
    "collapsed": false
   }
  },
  {
   "cell_type": "code",
   "execution_count": 98,
   "outputs": [],
   "source": [
    "# def centroids(typ):\n",
    "#     obj = {}\n",
    "#     for i in list(df[f\"{typ}_name\"].unique()):\n",
    "#         lats = df[df[f\"{typ}_name\"] == i][\"lat\"]\n",
    "#         lons = df[df[f\"{typ}_name\"] == i][\"lon\"]\n",
    "#         lat = sum(lats)/len(lats)\n",
    "#         lon = sum(lons)/len(lons)\n",
    "#         obj[i] = [lat,lon]\n",
    "#\n",
    "#     df[f\"{typ}_lat\"] = df.apply(lambda x: obj[x[f\"{typ}_name\"]][0], axis=1)\n",
    "#     df[f\"{typ}_lon\"] = df.apply(lambda x: obj[x[f\"{typ}_name\"]][1], axis=1)"
   ],
   "metadata": {
    "collapsed": false
   }
  },
  {
   "cell_type": "code",
   "execution_count": 99,
   "outputs": [],
   "source": [
    "# def centroids(typ):\n",
    "#     obj = {}\n",
    "#     for i in list(df[f\"{typ}_name\"].unique()):\n",
    "#         polygons = list(df[df[f\"{typ}_name\"] == i][\"polygon\"])\n",
    "#         u = union_all(polygons)\n",
    "#         obj[i] = u.centroid\n",
    "#     df[f\"{typ}_lat\"] = df.apply(lambda x: obj[x[f\"{typ}_name\"]].xy[0][0], axis=1)\n",
    "#     df[f\"{typ}_lon\"] = df.apply(lambda x: obj[x[f\"{typ}_name\"]].xy[1][0], axis=1)\n",
    "#\n",
    "# df[\"region2_name\"] = df[\"region_name\"]\n",
    "# df.loc[df[\"name\"].isin([\"Samoa\",\"American Samoa\"]), \"region2_name\"] = 0"
   ],
   "metadata": {
    "collapsed": false
   }
  },
  {
   "cell_type": "code",
   "execution_count": 111,
   "outputs": [],
   "source": [
    "\n",
    "df[\"region_lat\"] = df.apply(lambda x: regions_[x[\"region_name\"]][0], axis=1)\n",
    "df[\"region_lon\"] = df.apply(lambda x: regions_[x[\"region_name\"]][1], axis=1)\n",
    "df[\"sub_region_lat\"] = df.apply(lambda x: sub_regions[x[\"sub_region_name\"]][0], axis=1)\n",
    "df[\"sub_region_lon\"] = df.apply(lambda x: sub_regions[x[\"sub_region_name\"]][1], axis=1)\n",
    "df[\"hdi_lat\"] = df.apply(lambda x: hdi_coords[x[\"hdi_code\"]][0], axis=1)\n",
    "df[\"hdi_lon\"] = df.apply(lambda x: hdi_coords[x[\"hdi_code\"]][1], axis=1)"
   ],
   "metadata": {
    "collapsed": false
   }
  },
  {
   "cell_type": "code",
   "execution_count": 112,
   "outputs": [
    {
     "data": {
      "text/plain": "    code                  name        lat         lon  region_code  \\\n0     ad               Andorra  42.548654    1.576766        150.0   \n1     ae  United Arab Emirates  23.852060   54.256172        142.0   \n2     af           Afghanistan  33.838806   66.026471        142.0   \n3     al               Albania  40.641090   20.156691        150.0   \n4     am               Armenia  40.605656   44.660395        142.0   \n..   ...                   ...        ...         ...          ...   \n150   hk             Hong Kong  22.279356  114.162550        142.0   \n151   ss           South Sudan   7.265386   30.054890          2.0   \n152   sl          Sierra Leone   8.560284  -11.791922          2.0   \n153   tj            Tajikistan  38.838508   71.042004        142.0   \n154   et              Ethiopia   8.626220   39.616032          2.0   \n\n    region_name  region_lat  region_lon  sub_region_code     sub_region_name  \\\n0        Europe   50.954692   14.710857             39.0     Southern Europe   \n1          Asia   35.459903   79.899961            145.0        Western Asia   \n2          Asia   35.459903   79.899961             34.0       Southern Asia   \n3        Europe   50.954692   14.710857             39.0     Southern Europe   \n4          Asia   35.459903   79.899961            145.0        Western Asia   \n..          ...         ...         ...              ...                 ...   \n150        Asia   35.459903   79.899961             30.0        Eastern Asia   \n151      Africa    3.018519   23.495710            202.0  Sub-Saharan Africa   \n152      Africa    3.018519   23.495710            202.0  Sub-Saharan Africa   \n153        Asia   35.459903   79.899961            143.0        Central Asia   \n154      Africa    3.018519   23.495710            202.0  Sub-Saharan Africa   \n\n     sub_region_lat  sub_region_lon   hdi_code   hdi_name population  \\\n0         43.078547       11.322943  very_high  Very High      77142   \n1         29.557561       42.443295  very_high  Very High    9770529   \n2         29.706997       70.905342        low        Low   38041754   \n3         43.078547       11.322943       high       High    2854191   \n4         29.557561       42.443295       high       High    2957731   \n..              ...             ...        ...        ...        ...   \n150       40.612380      108.240696  very_high  Very High    7507400   \n151       -6.846378       23.645431        low        Low   11062113   \n152       -6.846378       23.645431        low        Low    7813215   \n153       45.528077       66.857874     medium     Medium    9321018   \n154       -6.846378       23.645431        low        Low  112078730   \n\n    destination_only    hdi_lat    hdi_lon  \n0              False  50.259759 -32.297411  \n1              False  50.259759 -32.297411  \n2              False   3.291749  25.446726  \n3              False  -7.930990 -50.227097  \n4              False  -7.930990 -50.227097  \n..               ...        ...        ...  \n150             True  50.259759 -32.297411  \n151             True   3.291749  25.446726  \n152             True   3.291749  25.446726  \n153             True  21.573545  79.060003  \n154             True   3.291749  25.446726  \n\n[155 rows x 18 columns]",
      "text/html": "<div>\n<style scoped>\n    .dataframe tbody tr th:only-of-type {\n        vertical-align: middle;\n    }\n\n    .dataframe tbody tr th {\n        vertical-align: top;\n    }\n\n    .dataframe thead th {\n        text-align: right;\n    }\n</style>\n<table border=\"1\" class=\"dataframe\">\n  <thead>\n    <tr style=\"text-align: right;\">\n      <th></th>\n      <th>code</th>\n      <th>name</th>\n      <th>lat</th>\n      <th>lon</th>\n      <th>region_code</th>\n      <th>region_name</th>\n      <th>region_lat</th>\n      <th>region_lon</th>\n      <th>sub_region_code</th>\n      <th>sub_region_name</th>\n      <th>sub_region_lat</th>\n      <th>sub_region_lon</th>\n      <th>hdi_code</th>\n      <th>hdi_name</th>\n      <th>population</th>\n      <th>destination_only</th>\n      <th>hdi_lat</th>\n      <th>hdi_lon</th>\n    </tr>\n  </thead>\n  <tbody>\n    <tr>\n      <th>0</th>\n      <td>ad</td>\n      <td>Andorra</td>\n      <td>42.548654</td>\n      <td>1.576766</td>\n      <td>150.0</td>\n      <td>Europe</td>\n      <td>50.954692</td>\n      <td>14.710857</td>\n      <td>39.0</td>\n      <td>Southern Europe</td>\n      <td>43.078547</td>\n      <td>11.322943</td>\n      <td>very_high</td>\n      <td>Very High</td>\n      <td>77142</td>\n      <td>False</td>\n      <td>50.259759</td>\n      <td>-32.297411</td>\n    </tr>\n    <tr>\n      <th>1</th>\n      <td>ae</td>\n      <td>United Arab Emirates</td>\n      <td>23.852060</td>\n      <td>54.256172</td>\n      <td>142.0</td>\n      <td>Asia</td>\n      <td>35.459903</td>\n      <td>79.899961</td>\n      <td>145.0</td>\n      <td>Western Asia</td>\n      <td>29.557561</td>\n      <td>42.443295</td>\n      <td>very_high</td>\n      <td>Very High</td>\n      <td>9770529</td>\n      <td>False</td>\n      <td>50.259759</td>\n      <td>-32.297411</td>\n    </tr>\n    <tr>\n      <th>2</th>\n      <td>af</td>\n      <td>Afghanistan</td>\n      <td>33.838806</td>\n      <td>66.026471</td>\n      <td>142.0</td>\n      <td>Asia</td>\n      <td>35.459903</td>\n      <td>79.899961</td>\n      <td>34.0</td>\n      <td>Southern Asia</td>\n      <td>29.706997</td>\n      <td>70.905342</td>\n      <td>low</td>\n      <td>Low</td>\n      <td>38041754</td>\n      <td>False</td>\n      <td>3.291749</td>\n      <td>25.446726</td>\n    </tr>\n    <tr>\n      <th>3</th>\n      <td>al</td>\n      <td>Albania</td>\n      <td>40.641090</td>\n      <td>20.156691</td>\n      <td>150.0</td>\n      <td>Europe</td>\n      <td>50.954692</td>\n      <td>14.710857</td>\n      <td>39.0</td>\n      <td>Southern Europe</td>\n      <td>43.078547</td>\n      <td>11.322943</td>\n      <td>high</td>\n      <td>High</td>\n      <td>2854191</td>\n      <td>False</td>\n      <td>-7.930990</td>\n      <td>-50.227097</td>\n    </tr>\n    <tr>\n      <th>4</th>\n      <td>am</td>\n      <td>Armenia</td>\n      <td>40.605656</td>\n      <td>44.660395</td>\n      <td>142.0</td>\n      <td>Asia</td>\n      <td>35.459903</td>\n      <td>79.899961</td>\n      <td>145.0</td>\n      <td>Western Asia</td>\n      <td>29.557561</td>\n      <td>42.443295</td>\n      <td>high</td>\n      <td>High</td>\n      <td>2957731</td>\n      <td>False</td>\n      <td>-7.930990</td>\n      <td>-50.227097</td>\n    </tr>\n    <tr>\n      <th>...</th>\n      <td>...</td>\n      <td>...</td>\n      <td>...</td>\n      <td>...</td>\n      <td>...</td>\n      <td>...</td>\n      <td>...</td>\n      <td>...</td>\n      <td>...</td>\n      <td>...</td>\n      <td>...</td>\n      <td>...</td>\n      <td>...</td>\n      <td>...</td>\n      <td>...</td>\n      <td>...</td>\n      <td>...</td>\n      <td>...</td>\n    </tr>\n    <tr>\n      <th>150</th>\n      <td>hk</td>\n      <td>Hong Kong</td>\n      <td>22.279356</td>\n      <td>114.162550</td>\n      <td>142.0</td>\n      <td>Asia</td>\n      <td>35.459903</td>\n      <td>79.899961</td>\n      <td>30.0</td>\n      <td>Eastern Asia</td>\n      <td>40.612380</td>\n      <td>108.240696</td>\n      <td>very_high</td>\n      <td>Very High</td>\n      <td>7507400</td>\n      <td>True</td>\n      <td>50.259759</td>\n      <td>-32.297411</td>\n    </tr>\n    <tr>\n      <th>151</th>\n      <td>ss</td>\n      <td>South Sudan</td>\n      <td>7.265386</td>\n      <td>30.054890</td>\n      <td>2.0</td>\n      <td>Africa</td>\n      <td>3.018519</td>\n      <td>23.495710</td>\n      <td>202.0</td>\n      <td>Sub-Saharan Africa</td>\n      <td>-6.846378</td>\n      <td>23.645431</td>\n      <td>low</td>\n      <td>Low</td>\n      <td>11062113</td>\n      <td>True</td>\n      <td>3.291749</td>\n      <td>25.446726</td>\n    </tr>\n    <tr>\n      <th>152</th>\n      <td>sl</td>\n      <td>Sierra Leone</td>\n      <td>8.560284</td>\n      <td>-11.791922</td>\n      <td>2.0</td>\n      <td>Africa</td>\n      <td>3.018519</td>\n      <td>23.495710</td>\n      <td>202.0</td>\n      <td>Sub-Saharan Africa</td>\n      <td>-6.846378</td>\n      <td>23.645431</td>\n      <td>low</td>\n      <td>Low</td>\n      <td>7813215</td>\n      <td>True</td>\n      <td>3.291749</td>\n      <td>25.446726</td>\n    </tr>\n    <tr>\n      <th>153</th>\n      <td>tj</td>\n      <td>Tajikistan</td>\n      <td>38.838508</td>\n      <td>71.042004</td>\n      <td>142.0</td>\n      <td>Asia</td>\n      <td>35.459903</td>\n      <td>79.899961</td>\n      <td>143.0</td>\n      <td>Central Asia</td>\n      <td>45.528077</td>\n      <td>66.857874</td>\n      <td>medium</td>\n      <td>Medium</td>\n      <td>9321018</td>\n      <td>True</td>\n      <td>21.573545</td>\n      <td>79.060003</td>\n    </tr>\n    <tr>\n      <th>154</th>\n      <td>et</td>\n      <td>Ethiopia</td>\n      <td>8.626220</td>\n      <td>39.616032</td>\n      <td>2.0</td>\n      <td>Africa</td>\n      <td>3.018519</td>\n      <td>23.495710</td>\n      <td>202.0</td>\n      <td>Sub-Saharan Africa</td>\n      <td>-6.846378</td>\n      <td>23.645431</td>\n      <td>low</td>\n      <td>Low</td>\n      <td>112078730</td>\n      <td>True</td>\n      <td>3.291749</td>\n      <td>25.446726</td>\n    </tr>\n  </tbody>\n</table>\n<p>155 rows × 18 columns</p>\n</div>"
     },
     "execution_count": 112,
     "metadata": {},
     "output_type": "execute_result"
    }
   ],
   "source": [
    "# df.drop('region2_name', axis = 1, inplace=True)\n",
    "# df.drop('polygon', axis = 1, inplace=True)\n",
    "# df.drop('bbox', axis = 1, inplace=True)\n",
    "# df.rename(columns={'region2_lat': \"region_lat\", \"region2_lon\": \"region_lon\" }, inplace=True)\n",
    "df"
   ],
   "metadata": {
    "collapsed": false
   }
  },
  {
   "cell_type": "code",
   "execution_count": null,
   "outputs": [],
   "source": [
    "# df.loc[df[\"name\"].isin([\"Samoa\",\"American Samoa\"]), \"region_lat\"] = df.loc[df[\"name\"] == \"Australia\"][\"region_lat\"].values[0]\n",
    "# df.loc[df[\"name\"].isin([\"Samoa\",\"American Samoa\"]), \"region_lon\"] = df.loc[df[\"name\"] == \"Australia\"][\"region_lon\"].values[0]"
   ],
   "metadata": {
    "collapsed": false
   }
  },
  {
   "cell_type": "code",
   "execution_count": 106,
   "outputs": [
    {
     "data": {
      "text/plain": "<Figure size 640x480 with 1 Axes>",
      "image/png": "[encoded data removed]"
     },
     "metadata": {},
     "output_type": "display_data"
    }
   ],
   "source": [
    "plt.scatter(df[\"lon\"], df[\"lat\"])\n",
    "# plt.scatter(df[\"region_lon\"], df[\"region_lat\"], c=\"red\")\n",
    "plt.scatter(df[\"sub_region_lon\"], df[\"sub_region_lat\"], c=\"green\")\n",
    "# plt.scatter(df[\"hdi_lon\"], df[\"hdi_lat\"], c=\"orange\")\n",
    "plt.show()"
   ],
   "metadata": {
    "collapsed": false
   }
  },
  {
   "cell_type": "code",
   "execution_count": null,
   "outputs": [],
   "source": [],
   "metadata": {
    "collapsed": false
   }
  },
  {
   "cell_type": "markdown",
   "source": [],
   "metadata": {
    "collapsed": false
   }
  },
  {
   "cell_type": "code",
   "execution_count": 113,
   "outputs": [
    {
     "data": {
      "text/plain": "    code                  name        lat         lon  region_code  \\\n0     ad               Andorra  42.548654    1.576766        150.0   \n1     ae  United Arab Emirates  23.852060   54.256172        142.0   \n2     af           Afghanistan  33.838806   66.026471        142.0   \n3     al               Albania  40.641090   20.156691        150.0   \n4     am               Armenia  40.605656   44.660395        142.0   \n..   ...                   ...        ...         ...          ...   \n150   hk             Hong Kong  22.279356  114.162550        142.0   \n151   ss           South Sudan   7.265386   30.054890          2.0   \n152   sl          Sierra Leone   8.560284  -11.791922          2.0   \n153   tj            Tajikistan  38.838508   71.042004        142.0   \n154   et              Ethiopia   8.626220   39.616032          2.0   \n\n    region_name  region_lat  region_lon  sub_region_code     sub_region_name  \\\n0        Europe   50.954692   14.710857             39.0     Southern Europe   \n1          Asia   35.459903   79.899961            145.0        Western Asia   \n2          Asia   35.459903   79.899961             34.0       Southern Asia   \n3        Europe   50.954692   14.710857             39.0     Southern Europe   \n4          Asia   35.459903   79.899961            145.0        Western Asia   \n..          ...         ...         ...              ...                 ...   \n150        Asia   35.459903   79.899961             30.0        Eastern Asia   \n151      Africa    3.018519   23.495710            202.0  Sub-Saharan Africa   \n152      Africa    3.018519   23.495710            202.0  Sub-Saharan Africa   \n153        Asia   35.459903   79.899961            143.0        Central Asia   \n154      Africa    3.018519   23.495710            202.0  Sub-Saharan Africa   \n\n     sub_region_lat  sub_region_lon   hdi_code   hdi_name    hdi_lat  \\\n0         43.078547       11.322943  very_high  Very High  50.259759   \n1         29.557561       42.443295  very_high  Very High  50.259759   \n2         29.706997       70.905342        low        Low   3.291749   \n3         43.078547       11.322943       high       High  -7.930990   \n4         29.557561       42.443295       high       High  -7.930990   \n..              ...             ...        ...        ...        ...   \n150       40.612380      108.240696  very_high  Very High  50.259759   \n151       -6.846378       23.645431        low        Low   3.291749   \n152       -6.846378       23.645431        low        Low   3.291749   \n153       45.528077       66.857874     medium     Medium  21.573545   \n154       -6.846378       23.645431        low        Low   3.291749   \n\n       hdi_lon population destination_only  \n0   -32.297411      77142            False  \n1   -32.297411    9770529            False  \n2    25.446726   38041754            False  \n3   -50.227097    2854191            False  \n4   -50.227097    2957731            False  \n..         ...        ...              ...  \n150 -32.297411    7507400             True  \n151  25.446726   11062113             True  \n152  25.446726    7813215             True  \n153  79.060003    9321018             True  \n154  25.446726  112078730             True  \n\n[155 rows x 18 columns]",
      "text/html": "<div>\n<style scoped>\n    .dataframe tbody tr th:only-of-type {\n        vertical-align: middle;\n    }\n\n    .dataframe tbody tr th {\n        vertical-align: top;\n    }\n\n    .dataframe thead th {\n        text-align: right;\n    }\n</style>\n<table border=\"1\" class=\"dataframe\">\n  <thead>\n    <tr style=\"text-align: right;\">\n      <th></th>\n      <th>code</th>\n      <th>name</th>\n      <th>lat</th>\n      <th>lon</th>\n      <th>region_code</th>\n      <th>region_name</th>\n      <th>region_lat</th>\n      <th>region_lon</th>\n      <th>sub_region_code</th>\n      <th>sub_region_name</th>\n      <th>sub_region_lat</th>\n      <th>sub_region_lon</th>\n      <th>hdi_code</th>\n      <th>hdi_name</th>\n      <th>hdi_lat</th>\n      <th>hdi_lon</th>\n      <th>population</th>\n      <th>destination_only</th>\n    </tr>\n  </thead>\n  <tbody>\n    <tr>\n      <th>0</th>\n      <td>ad</td>\n      <td>Andorra</td>\n      <td>42.548654</td>\n      <td>1.576766</td>\n      <td>150.0</td>\n      <td>Europe</td>\n      <td>50.954692</td>\n      <td>14.710857</td>\n      <td>39.0</td>\n      <td>Southern Europe</td>\n      <td>43.078547</td>\n      <td>11.322943</td>\n      <td>very_high</td>\n      <td>Very High</td>\n      <td>50.259759</td>\n      <td>-32.297411</td>\n      <td>77142</td>\n      <td>False</td>\n    </tr>\n    <tr>\n      <th>1</th>\n      <td>ae</td>\n      <td>United Arab Emirates</td>\n      <td>23.852060</td>\n      <td>54.256172</td>\n      <td>142.0</td>\n      <td>Asia</td>\n      <td>35.459903</td>\n      <td>79.899961</td>\n      <td>145.0</td>\n      <td>Western Asia</td>\n      <td>29.557561</td>\n      <td>42.443295</td>\n      <td>very_high</td>\n      <td>Very High</td>\n      <td>50.259759</td>\n      <td>-32.297411</td>\n      <td>9770529</td>\n      <td>False</td>\n    </tr>\n    <tr>\n      <th>2</th>\n      <td>af</td>\n      <td>Afghanistan</td>\n      <td>33.838806</td>\n      <td>66.026471</td>\n      <td>142.0</td>\n      <td>Asia</td>\n      <td>35.459903</td>\n      <td>79.899961</td>\n      <td>34.0</td>\n      <td>Southern Asia</td>\n      <td>29.706997</td>\n      <td>70.905342</td>\n      <td>low</td>\n      <td>Low</td>\n      <td>3.291749</td>\n      <td>25.446726</td>\n      <td>38041754</td>\n      <td>False</td>\n    </tr>\n    <tr>\n      <th>3</th>\n      <td>al</td>\n      <td>Albania</td>\n      <td>40.641090</td>\n      <td>20.156691</td>\n      <td>150.0</td>\n      <td>Europe</td>\n      <td>50.954692</td>\n      <td>14.710857</td>\n      <td>39.0</td>\n      <td>Southern Europe</td>\n      <td>43.078547</td>\n      <td>11.322943</td>\n      <td>high</td>\n      <td>High</td>\n      <td>-7.930990</td>\n      <td>-50.227097</td>\n      <td>2854191</td>\n      <td>False</td>\n    </tr>\n    <tr>\n      <th>4</th>\n      <td>am</td>\n      <td>Armenia</td>\n      <td>40.605656</td>\n      <td>44.660395</td>\n      <td>142.0</td>\n      <td>Asia</td>\n      <td>35.459903</td>\n      <td>79.899961</td>\n      <td>145.0</td>\n      <td>Western Asia</td>\n      <td>29.557561</td>\n      <td>42.443295</td>\n      <td>high</td>\n      <td>High</td>\n      <td>-7.930990</td>\n      <td>-50.227097</td>\n      <td>2957731</td>\n      <td>False</td>\n    </tr>\n    <tr>\n      <th>...</th>\n      <td>...</td>\n      <td>...</td>\n      <td>...</td>\n      <td>...</td>\n      <td>...</td>\n      <td>...</td>\n      <td>...</td>\n      <td>...</td>\n      <td>...</td>\n      <td>...</td>\n      <td>...</td>\n      <td>...</td>\n      <td>...</td>\n      <td>...</td>\n      <td>...</td>\n      <td>...</td>\n      <td>...</td>\n      <td>...</td>\n    </tr>\n    <tr>\n      <th>150</th>\n      <td>hk</td>\n      <td>Hong Kong</td>\n      <td>22.279356</td>\n      <td>114.162550</td>\n      <td>142.0</td>\n      <td>Asia</td>\n      <td>35.459903</td>\n      <td>79.899961</td>\n      <td>30.0</td>\n      <td>Eastern Asia</td>\n      <td>40.612380</td>\n      <td>108.240696</td>\n      <td>very_high</td>\n      <td>Very High</td>\n      <td>50.259759</td>\n      <td>-32.297411</td>\n      <td>7507400</td>\n      <td>True</td>\n    </tr>\n    <tr>\n      <th>151</th>\n      <td>ss</td>\n      <td>South Sudan</td>\n      <td>7.265386</td>\n      <td>30.054890</td>\n      <td>2.0</td>\n      <td>Africa</td>\n      <td>3.018519</td>\n      <td>23.495710</td>\n      <td>202.0</td>\n      <td>Sub-Saharan Africa</td>\n      <td>-6.846378</td>\n      <td>23.645431</td>\n      <td>low</td>\n      <td>Low</td>\n      <td>3.291749</td>\n      <td>25.446726</td>\n      <td>11062113</td>\n      <td>True</td>\n    </tr>\n    <tr>\n      <th>152</th>\n      <td>sl</td>\n      <td>Sierra Leone</td>\n      <td>8.560284</td>\n      <td>-11.791922</td>\n      <td>2.0</td>\n      <td>Africa</td>\n      <td>3.018519</td>\n      <td>23.495710</td>\n      <td>202.0</td>\n      <td>Sub-Saharan Africa</td>\n      <td>-6.846378</td>\n      <td>23.645431</td>\n      <td>low</td>\n      <td>Low</td>\n      <td>3.291749</td>\n      <td>25.446726</td>\n      <td>7813215</td>\n      <td>True</td>\n    </tr>\n    <tr>\n      <th>153</th>\n      <td>tj</td>\n      <td>Tajikistan</td>\n      <td>38.838508</td>\n      <td>71.042004</td>\n      <td>142.0</td>\n      <td>Asia</td>\n      <td>35.459903</td>\n      <td>79.899961</td>\n      <td>143.0</td>\n      <td>Central Asia</td>\n      <td>45.528077</td>\n      <td>66.857874</td>\n      <td>medium</td>\n      <td>Medium</td>\n      <td>21.573545</td>\n      <td>79.060003</td>\n      <td>9321018</td>\n      <td>True</td>\n    </tr>\n    <tr>\n      <th>154</th>\n      <td>et</td>\n      <td>Ethiopia</td>\n      <td>8.626220</td>\n      <td>39.616032</td>\n      <td>2.0</td>\n      <td>Africa</td>\n      <td>3.018519</td>\n      <td>23.495710</td>\n      <td>202.0</td>\n      <td>Sub-Saharan Africa</td>\n      <td>-6.846378</td>\n      <td>23.645431</td>\n      <td>low</td>\n      <td>Low</td>\n      <td>3.291749</td>\n      <td>25.446726</td>\n      <td>112078730</td>\n      <td>True</td>\n    </tr>\n  </tbody>\n</table>\n<p>155 rows × 18 columns</p>\n</div>"
     },
     "execution_count": 113,
     "metadata": {},
     "output_type": "execute_result"
    }
   ],
   "source": [
    "df = df[[\"code\",\"name\",\"lat\",\"lon\",\"region_code\",\"region_name\",\"region_lat\",\"region_lon\",\"sub_region_code\",\"sub_region_name\", \"sub_region_lat\", \"sub_region_lon\",\"hdi_code\",\"hdi_name\",\"hdi_lat\",\"hdi_lon\",\"population\",\"destination_only\",]]\n",
    "df"
   ],
   "metadata": {
    "collapsed": false
   }
  },
  {
   "cell_type": "code",
   "execution_count": 114,
   "metadata": {
    "collapsed": false,
    "jupyter": {
     "outputs_hidden": false
    }
   },
   "outputs": [],
   "source": [
    "df.to_csv(\"../output/processed/countries.csv\", index=False)"
   ]
  }
 ],
 "metadata": {
  "kernelspec": {
   "display_name": "Python 3 (ipykernel)",
   "language": "python",
   "name": "python3"
  },
  "language_info": {
   "codemirror_mode": {
    "name": "ipython",
    "version": 3
   },
   "file_extension": ".py",
   "mimetype": "text/x-python",
   "name": "python",
   "nbconvert_exporter": "python",
   "pygments_lexer": "ipython3",
   "version": "3.8.8"
  }
 },
 "nbformat": 4,
 "nbformat_minor": 4
}
